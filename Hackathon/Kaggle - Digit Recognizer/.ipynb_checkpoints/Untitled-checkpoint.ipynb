{
 "cells": [
  {
   "cell_type": "code",
   "execution_count": null,
   "metadata": {},
   "outputs": [],
   "source": [
    "import pandas as pd\n",
    "import numpy as np\n",
    "import matplotlib\n",
    "%matplotlib inline\n",
    "import warnings\n",
    "warnings.filterwarnings('ignore')"
   ]
  },
  {
   "cell_type": "code",
   "execution_count": null,
   "metadata": {},
   "outputs": [],
   "source": [
    "train = pd.read_csv(\"train.csv\")\n",
    "train.head()"
   ]
  },
  {
   "cell_type": "code",
   "execution_count": null,
   "metadata": {},
   "outputs": [],
   "source": [
    "test = pd.read_csv(\"test.csv\")\n",
    "test.head()"
   ]
  },
  {
   "cell_type": "code",
   "execution_count": null,
   "metadata": {},
   "outputs": [],
   "source": [
    "#Define target and ID columns:\n",
    "target = 'label'\n",
    "IDcol = test.index.values+1\n",
    "test.loc[:,'ImageId']=IDcol\n",
    "IDcol=['ImageId']"
   ]
  },
  {
   "cell_type": "code",
   "execution_count": null,
   "metadata": {},
   "outputs": [],
   "source": [
    "\n",
    "from sklearn import model_selection, metrics\n",
    "from sklearn.metrics import classification_report\n",
    "\n",
    "def modelfit(alg, dtrain, dtest, predictors, target, IDcol, filename):\n",
    "    #Fit the algorithm on the data\n",
    "    alg.fit(dtrain[predictors], dtrain[target])\n",
    "        \n",
    "    #Predict training set:\n",
    "    dtrain_predictions = alg.predict(dtrain[predictors])\n",
    "    kfold = model_selection.KFold(n_splits=10, random_state=7)\n",
    "\n",
    "    #Perform cross-validation:\n",
    "    cv_train_score = model_selection.cross_val_score(alg, dtrain[predictors], dtrain[target], cv=kfold, scoring='accuracy')\n",
    "    #cv_train_score = np.sqrt(np.abs(cv_train_score))\n",
    "    \n",
    "    #Print model report:\n",
    "    print(\"\\nModel Report\")\n",
    "    print(classification_report(dtrain[target].values, dtrain_predictions))\n",
    "    #print(\"Train CV score : \", cv_train_score)\n",
    "    #print(\"Train RMSE : %.4g\" % np.sqrt(metrics.mean_squared_error(dtrain[target].values, dtrain_predictions)))\n",
    "    \n",
    "    #Predict on testing data:\n",
    "    dtest[target] = alg.predict(dtest[predictors])\n",
    "    \n",
    "    #Export submission file:\n",
    "    IDcol.append(target)\n",
    "    submission = pd.DataFrame({ x: dtest[x] for x in IDcol})\n",
    "    submission.to_csv(filename, index=False)"
   ]
  },
  {
   "cell_type": "code",
   "execution_count": 6,
   "metadata": {},
   "outputs": [
    {
     "name": "stdout",
     "output_type": "stream",
     "text": [
      "\n",
      "Model Report\n",
      "             precision    recall  f1-score   support\n",
      "\n",
      "          0       0.92      0.94      0.93      4132\n",
      "          1       0.95      0.95      0.95      4684\n",
      "          2       0.87      0.86      0.87      4177\n",
      "          3       0.85      0.85      0.85      4351\n",
      "          4       0.89      0.89      0.89      4072\n",
      "          5       0.84      0.84      0.84      3795\n",
      "          6       0.92      0.91      0.91      4137\n",
      "          7       0.91      0.91      0.91      4401\n",
      "          8       0.84      0.85      0.85      4063\n",
      "          9       0.87      0.87      0.87      4188\n",
      "\n",
      "avg / total       0.89      0.89      0.89     42000\n",
      "\n"
     ]
    }
   ],
   "source": [
    "from sklearn.tree import DecisionTreeClassifier\n",
    "#DecisionTreeRegressor\n",
    "predictors = [x for x in train.columns if x not in [target]+IDcol]\n",
    "# print predictors\n",
    "alg1 = DecisionTreeClassifier(max_depth=25,min_samples_split=50,min_samples_leaf=10)#DecisionTreeRegressor(max_depth=5, min_samples_split=2,min_samples_leaf=1)\n",
    "modelfit(alg1, train, test, predictors, target, IDcol, 'res7.csv')\n",
    "#coef1 = pd.Series(alg1.coef_, predictors).sort_values()\n",
    "#coef1.plot(kind='bar', title='Model Coefficients')"
   ]
  },
  {
   "cell_type": "code",
   "execution_count": null,
   "metadata": {},
   "outputs": [],
   "source": [
    "from sklearn.ensemble import RandomForestClassifier"
   ]
  },
  {
   "cell_type": "code",
   "execution_count": null,
   "metadata": {},
   "outputs": [],
   "source": [
    "from sklearn.ensemble import RandomForestClassifier\n",
    "#predictors = [x for x in train.columns if x not in [target]+IDcol]\n",
    "# print predictors\n",
    "alg1 = RandomForestClassifier(n_estimators=500,max_depth=15,min_samples_split=50,min_samples_leaf=10,n_jobs=-1)\n",
    "#alg1 = RandomForestRegressor(n_estimators=80,max_depth=15)\n",
    "#alg1 = RandomForestRegressor(n_estimators=500,max_depth=10, min_samples_split=100,min_samples_leaf=50)\n",
    "modelfit(alg1, train, test, predictors, target, IDcol, 'rfpr.csv')\n",
    "#coef1 = pd.Series(alg1.coef_, predictors).sort_values()\n",
    "#coef1.plot(kind='bar', title='Model Coefficients')"
   ]
  },
  {
   "cell_type": "code",
   "execution_count": 17,
   "metadata": {},
   "outputs": [],
   "source": [
    "from sklearn import svm"
   ]
  },
  {
   "cell_type": "code",
   "execution_count": null,
   "metadata": {},
   "outputs": [],
   "source": [
    "alg1 = svm.SVC(C=300,kernel='rbf',gamma=0.01,cache_size=10000,probability=False)\n",
    "#alg1 = RandomForestRegressor(n_estimators=80,max_depth=15)\n",
    "#alg1 = RandomForestRegressor(n_estimators=500,max_depth=10, min_samples_split=100,min_samples_leaf=50)\n",
    "modelfit(alg1, train, test, predictors, target, IDcol, 'svm.csv')\n",
    "#coef1 = pd.Series(alg1.coef_, predictors).sort_values()\n",
    "#coef1.plot(kind='bar', title='Model Coefficients')"
   ]
  }
 ],
 "metadata": {
  "kernelspec": {
   "display_name": "Python 3",
   "language": "python",
   "name": "python3"
  },
  "language_info": {
   "codemirror_mode": {
    "name": "ipython",
    "version": 3
   },
   "file_extension": ".py",
   "mimetype": "text/x-python",
   "name": "python",
   "nbconvert_exporter": "python",
   "pygments_lexer": "ipython3",
   "version": "3.6.5"
  }
 },
 "nbformat": 4,
 "nbformat_minor": 2
}
