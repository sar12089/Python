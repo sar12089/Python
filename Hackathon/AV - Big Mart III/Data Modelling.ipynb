{
 "cells": [
  {
   "cell_type": "code",
   "execution_count": null,
   "metadata": {},
   "outputs": [],
   "source": [
    "import pandas as pd\n",
    "import numpy as np\n",
    "import matplotlib\n",
    "%matplotlib inline\n",
    "import warnings\n",
    "warnings.filterwarnings('ignore')"
   ]
  },
  {
   "cell_type": "code",
   "execution_count": null,
   "metadata": {},
   "outputs": [],
   "source": [
    "train = pd.read_csv(\"train_ready_for_model.csv\")\n",
    "train.head()"
   ]
  },
  {
   "cell_type": "code",
   "execution_count": null,
   "metadata": {},
   "outputs": [],
   "source": [
    "test = pd.read_csv(\"test_ready_for_model.csv\")\n",
    "test.head()"
   ]
  },
  {
   "cell_type": "code",
   "execution_count": 188,
   "metadata": {},
   "outputs": [
    {
     "data": {
      "text/html": [
       "<div>\n",
       "<style scoped>\n",
       "    .dataframe tbody tr th:only-of-type {\n",
       "        vertical-align: middle;\n",
       "    }\n",
       "\n",
       "    .dataframe tbody tr th {\n",
       "        vertical-align: top;\n",
       "    }\n",
       "\n",
       "    .dataframe thead th {\n",
       "        text-align: right;\n",
       "    }\n",
       "</style>\n",
       "<table border=\"1\" class=\"dataframe\">\n",
       "  <thead>\n",
       "    <tr style=\"text-align: right;\">\n",
       "      <th></th>\n",
       "      <th>Outlet_Identifier</th>\n",
       "      <th>Item_Identifier</th>\n",
       "    </tr>\n",
       "  </thead>\n",
       "  <tbody>\n",
       "    <tr>\n",
       "      <th>0</th>\n",
       "      <td>OUT049</td>\n",
       "      <td>FDW58</td>\n",
       "    </tr>\n",
       "    <tr>\n",
       "      <th>1</th>\n",
       "      <td>OUT017</td>\n",
       "      <td>FDW14</td>\n",
       "    </tr>\n",
       "    <tr>\n",
       "      <th>2</th>\n",
       "      <td>OUT010</td>\n",
       "      <td>NCN55</td>\n",
       "    </tr>\n",
       "    <tr>\n",
       "      <th>3</th>\n",
       "      <td>OUT017</td>\n",
       "      <td>FDQ58</td>\n",
       "    </tr>\n",
       "    <tr>\n",
       "      <th>4</th>\n",
       "      <td>OUT027</td>\n",
       "      <td>FDY38</td>\n",
       "    </tr>\n",
       "  </tbody>\n",
       "</table>\n",
       "</div>"
      ],
      "text/plain": [
       "  Outlet_Identifier Item_Identifier\n",
       "0            OUT049           FDW58\n",
       "1            OUT017           FDW14\n",
       "2            OUT010           NCN55\n",
       "3            OUT017           FDQ58\n",
       "4            OUT027           FDY38"
      ]
     },
     "execution_count": 188,
     "metadata": {},
     "output_type": "execute_result"
    }
   ],
   "source": [
    "result = test[[\"Outlet_Identifier\",\"Item_Identifier\"]]\n",
    "result.head()"
   ]
  },
  {
   "cell_type": "code",
   "execution_count": 189,
   "metadata": {},
   "outputs": [
    {
     "data": {
      "text/plain": [
       "Index(['Item_Fat_Content_Low Fat', 'Item_Fat_Content_Regular',\n",
       "       'Item_Type_Baking Goods', 'Item_Type_Breads', 'Item_Type_Breakfast',\n",
       "       'Item_Type_Canned', 'Item_Type_Dairy', 'Item_Type_Frozen Foods',\n",
       "       'Item_Type_Fruits and Vegetables', 'Item_Type_Hard Drinks',\n",
       "       ...\n",
       "       'Item_MRP_Outlet_Type_Supermarket Type3_Outlet_Type_Supermarket Type3_Outlet_Identifier_OUT027_Item_MRP_Outlet_Type_Supermarket Type3_Outlet_Size_Medium_Outlet_Identifier_OUT027',\n",
       "       'Item_MRP_Outlet_Type_Supermarket Type3_Outlet_Type_Supermarket Type3_Outlet_Identifier_OUT027_Item_MRP_Outlet_Identifier_OUT027_Outlet_Type_Supermarket Type3_Outlet_Size_Medium',\n",
       "       'Item_MRP_Outlet_Type_Supermarket Type3_Outlet_Type_Supermarket Type3_Outlet_Identifier_OUT027_Item_MRP_Outlet_Identifier_OUT027_Outlet_Type_Supermarket Type3_Outlet_Identifier_OUT027',\n",
       "       'Item_MRP_Outlet_Type_Supermarket Type3_Outlet_Type_Supermarket Type3_Outlet_Identifier_OUT027_Item_MRP_Outlet_Identifier_OUT027_Outlet_Size_Medium_Outlet_Identifier_OUT027',\n",
       "       'Item_MRP_Outlet_Type_Supermarket Type3_Outlet_Size_Medium_Outlet_Identifier_OUT027_Item_MRP_Outlet_Identifier_OUT027_Outlet_Type_Supermarket Type3_Outlet_Size_Medium',\n",
       "       'Item_MRP_Outlet_Type_Supermarket Type3_Outlet_Size_Medium_Outlet_Identifier_OUT027_Item_MRP_Outlet_Identifier_OUT027_Outlet_Type_Supermarket Type3_Outlet_Identifier_OUT027',\n",
       "       'Item_MRP_Outlet_Type_Supermarket Type3_Outlet_Size_Medium_Outlet_Identifier_OUT027_Item_MRP_Outlet_Identifier_OUT027_Outlet_Size_Medium_Outlet_Identifier_OUT027',\n",
       "       'Item_MRP_Outlet_Identifier_OUT027_Outlet_Type_Supermarket Type3_Outlet_Size_Medium_Item_MRP_Outlet_Identifier_OUT027_Outlet_Type_Supermarket Type3_Outlet_Identifier_OUT027',\n",
       "       'Item_MRP_Outlet_Identifier_OUT027_Outlet_Type_Supermarket Type3_Outlet_Size_Medium_Item_MRP_Outlet_Identifier_OUT027_Outlet_Size_Medium_Outlet_Identifier_OUT027',\n",
       "       'Item_MRP_Outlet_Identifier_OUT027_Outlet_Type_Supermarket Type3_Outlet_Identifier_OUT027_Item_MRP_Outlet_Identifier_OUT027_Outlet_Size_Medium_Outlet_Identifier_OUT027'],\n",
       "      dtype='object', length=649)"
      ]
     },
     "execution_count": 189,
     "metadata": {},
     "output_type": "execute_result"
    }
   ],
   "source": [
    "train.columns"
   ]
  },
  {
   "cell_type": "markdown",
   "metadata": {
    "scrolled": true
   },
   "source": [
    "target = 'Item_Outlet_Sales'\n",
    "IDcol = ['Item_Identifier','Outlet_Identifier']\n",
    "import pandas as pd\n",
    "from sklearn.ensemble import RandomForestRegressor\n",
    "from sklearn.linear_model import LinearRegression\n",
    "from sklearn import model_selection, metrics\n",
    "from boruta import BorutaPy\n",
    "predictors = [x for x in train.columns if x not in [target]+IDcol]\n",
    "X=train[predictors].values\n",
    "y=train[target].values\n",
    "y=y.ravel()\n",
    "rf =  LinearRegression()\n",
    "feat_selector = BorutaPy(rf, n_estimators='auto', verbose=2, random_state=1)\n",
    "feat_selector.fit(X,y)\n",
    "feat_selector.support_\n"
   ]
  },
  {
   "cell_type": "markdown",
   "metadata": {},
   "source": [
    "print(np.where(feat_selector.support_))\n",
    "train[['Outlet_Identifier_OUT010'\n",
    "'Outlet_Location_Type_Tier 3',\n",
    "'Outlet_Type_Supermarket Type2',\n",
    "'Item_Identifier_Pattern_NC',\n",
    "'Outlet_Type_Pattern_Grocery',\n",
    "'Outlet_Type_Pattern_SuperMarket',\n",
    "'Item_Weight']].head()"
   ]
  },
  {
   "cell_type": "markdown",
   "metadata": {},
   "source": [
    "feat_selector.ranking_"
   ]
  },
  {
   "cell_type": "code",
   "execution_count": 190,
   "metadata": {},
   "outputs": [],
   "source": [
    "#Define target and ID columns:\n",
    "target = 'Item_Outlet_Sales'\n",
    "IDcol = ['Item_Identifier','Outlet_Identifier']\n",
    "from sklearn import model_selection, metrics\n",
    "\n",
    "def modelfit(alg, dtrain, dtest, predictors, target, IDcol, filename):\n",
    "    #Fit the algorithm on the data\n",
    "    alg.fit(dtrain[predictors], dtrain[target])\n",
    "        \n",
    "    #Predict training set:\n",
    "    dtrain_predictions = alg.predict(dtrain[predictors])\n",
    "\n",
    "    #Perform cross-validation:\n",
    "    #cv_train_score = model_selection.cross_val_score(alg, dtrain[predictors], dtrain[target], cv=20, scoring='neg_mean_squared_error')\n",
    "    #cv_train_score = np.sqrt(np.abs(cv_train_score))\n",
    "    \n",
    "    #Print model report:\n",
    "    print(\"\\nModel Report\")\n",
    "    #print(\"Train CV score : \", cv_train_score)\n",
    "    print(\"Train RMSE : %.4g\" % np.sqrt(metrics.mean_squared_error(dtrain[target].values, dtrain_predictions)))\n",
    "    \n",
    "    #Predict on testing data:\n",
    "    dtest[target] = alg.predict(dtest[predictors])\n",
    "    \n",
    "    #Export submission file:\n",
    "    IDcol.append(target)\n",
    "    submission = pd.DataFrame({ x: dtest[x] for x in IDcol})\n",
    "    submission.to_csv(filename, index=False)"
   ]
  },
  {
   "cell_type": "code",
   "execution_count": 191,
   "metadata": {},
   "outputs": [
    {
     "name": "stdout",
     "output_type": "stream",
     "text": [
      "\n",
      "Model Report\n",
      "Train RMSE : 1067\n"
     ]
    }
   ],
   "source": [
    "from sklearn.linear_model import LinearRegression\n",
    "predictors = [x for x in train.columns if x not in [target]+IDcol]\n",
    "#print(\"predictors : \",predictors)\n",
    "# print predictors\n",
    "alg1 = LinearRegression(normalize=False)\n",
    "modelfit(alg1, train, test, predictors, target, IDcol, 'res2.csv')\n",
    "#coef1 = pd.Series(alg1.coef_, predictors).sort_values()\n",
    "#print(coef1)\n",
    "#coef1.plot(kind='bar', title='Model Coefficients')"
   ]
  },
  {
   "cell_type": "code",
   "execution_count": 194,
   "metadata": {},
   "outputs": [
    {
     "name": "stdout",
     "output_type": "stream",
     "text": [
      "\n",
      "Model Report\n",
      "Train RMSE : 1067\n"
     ]
    }
   ],
   "source": [
    "from sklearn.linear_model import Ridge\n",
    "predictors = [x for x in train.columns if x not in [target]+IDcol]\n",
    "#print(\"predictors : \",predictors)\n",
    "# print predictors\n",
    "alg1 = Ridge(alpha=0.65, solver='auto',normalize=False)\n",
    "#Ridge(alpha = 1.0,normalize=)\n",
    "modelfit(alg1, train, test, predictors, target, IDcol, 'res3.csv')\n",
    "#coef1 = pd.Series(alg1.coef_, predictors).sort_values()\n",
    "#coef1.plot(kind='bar', title='Model Coefficients')"
   ]
  },
  {
   "cell_type": "code",
   "execution_count": 60,
   "metadata": {},
   "outputs": [
    {
     "name": "stdout",
     "output_type": "stream",
     "text": [
      "\n",
      "Model Report\n",
      "Train RMSE : 1069\n"
     ]
    }
   ],
   "source": [
    "from sklearn.linear_model import Lasso\n",
    "#predictors = [x for x in train.columns if x not in [target]+IDcol]\n",
    "# print predictors\n",
    "alg1 = Lasso(alpha=.5\n",
    "             ,    normalize=False)\n",
    "#Lasso(alpha = 1)\n",
    "modelfit(alg1, train, test, predictors, target, IDcol, 'res4.csv')\n",
    "#coef1 = pd.Series(alg1.coef_, predictors).sort_values()\n",
    "#coef1.plot(kind='bar', title='Model Coefficients')"
   ]
  },
  {
   "cell_type": "code",
   "execution_count": 173,
   "metadata": {},
   "outputs": [
    {
     "name": "stdout",
     "output_type": "stream",
     "text": [
      "\n",
      "Model Report\n",
      "Train CV score :  [1146.89227504 1046.89629022 1070.7626526  1088.00364683 1092.77212548\n",
      " 1060.82917643 1030.60402888 1070.73127246 1092.29857507 1069.58834728\n",
      " 1015.12495228 1090.62870685 1075.08051842 1024.83889979 1009.23750308\n",
      " 1147.13502858 1109.46500903 1006.54017178 1149.52547509 1039.94984195]\n",
      "Train RMSE : 1069\n"
     ]
    }
   ],
   "source": [
    "from sklearn.linear_model import ElasticNet\n",
    "predictors = [x for x in train.columns if x not in [target]+IDcol]\n",
    "# print predictors\n",
    "alg1 = ElasticNet(alpha=0.6,l1_ratio=0.4,normalize=False,selection= 'random')\n",
    "#ElasticNet(alpha=0.01,l1_ratio=0.5,normalize=True)\n",
    "modelfit(alg1, train, test, predictors, target, IDcol, 'res5.csv')\n",
    "#coef1 = pd.Series(alg1.coef_, predictors).sort_values()\n",
    "#coef1.plot(kind='bar', title='Model Coefficients')"
   ]
  },
  {
   "cell_type": "code",
   "execution_count": 12,
   "metadata": {},
   "outputs": [],
   "source": [
    "from sklearn.neighbors import KNeighborsRegressor"
   ]
  },
  {
   "cell_type": "code",
   "execution_count": 13,
   "metadata": {},
   "outputs": [
    {
     "name": "stdout",
     "output_type": "stream",
     "text": [
      "\n",
      "Model Report\n",
      "Train CV score :  [2320.91726291 2322.96027584 2061.1738995  1760.88682998 1676.47073596\n",
      " 1630.42298918 1609.44802353 1482.51773668 1573.46695769 1445.24719286\n",
      " 1504.70307406 1577.62768705 1667.18146267 1322.92246894 1581.90731645\n",
      " 1596.66053537 1629.21892572 1423.92706911 1558.66108226 1613.59990255]\n",
      "Train RMSE : 0\n",
      "\n",
      "Model Report\n",
      "Train CV score :  [2283.60821131 2092.87505125 1770.4450987  1554.09301891 1522.84869218\n",
      " 1373.89369981 1370.96097368 1390.32691661 1363.76848304 1257.33944097\n",
      " 1309.44476501 1380.2063592  1478.89295789 1256.18155838 1359.15579171\n",
      " 1411.14559337 1473.99577676 1300.29457244 1407.76953467 1441.73098291]\n",
      "Train RMSE : 806.4\n",
      "\n",
      "Model Report\n",
      "Train CV score :  [2244.98032094 1959.72542316 1693.93715525 1564.79068495 1467.20032461\n",
      " 1354.24454978 1352.11502422 1371.96858562 1303.7371964  1228.34385779\n",
      " 1283.72353266 1271.97554223 1392.37270439 1199.9561323  1252.45446233\n",
      " 1385.66947032 1411.69304341 1253.9301169  1388.76723829 1363.48973721]\n",
      "Train RMSE : 944.7\n",
      "\n",
      "Model Report\n",
      "Train CV score :  [2275.86063896 1898.25371039 1696.60492248 1535.40449227 1487.62197346\n",
      " 1326.37956994 1354.11969565 1378.06311652 1267.55915566 1219.22999613\n",
      " 1285.77804389 1232.76775574 1395.70910501 1201.54220035 1233.36666885\n",
      " 1361.49980188 1427.95441741 1219.08093348 1370.64382449 1354.29882864]\n",
      "Train RMSE : 1023\n",
      "\n",
      "Model Report\n",
      "Train CV score :  [2241.31582423 1903.19901192 1677.85398765 1520.85048775 1481.55569307\n",
      " 1333.1703849  1323.81433277 1400.48653231 1263.11961985 1225.1353048\n",
      " 1280.068749   1197.5734914  1383.50106196 1192.49007017 1241.06638109\n",
      " 1375.965997   1401.62158337 1233.89216831 1383.93139507 1327.14884238]\n",
      "Train RMSE : 1078\n",
      "\n",
      "Model Report\n",
      "Train CV score :  [2244.87740151 1881.75678475 1675.75142668 1549.68729081 1492.66903049\n",
      " 1347.24985357 1317.004347   1425.96092106 1271.94609426 1224.17372072\n",
      " 1267.34711378 1213.04395659 1328.48821305 1185.96899731 1240.16242475\n",
      " 1378.2422822  1408.16644728 1233.39068355 1390.98563798 1339.24406825]\n",
      "Train RMSE : 1121\n",
      "\n",
      "Model Report\n",
      "Train CV score :  [2260.36813143 1861.76414008 1697.68214758 1578.29282923 1517.27294734\n",
      " 1349.98355289 1320.22396218 1444.24773445 1266.89274672 1210.94748491\n",
      " 1275.0835845  1230.81969589 1315.47001538 1194.17987726 1220.89411679\n",
      " 1372.85138604 1400.23078717 1221.80812454 1402.36216792 1344.07542881]\n",
      "Train RMSE : 1155\n",
      "\n",
      "Model Report\n",
      "Train CV score :  [2259.93916631 1844.56507626 1708.77933328 1599.08467617 1526.03546905\n",
      " 1350.98161642 1337.75630724 1465.04388365 1265.69134594 1225.68934679\n",
      " 1305.97319754 1242.023394   1293.28247764 1190.47036229 1231.94492678\n",
      " 1358.2651386  1417.7161952  1224.7908795  1399.68393574 1345.43262156]\n",
      "Train RMSE : 1184\n",
      "\n",
      "Model Report\n",
      "Train CV score :  [2257.76441021 1829.61048506 1718.17342468 1607.0801913  1531.59196418\n",
      " 1369.27091457 1356.18368194 1464.0731045  1270.02295912 1221.9392295\n",
      " 1321.19104985 1242.10856606 1303.44008005 1195.48369425 1243.39092092\n",
      " 1361.20272463 1425.99312701 1245.57449131 1419.91462594 1339.26764841]\n",
      "Train RMSE : 1208\n",
      "\n",
      "Model Report\n",
      "Train CV score :  [2268.40252329 1819.66693159 1723.88740286 1633.66770002 1542.53216569\n",
      " 1374.5809047  1366.93504105 1476.60608341 1289.4718026  1231.82853258\n",
      " 1315.28400441 1246.69324649 1310.78000297 1202.61012823 1245.30812093\n",
      " 1356.89219482 1422.58686191 1254.41455985 1432.32048131 1360.37658073]\n",
      "Train RMSE : 1231\n",
      "\n",
      "Model Report\n",
      "Train CV score :  [2286.68763362 1817.40764288 1730.15485664 1644.3930887  1555.86825605\n",
      " 1382.5694911  1378.64076331 1483.51341429 1307.6395952  1236.84287212\n",
      " 1328.57137716 1247.257103   1324.27784158 1211.53187836 1248.43162503\n",
      " 1376.72184333 1436.4759622  1258.91328287 1448.65318892 1388.58674097]\n",
      "Train RMSE : 1251\n",
      "\n",
      "Model Report\n",
      "Train CV score :  [2290.17220398 1811.35437814 1733.38097151 1654.37383008 1560.85928164\n",
      " 1385.47884517 1394.24082948 1498.01234488 1323.26951734 1249.51340961\n",
      " 1330.00915622 1255.15553511 1324.46905963 1214.67696634 1253.34512802\n",
      " 1385.97145771 1439.12416903 1262.55563808 1455.60760805 1391.07433765]\n",
      "Train RMSE : 1268\n",
      "\n",
      "Model Report\n",
      "Train CV score :  [2291.39402973 1809.83119655 1745.25646797 1672.37398464 1568.90616589\n",
      " 1392.964478   1400.03954927 1507.86689554 1336.92670246 1263.939619\n",
      " 1353.16388121 1262.39077961 1316.35223731 1217.79998386 1262.85876398\n",
      " 1379.2326982  1446.95189002 1262.31720694 1461.74261334 1395.33547293]\n",
      "Train RMSE : 1284\n",
      "\n",
      "Model Report\n",
      "Train CV score :  [2300.04005316 1816.95194016 1754.43863225 1679.00956413 1575.74474982\n",
      " 1404.79310303 1409.42765808 1513.26058864 1347.23407768 1275.65970682\n",
      " 1364.39776283 1269.09523256 1322.85017366 1223.81403389 1275.05601736\n",
      " 1381.93909817 1464.43593493 1265.63618502 1478.30013294 1414.4359965 ]\n",
      "Train RMSE : 1298\n",
      "\n",
      "Model Report\n",
      "Train CV score :  [2309.26959725 1822.83861612 1762.56682682 1680.63393661 1582.81662261\n",
      " 1411.55144831 1422.03498217 1528.75364106 1356.47960421 1281.34913735\n",
      " 1374.3279096  1276.01420678 1327.49516281 1231.44343159 1287.7975794\n",
      " 1388.88074186 1479.99397316 1282.12918758 1492.54456387 1415.80548302]\n",
      "Train RMSE : 1313\n",
      "\n",
      "Model Report\n",
      "Train CV score :  [2317.27017809 1826.11468832 1764.27117864 1683.95673772 1593.90297119\n",
      " 1431.8626597  1435.49935315 1538.86642727 1370.12878233 1289.48629873\n",
      " 1386.32978225 1284.52645499 1332.48337292 1247.86918696 1297.61714941\n",
      " 1412.87710857 1485.67748215 1292.76854258 1497.04122817 1414.25136367]\n",
      "Train RMSE : 1328\n",
      "\n",
      "Model Report\n",
      "Train CV score :  [2323.60673069 1822.45408884 1767.72993734 1688.07410154 1597.27381798\n",
      " 1445.94466856 1443.00041883 1553.46352107 1375.90442595 1299.42141734\n",
      " 1396.75303591 1296.18226669 1343.78282856 1254.80558275 1295.98622917\n",
      " 1421.72218052 1493.93141734 1296.91049812 1500.85168105 1421.70472982]\n",
      "Train RMSE : 1341\n",
      "\n",
      "Model Report\n",
      "Train CV score :  [2325.73317736 1825.36505348 1770.97272789 1699.2031093  1600.28354779\n",
      " 1455.18050725 1450.29181968 1568.05788117 1385.01275517 1309.45425998\n",
      " 1404.19172205 1305.63619428 1355.0227603  1265.68816046 1300.37841023\n",
      " 1423.46209681 1501.08131529 1306.85244277 1509.67252711 1431.15788224]\n",
      "Train RMSE : 1353\n",
      "\n",
      "Model Report\n",
      "Train CV score :  [2322.33461101 1815.90993899 1774.05599198 1702.20255376 1613.91363254\n",
      " 1467.74862239 1455.97695888 1575.99165014 1390.63833082 1319.81466112\n",
      " 1414.25213681 1319.90029537 1365.42152111 1271.58789758 1312.55590069\n",
      " 1431.03118847 1506.70319427 1317.74243178 1512.2311118  1442.59480737]\n",
      "Train RMSE : 1364\n"
     ]
    }
   ],
   "source": [
    "predictors = [x for x in train.columns if x not in [target]+IDcol]\n",
    "# print predictors\n",
    "for i in range(1,20):\n",
    "    alg1 = KNeighborsRegressor(n_neighbors=i)\n",
    "    modelfit(alg1, train, test, predictors, target, IDcol, 'res6.csv')\n",
    "#coef1 = pd.Series(alg1.coef_, predictors).sort_values()\n",
    "#coef1.plot(kind='bar', title='Model Coefficients')"
   ]
  },
  {
   "cell_type": "code",
   "execution_count": 14,
   "metadata": {},
   "outputs": [
    {
     "name": "stdout",
     "output_type": "stream",
     "text": [
      "\n",
      "Model Report\n",
      "Train CV score :  [2244.87740151 1881.75678475 1675.75142668 1549.68729081 1492.66903049\n",
      " 1347.24985357 1317.004347   1425.96092106 1271.94609426 1224.17372072\n",
      " 1267.34711378 1213.04395659 1328.48821305 1185.96899731 1240.16242475\n",
      " 1378.2422822  1408.16644728 1233.39068355 1390.98563798 1339.24406825]\n",
      "Train RMSE : 1121\n"
     ]
    }
   ],
   "source": [
    "predictors = [x for x in train.columns if x not in [target]+IDcol]\n",
    "# print predictors\n",
    "#for i in range(1,20):\n",
    "alg1 = KNeighborsRegressor(n_neighbors=6)\n",
    "modelfit(alg1, train, test, predictors, target, IDcol, 'res6.csv')\n",
    "#coef1 = pd.Series(alg1.coef_, predictors).sort_values()\n",
    "#coef1.plot(kind='bar', title='Model Coefficients')"
   ]
  },
  {
   "cell_type": "code",
   "execution_count": 102,
   "metadata": {},
   "outputs": [],
   "source": [
    "from sklearn.tree import DecisionTreeRegressor"
   ]
  },
  {
   "cell_type": "code",
   "execution_count": 103,
   "metadata": {},
   "outputs": [
    {
     "name": "stdout",
     "output_type": "stream",
     "text": [
      "\n",
      "Model Report\n",
      "Train CV score :  [1482.77990655 1595.56389693 1530.70582011 1654.24996353 1550.31590728\n",
      " 1583.37812298 1426.64903619 1627.24608446 1485.92114907 1541.51591227\n",
      " 1552.20590206 1571.83078299 1486.1766721  1489.6367735  1432.22939648\n",
      " 1531.38945514 1593.78634167 1347.03758002 1561.8048931  1548.56001581]\n",
      "Train RMSE : 8.532e-15\n"
     ]
    }
   ],
   "source": [
    "from sklearn.tree import DecisionTreeRegressor\n",
    "#DecisionTreeRegressor\n",
    "predictors = [x for x in train.columns if x not in [target]+IDcol]\n",
    "# print predictors\n",
    "alg1 = DecisionTreeRegressor(random_state=0)#DecisionTreeRegressor(max_depth=5, min_samples_split=2,min_samples_leaf=1)\n",
    "modelfit(alg1, train, test, predictors, target, IDcol, 'res7.csv')\n",
    "#coef1 = pd.Series(alg1.coef_, predictors).sort_values()\n",
    "#coef1.plot(kind='bar', title='Model Coefficients')"
   ]
  },
  {
   "cell_type": "code",
   "execution_count": 184,
   "metadata": {},
   "outputs": [],
   "source": [
    "predictors=['Outlet_Type_Pattern_SuperMarket_Item_MRP',\n",
    " 'Outlet_Type_Pattern_SuperMarket_Outlet_Type_Pattern_SuperMarket_Item_MRP',\n",
    " 'Item_MRP_Outlet_Type_Pattern_SuperMarket_Item_MRP',\n",
    " 'Outlet_Type_Pattern_SuperMarket_Outlet_Type_Pattern_SuperMarket_Outlet_Type_Pattern_SuperMarket_Item_MRP',\n",
    " 'Outlet_Type_Pattern_SuperMarket_Item_MRP_Outlet_Type_Pattern_SuperMarket_Item_MRP',\n",
    " 'Item_MRP_Outlet_Type_Pattern_SuperMarket_Outlet_Type_Pattern_SuperMarket_Item_MRP',\n",
    " 'Outlet_Type_Pattern_SuperMarket_Item_MRP_Outlet_Type_Pattern_SuperMarket_Outlet_Type_Pattern_SuperMarket_Item_MRP',\n",
    " 'Outlet_Type_Pattern_SuperMarket_Outlet_Type_Pattern_SuperMarket_Outlet_Type_Pattern_SuperMarket_Outlet_Type_Pattern_SuperMarket_Item_MRP',\n",
    " 'Outlet_Type_Pattern_SuperMarket_Outlet_Type_Pattern_SuperMarket_Item_MRP_Outlet_Type_Pattern_SuperMarket_Item_MRP',\n",
    " 'Outlet_Type_Pattern_SuperMarket_Outlet_Type_Pattern_SuperMarket_Item_MRP_Outlet_Type_Pattern_SuperMarket_Outlet_Type_Pattern_SuperMarket_Item_MRP',\n",
    " 'Outlet_Type_Pattern_SuperMarket_Item_MRP_Outlet_Type_Pattern_SuperMarket_Outlet_Type_Pattern_SuperMarket_Outlet_Type_Pattern_SuperMarket_Item_MRP',\n",
    " 'Outlet_Type_Pattern_SuperMarket_Item_MRP_Outlet_Type_Pattern_SuperMarket_Item_MRP_Outlet_Type_Pattern_SuperMarket_Outlet_Type_Pattern_SuperMarket_Item_MRP',\n",
    " 'Outlet_Type_Pattern_SuperMarket_Outlet_Type_Pattern_SuperMarket_Item_MRP_Outlet_Type_Pattern_SuperMarket_Outlet_Type_Pattern_SuperMarket_Outlet_Type_Pattern_SuperMarket_Item_MRP',\n",
    " 'Outlet_Type_Pattern_SuperMarket_Outlet_Type_Pattern_SuperMarket_Item_MRP_Outlet_Type_Pattern_SuperMarket_Item_MRP_Outlet_Type_Pattern_SuperMarket_Item_MRP',\n",
    " 'Outlet_Type_Pattern_SuperMarket_Outlet_Type_Pattern_SuperMarket_Item_MRP_Item_MRP_Outlet_Type_Pattern_SuperMarket_Outlet_Type_Pattern_SuperMarket_Item_MRP',\n",
    " 'Outlet_Type_Pattern_SuperMarket_Outlet_Type_Pattern_SuperMarket_Item_MRP_Outlet_Type_Pattern_SuperMarket_Item_MRP_Outlet_Type_Pattern_SuperMarket_Outlet_Type_Pattern_SuperMarket_Item_MRP',\n",
    " 'Item_MRP_Outlet_Type_Pattern_SuperMarket_Item_MRP_Outlet_Type_Pattern_SuperMarket_Outlet_Type_Pattern_SuperMarket_Outlet_Type_Pattern_SuperMarket_Item_MRP',\n",
    " 'Outlet_Type_Pattern_SuperMarket_Outlet_Type_Pattern_SuperMarket_Outlet_Type_Pattern_SuperMarket_Item_MRP_Outlet_Type_Pattern_SuperMarket_Item_MRP_Outlet_Type_Pattern_SuperMarket_Item_MRP',\n",
    " 'Outlet_Type_Pattern_SuperMarket_Outlet_Type_Pattern_SuperMarket_Outlet_Type_Pattern_SuperMarket_Item_MRP_Item_MRP_Outlet_Type_Pattern_SuperMarket_Outlet_Type_Pattern_SuperMarket_Item_MRP',\n",
    " 'Outlet_Type_Pattern_SuperMarket_Outlet_Type_Pattern_SuperMarket_Outlet_Type_Pattern_SuperMarket_Item_MRP_Outlet_Type_Pattern_SuperMarket_Item_MRP_Outlet_Type_Pattern_SuperMarket_Outlet_Type_Pattern_SuperMarket_Item_MRP']"
   ]
  },
  {
   "cell_type": "code",
   "execution_count": 151,
   "metadata": {},
   "outputs": [
    {
     "name": "stdout",
     "output_type": "stream",
     "text": [
      "\n",
      "Model Report\n",
      "Train CV score :  [1170.62590036 1058.4062642  1086.80624259 1107.04323557 1108.94231643\n",
      " 1079.11495788 1044.44174188 1095.30311602 1106.44068571 1070.74645329\n",
      " 1036.85089773 1108.6450441  1083.04261844 1042.38854709 1011.45557219\n",
      " 1163.5645116  1123.79258539 1015.00816591 1166.80658946 1064.91551364]\n",
      "Train RMSE : 1063\n"
     ]
    }
   ],
   "source": [
    "from sklearn.ensemble import RandomForestRegressor\n",
    "#predictors = [x for x in train.columns if x not in [target]+IDcol]\n",
    "# print predictors\n",
    "alg1 = RandomForestRegressor(n_estimators=1000,max_depth=5, min_samples_split=10,min_samples_leaf=5)\n",
    "#alg1 = RandomForestRegressor(n_estimators=80,max_depth=15)\n",
    "#alg1 = RandomForestRegressor(n_estimators=500,max_depth=10, min_samples_split=100,min_samples_leaf=50)\n",
    "modelfit(alg1, train, test, predictors, target, IDcol, 'res8.csv')\n",
    "#coef1 = pd.Series(alg1.coef_, predictors).sort_values()\n",
    "#coef1.plot(kind='bar', title='Model Coefficients')"
   ]
  },
  {
   "cell_type": "code",
   "execution_count": 92,
   "metadata": {},
   "outputs": [],
   "source": [
    "from sklearn.ensemble import AdaBoostRegressor"
   ]
  },
  {
   "cell_type": "code",
   "execution_count": 118,
   "metadata": {},
   "outputs": [
    {
     "name": "stdout",
     "output_type": "stream",
     "text": [
      "\n",
      "Model Report\n",
      "Train RMSE : 1099\n"
     ]
    }
   ],
   "source": [
    "#predictors = [x for x in train.columns if x not in [target]+IDcol]\n",
    "#print predictors\n",
    "alg1 = AdaBoostRegressor(n_estimators=5 )\n",
    "modelfit(alg1, train, test, predictors, target, IDcol, 'res9.csv')\n",
    "#coef1 = pd.Series(alg1.coef_, predictors).sort_values()\n",
    "#coef1.plot(kind='bar', title='Model Coefficients')"
   ]
  },
  {
   "cell_type": "code",
   "execution_count": 119,
   "metadata": {},
   "outputs": [],
   "source": [
    "from sklearn.ensemble import GradientBoostingRegressor"
   ]
  },
  {
   "cell_type": "code",
   "execution_count": 135,
   "metadata": {},
   "outputs": [
    {
     "name": "stdout",
     "output_type": "stream",
     "text": [
      "\n",
      "Model Report\n",
      "Train RMSE : 485.9\n"
     ]
    }
   ],
   "source": [
    "predictors = [x for x in train.columns if x not in [target]+IDcol]\n",
    "# print predictors\n",
    "#GradientBoostingRegressor(alpha=0.3,n_estimators=100)\n",
    "alg1 = GradientBoostingRegressor(alpha=0.3, criterion='friedman_mse', init=None,\n",
    "             learning_rate=0.2, loss='ls', max_depth=7, max_features=None,\n",
    "             max_leaf_nodes=None, min_impurity_decrease=0.0,\n",
    "             min_impurity_split=None, min_samples_leaf=1,\n",
    "             min_samples_split=2, min_weight_fraction_leaf=0.0,\n",
    "             n_estimators=50, presort='auto', random_state=None,\n",
    "             subsample=1.0, verbose=0, warm_start=False)\n",
    "modelfit(alg1, train, test, predictors, target, IDcol, 'res9.csv')\n",
    "#coef1 = pd.Series(alg1.coef_, predictors).sort_values()\n",
    "#coef1.plot(kind='bar', title='Model Coefficients')"
   ]
  },
  {
   "cell_type": "code",
   "execution_count": null,
   "metadata": {},
   "outputs": [],
   "source": [
    "from sklearn.ensemble import "
   ]
  },
  {
   "cell_type": "code",
   "execution_count": 121,
   "metadata": {},
   "outputs": [
    {
     "data": {
      "text/plain": [
       "RandomizedSearchCV(cv=3, error_score='raise',\n",
       "          estimator=GradientBoostingRegressor(alpha=0.9, criterion='friedman_mse', init=None,\n",
       "             learning_rate=0.1, loss='ls', max_depth=3, max_features=None,\n",
       "             max_leaf_nodes=None, min_impurity_decrease=0.0,\n",
       "             min_impurity_split=None, min_samples_leaf=1,\n",
       "             min_samples_split=2, min_weight_fraction_leaf=0.0,\n",
       "             n_estimators=100, presort='auto', random_state=None,\n",
       "             subsample=1.0, verbose=0, warm_start=False),\n",
       "          fit_params=None, iid=True, n_iter=47, n_jobs=-1,\n",
       "          param_distributions={'n_estimators': [50, 60, 70, 80, 85, 90, 95, 100], 'alpha': [0.2, 0.3, 0.4, 0.5, 0.6, 0.7]},\n",
       "          pre_dispatch='2*n_jobs', random_state=None, refit=True,\n",
       "          return_train_score='warn', scoring=None, verbose=0)"
      ]
     },
     "execution_count": 121,
     "metadata": {},
     "output_type": "execute_result"
    }
   ],
   "source": [
    "from sklearn.ensemble import GradientBoostingRegressor\n",
    "from sklearn.model_selection import RandomizedSearchCV\n",
    "\n",
    "param_dist = {\n",
    " 'n_estimators': [50,60,70,80,85,90,95,100],\n",
    " 'alpha':[0.2,0.3,0.4,0.5,0.6,0.7]\n",
    " }\n",
    "\n",
    "pre_gs_inst = RandomizedSearchCV(GradientBoostingRegressor(),\n",
    " param_distributions = param_dist,\n",
    " cv=3,\n",
    " n_iter = 47,\n",
    " n_jobs=-1)\n",
    "\n",
    "pre_gs_inst.fit(train[predictors], train[target])"
   ]
  },
  {
   "cell_type": "code",
   "execution_count": 122,
   "metadata": {},
   "outputs": [
    {
     "data": {
      "text/plain": [
       "GradientBoostingRegressor(alpha=0.4, criterion='friedman_mse', init=None,\n",
       "             learning_rate=0.1, loss='ls', max_depth=3, max_features=None,\n",
       "             max_leaf_nodes=None, min_impurity_decrease=0.0,\n",
       "             min_impurity_split=None, min_samples_leaf=1,\n",
       "             min_samples_split=2, min_weight_fraction_leaf=0.0,\n",
       "             n_estimators=50, presort='auto', random_state=None,\n",
       "             subsample=1.0, verbose=0, warm_start=False)"
      ]
     },
     "execution_count": 122,
     "metadata": {},
     "output_type": "execute_result"
    }
   ],
   "source": [
    "pre_gs_inst.best_estimator_"
   ]
  }
 ],
 "metadata": {
  "kernelspec": {
   "display_name": "Python 3",
   "language": "python",
   "name": "python3"
  },
  "language_info": {
   "codemirror_mode": {
    "name": "ipython",
    "version": 3
   },
   "file_extension": ".py",
   "mimetype": "text/x-python",
   "name": "python",
   "nbconvert_exporter": "python",
   "pygments_lexer": "ipython3",
   "version": "3.6.5"
  }
 },
 "nbformat": 4,
 "nbformat_minor": 2
}
