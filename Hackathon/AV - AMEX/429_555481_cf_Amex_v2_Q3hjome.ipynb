{
 "cells": [
  {
   "cell_type": "code",
   "execution_count": 1,
   "metadata": {},
   "outputs": [],
   "source": [
    "import pandas as pd\n",
    "import numpy as np\n",
    "import scipy.stats as stats\n",
    "from datetime import datetime"
   ]
  },
  {
   "cell_type": "code",
   "execution_count": 2,
   "metadata": {},
   "outputs": [],
   "source": [
    "def print_full(x):\n",
    "    pd.set_option('display.max_seq_items', 10000)\n",
    "    pd.set_option('display.max_rows', 10000)\n",
    "    pd.set_option('display.max_columns', 10000)\n",
    "    print(x)\n",
    "    pd.reset_option('display.max_seq_items')\n",
    "    pd.reset_option('display.max_rows')\n",
    "    pd.reset_option('display.max_columns')"
   ]
  },
  {
   "cell_type": "code",
   "execution_count": 3,
   "metadata": {},
   "outputs": [],
   "source": [
    "train=pd.read_csv(\"C:/Users/10644292/AppData/Local/Programs/Python/Python36/Scripts/Data Science Assignments/AMEX/train_amex/train.csv\", sep = ',')\n",
    "test=pd.read_csv(\"C:/Users/10644292/AppData/Local/Programs/Python/Python36/Scripts/Data Science Assignments/AMEX/test_LNMuIYp/test.csv\", sep = ',')\n",
    "hist=pd.read_csv(\"C:/Users/10644292/AppData/Local/Programs/Python/Python36/Scripts/Data Science Assignments/AMEX/train_amex/historical_user_logs.csv\", sep = ',')"
   ]
  },
  {
   "cell_type": "code",
   "execution_count": 4,
   "metadata": {},
   "outputs": [],
   "source": [
    "hist.loc[hist['action']=='interest','action']=1\n",
    "hist.loc[hist['action']=='view','action']=0\n",
    "hist_user_prod=hist.groupby(['user_id','product'])['action'].agg(['mean']).reset_index()\n",
    "hist_user=hist.groupby(['user_id'])['action'].agg(['mean']).reset_index()\n",
    "hist_user.rename(columns={'mean': 'user_pref'}, inplace=True)\n",
    "hist_user_prod.rename(columns={'mean': 'user_prod_pref'}, inplace=True)"
   ]
  },
  {
   "cell_type": "code",
   "execution_count": 5,
   "metadata": {},
   "outputs": [],
   "source": [
    "test['is_click']=0\n",
    "test['train']=0\n",
    "train['train']=1\n",
    "test1 = test.append(train, ignore_index=True)"
   ]
  },
  {
   "cell_type": "code",
   "execution_count": 6,
   "metadata": {},
   "outputs": [],
   "source": [
    "test1.drop(['product_category_2'], axis = 1, inplace = True)\n",
    "test1.fillna(value={'user_group_id':2,'gender': \"Male\", 'age_level':2, 'user_depth':1,'city_development_index':1}, inplace=True)"
   ]
  },
  {
   "cell_type": "code",
   "execution_count": 7,
   "metadata": {},
   "outputs": [],
   "source": [
    "test1['RN'] = test1.sort_values(['user_id','DateTime'], ascending=[True,True]).groupby(['user_id']).cumcount()"
   ]
  },
  {
   "cell_type": "code",
   "execution_count": 8,
   "metadata": {},
   "outputs": [],
   "source": [
    "test1['Rep_usr']=0\n",
    "test1.loc[test1['user_id'].isin(test1.loc[test1['RN']==2,'user_id']),'Rep_usr']=1"
   ]
  },
  {
   "cell_type": "code",
   "execution_count": 9,
   "metadata": {},
   "outputs": [],
   "source": [
    "a=test1.copy()\n",
    "a['Cum_Click'] = a.sort_values(['user_id','DateTime'], ascending=[True,True]).groupby(['user_id']).agg({'is_click':'cumsum'}) \n",
    "a['Cum_Click2']=a.sort_values(['user_id','DateTime'], ascending=[True,True]).groupby('user_id')['Cum_Click'].shift(1)\n",
    "a.loc[a['Cum_Click2']!=a['Cum_Click2'],'Cum_Click2']=0\n",
    "test1['Cum_Click']=a['Cum_Click2']"
   ]
  },
  {
   "cell_type": "code",
   "execution_count": 10,
   "metadata": {},
   "outputs": [],
   "source": [
    "test1['DateTime']=test1['DateTime'].apply(lambda x: datetime.strptime(x, '%Y-%m-%d %H:%M'))\n",
    "test1['Day'] = test1['DateTime'].map(lambda x: x.day)\n",
    "test1['hour'] = test1['DateTime'].map(lambda x: x.hour)"
   ]
  },
  {
   "cell_type": "code",
   "execution_count": 11,
   "metadata": {},
   "outputs": [],
   "source": [
    "test1['RN_Camp'] = test1.sort_values(['user_id','campaign_id','DateTime'], ascending=[True,True,True]).groupby(['user_id','campaign_id']).cumcount()"
   ]
  },
  {
   "cell_type": "code",
   "execution_count": 12,
   "metadata": {},
   "outputs": [],
   "source": [
    "test1['RN_P'] = test1.sort_values(['user_id','product','DateTime'], ascending=[True,True,True]).groupby(['user_id','product']).cumcount()"
   ]
  },
  {
   "cell_type": "code",
   "execution_count": 13,
   "metadata": {},
   "outputs": [],
   "source": [
    "test1['RN_Web'] = test1.sort_values(['user_id','webpage_id','DateTime'], ascending=[True,True,True]).groupby(['user_id','webpage_id']).cumcount()"
   ]
  },
  {
   "cell_type": "code",
   "execution_count": 14,
   "metadata": {},
   "outputs": [],
   "source": [
    "test1['RN_day'] = test1.sort_values(['user_id','Day','DateTime'], ascending=[True,True,True]).groupby(['user_id','Day']).cumcount()"
   ]
  },
  {
   "cell_type": "code",
   "execution_count": 15,
   "metadata": {},
   "outputs": [],
   "source": [
    "test1['RN_hour'] = test1.sort_values(['user_id','hour','DateTime'], ascending=[True,True,True]).groupby(['user_id','hour']).cumcount()"
   ]
  },
  {
   "cell_type": "code",
   "execution_count": 16,
   "metadata": {},
   "outputs": [],
   "source": [
    "test1['RN_Day_hour'] = test1.sort_values(['user_id','Day','hour','DateTime'], ascending=[True,True,True,True]).groupby(['user_id','Day','hour']).cumcount()"
   ]
  },
  {
   "cell_type": "code",
   "execution_count": 17,
   "metadata": {},
   "outputs": [],
   "source": [
    "a=test1.copy()\n",
    "a['Day_Cum_Click'] = a.sort_values(['user_id','Day','DateTime'], ascending=[True,True,True]).groupby(['user_id','Day']) .agg({'is_click':'cumsum'}) \n",
    "a['Day_Cum_Click2']=a.sort_values(['user_id','Day','DateTime'], ascending=[True,True,True]).groupby(['user_id','Day'])['Day_Cum_Click'].shift(1)\n",
    "a.loc[a['Day_Cum_Click2']!=a['Day_Cum_Click2'],'Day_Cum_Click2']=0\n",
    "test1['Day_Cum_Click']=a['Day_Cum_Click2']"
   ]
  },
  {
   "cell_type": "code",
   "execution_count": 18,
   "metadata": {},
   "outputs": [],
   "source": [
    "a=test1\n",
    "a['t_lag'] = a.sort_values(['user_id','DateTime'], ascending=[True,True]).groupby('user_id')['DateTime'].shift(1)\n",
    "a.loc[a['t_lag']!=a['t_lag'],'t_lag']=a['DateTime']\n",
    "a['t_diff']=(a['DateTime']-a['t_lag']).astype('timedelta64[h]')\n",
    "test1['t_diff']=a['t_diff']"
   ]
  },
  {
   "cell_type": "code",
   "execution_count": 19,
   "metadata": {},
   "outputs": [],
   "source": [
    "test1=pd.merge(test1, hist_user, how = 'left', left_on = 'user_id', right_on = 'user_id')\n",
    "test1=pd.merge(test1, hist_user_prod, how = 'left', left_on = ['user_id','product'], right_on = ['user_id','product'])\n",
    "test1.loc[test1['user_prod_pref']!=test1['user_prod_pref'],'user_prod_pref']=0\n",
    "test1.loc[test1['user_pref']!=test1['user_pref'],'user_pref']=0"
   ]
  },
  {
   "cell_type": "code",
   "execution_count": 20,
   "metadata": {},
   "outputs": [],
   "source": [
    "test1.drop(['t_lag'], axis = 1, inplace = True)\n",
    "test1.drop(['DateTime'], axis = 1, inplace = True)\n",
    "test1.drop(['user_id'], axis = 1, inplace = True)"
   ]
  },
  {
   "cell_type": "code",
   "execution_count": 21,
   "metadata": {},
   "outputs": [],
   "source": [
    "df=test1.copy()\n",
    "df['campaign_id'] = df['campaign_id'].astype('str') \n",
    "df['webpage_id'] = df['webpage_id'].astype('str')\n",
    "df['product_category_1'] = df['product_category_1'].astype('str')\n",
    "df['user_group_id'] = df['user_group_id'].astype('str')\n",
    "df['age_level'] = df['age_level'].astype('str')\n",
    "df['user_depth'] = df['user_depth'].astype('str')\n",
    "df['city_development_index'] = df['city_development_index'].astype('str')\n",
    "df['hour'] = df['hour'].astype('str')"
   ]
  },
  {
   "cell_type": "code",
   "execution_count": 22,
   "metadata": {},
   "outputs": [],
   "source": [
    "df1=pd.get_dummies(df)"
   ]
  },
  {
   "cell_type": "code",
   "execution_count": 23,
   "metadata": {},
   "outputs": [],
   "source": [
    "testing_dt=df1.loc[df1['train']==0,].reset_index()\n",
    "df1=df1.loc[df1['train']==1,]\n",
    "validation_dt=df1.loc[df1['Day']>=6,]\n",
    "df1=df1.loc[df1['Day']<6,]\n",
    "\n",
    "#df1.drop(['Day'], axis = 1, inplace = True)\n",
    "#validation_dt.drop(['Day'], axis = 1, inplace = True)\n",
    "#testing_dt.drop(['Day'], axis = 1, inplace = True)\n",
    "testing_dt.drop(['train'], axis = 1, inplace = True)\n",
    "df1.drop(['train'], axis = 1, inplace = True)\n",
    "validation_dt.drop(['train'], axis = 1, inplace = True)"
   ]
  },
  {
   "cell_type": "code",
   "execution_count": 33,
   "metadata": {},
   "outputs": [],
   "source": [
    "y=df1[\"is_click\"]\n",
    "X=df1[['var_1', 'RN', 'Rep_usr', 'Day',\n",
    "       'Cum_Click', 'user_prod_pref','user_pref','RN_Camp', \n",
    "       'RN_P', 'RN_Web', 'RN_day', 'RN_hour', \n",
    "       'RN_Day_hour','Day_Cum_Click', 't_diff',\n",
    "       'product_A', 'product_B', 'product_C', 'product_D', 'product_E',\n",
    "       'product_F', 'product_G', 'product_H', 'product_I', 'product_J',\n",
    "       'campaign_id_105960', 'campaign_id_118601', 'campaign_id_359520',\n",
    "       'campaign_id_360936', 'campaign_id_396664', 'campaign_id_404347',\n",
    "       'campaign_id_405490', 'campaign_id_414149', 'campaign_id_82320',\n",
    "       'campaign_id_98970', 'webpage_id_11085', 'webpage_id_13787',\n",
    "       'webpage_id_1734', 'webpage_id_28529', 'webpage_id_45962',\n",
    "       'webpage_id_51181', 'webpage_id_53587', 'webpage_id_60305',\n",
    "       'webpage_id_6970', 'product_category_1_1', 'product_category_1_2',\n",
    "       'product_category_1_3', 'product_category_1_4', 'product_category_1_5',\n",
    "       'user_group_id_0.0', \n",
    "       #'user_group_id_0.1', \n",
    "       'user_group_id_1.0',\n",
    "       'user_group_id_10.0', 'user_group_id_11.0', 'user_group_id_12.0',\n",
    "       'user_group_id_2.0', 'user_group_id_3.0', 'user_group_id_4.0',\n",
    "       'user_group_id_5.0', 'user_group_id_6.0', 'user_group_id_7.0',\n",
    "       'user_group_id_8.0', 'user_group_id_9.0', 'gender_Female',\n",
    "       'gender_Male', \n",
    "       #'gender_N',\n",
    "       'age_level_0.0', \n",
    "       #'age_level_0.1',\n",
    "       'age_level_1.0', 'age_level_2.0', 'age_level_3.0', 'age_level_4.0',\n",
    "       'age_level_5.0', 'age_level_6.0', \n",
    "       #'user_depth_0.0', \n",
    "       'user_depth_1.0',\n",
    "       'user_depth_2.0', 'user_depth_3.0', \n",
    "       #'city_development_index_0.0',\n",
    "       'city_development_index_1.0', 'city_development_index_2.0',\n",
    "       'city_development_index_3.0', 'city_development_index_4.0', 'hour_0',\n",
    "       'hour_1', 'hour_10', 'hour_11', 'hour_12', 'hour_13', 'hour_14',\n",
    "       'hour_15', 'hour_16', 'hour_17', 'hour_18', 'hour_19', 'hour_2',\n",
    "       'hour_20', 'hour_21', 'hour_22', 'hour_23', 'hour_3', 'hour_4',\n",
    "       'hour_5', 'hour_6', 'hour_7', 'hour_8', 'hour_9']]"
   ]
  },
  {
   "cell_type": "code",
   "execution_count": null,
   "metadata": {},
   "outputs": [],
   "source": []
  },
  {
   "cell_type": "code",
   "execution_count": null,
   "metadata": {},
   "outputs": [],
   "source": []
  },
  {
   "cell_type": "code",
   "execution_count": null,
   "metadata": {},
   "outputs": [],
   "source": [
    "klghbjkl;,kijhy"
   ]
  },
  {
   "cell_type": "code",
   "execution_count": 37,
   "metadata": {},
   "outputs": [
    {
     "name": "stderr",
     "output_type": "stream",
     "text": [
      "[Parallel(n_jobs=-1)]: Done  10 out of  10 | elapsed:    0.6s finished\n"
     ]
    },
    {
     "name": "stdout",
     "output_type": "stream",
     "text": [
      "Performance metrics for Training Data\n"
     ]
    },
    {
     "name": "stderr",
     "output_type": "stream",
     "text": [
      "[Parallel(n_jobs=4)]: Done  10 out of  10 | elapsed:    0.0s finished\n"
     ]
    },
    {
     "name": "stdout",
     "output_type": "stream",
     "text": [
      "\n",
      " Concordance Matrix \n",
      " col_0          0\n",
      "is_click        \n",
      "0         139780\n",
      "1           9212\n",
      "\n",
      " ROC AUC Score \n",
      " 0.6385520649750023\n"
     ]
    },
    {
     "name": "stderr",
     "output_type": "stream",
     "text": [
      "[Parallel(n_jobs=4)]: Done  10 out of  10 | elapsed:    0.0s finished\n"
     ]
    }
   ],
   "source": [
    "from sklearn.metrics import roc_auc_score\n",
    "from sklearn.ensemble import RandomForestClassifier\n",
    "Final_model=RandomForestClassifier(bootstrap=True, criterion='gini', n_jobs=-1,random_state=123, verbose=1, min_samples_leaf=700)#max_depth=9)\n",
    "Final_model.fit(X, y)\n",
    "\n",
    "\n",
    "print(\"Performance metrics for Training Data\")\n",
    "concordance_matrix=pd.crosstab(y, Final_model.predict(X))\n",
    "#print(\"Accuracy = \",((concordance_matrix[0][0]+concordance_matrix[1][1])/(concordance_matrix[0][0]+concordance_matrix[1][1]+concordance_matrix[1][0]+concordance_matrix[0][1])))\n",
    "#print(\"Precision = \", (concordance_matrix[1][1]/(concordance_matrix[1][1]+concordance_matrix[1][0])))\n",
    "#print(\"Recall = \", (concordance_matrix[1][1]/(concordance_matrix[1][1]+concordance_matrix[0][1])))\n",
    "print('\\n',\"Concordance Matrix\",'\\n',concordance_matrix)\n",
    "print('\\n',\"ROC AUC Score\",'\\n',roc_auc_score(y, Final_model.predict_proba(X)[:,1]))"
   ]
  },
  {
   "cell_type": "code",
   "execution_count": 35,
   "metadata": {},
   "outputs": [
    {
     "data": {
      "text/plain": [
       "array([0.01519599, 0.06934039, 0.01619393, 0.04282815, 0.03055913,\n",
       "       0.01095049, 0.03814451, 0.02730694, 0.07944968, 0.10066712,\n",
       "       0.03311657, 0.03523438, 0.01954062, 0.03484455, 0.02641707,\n",
       "       0.00148304, 0.00169141, 0.01454955, 0.00505329, 0.00088054,\n",
       "       0.00800955, 0.0018768 , 0.01018707, 0.00399781, 0.00159248,\n",
       "       0.00258735, 0.        , 0.00916863, 0.02151686, 0.0032028 ,\n",
       "       0.00206831, 0.06172731, 0.00437474, 0.00179758, 0.00145322,\n",
       "       0.00200797, 0.02799263, 0.00154185, 0.        , 0.00405112,\n",
       "       0.0024913 , 0.00323138, 0.03540801, 0.00510723, 0.00485313,\n",
       "       0.01514379, 0.02819619, 0.00687278, 0.00772198, 0.        ,\n",
       "       0.00355266, 0.00034424, 0.00074582, 0.        , 0.00821742,\n",
       "       0.00545057, 0.00513624, 0.00051674, 0.        , 0.        ,\n",
       "       0.0001834 , 0.00043574, 0.0021217 , 0.00317304, 0.        ,\n",
       "       0.00358593, 0.00731498, 0.00722521, 0.01144382, 0.00209607,\n",
       "       0.        , 0.00104761, 0.00169784, 0.00306249, 0.00669016,\n",
       "       0.00784286, 0.0042557 , 0.00401079, 0.        , 0.        ,\n",
       "       0.00171923, 0.00106535, 0.00184303, 0.00108213, 0.00169957,\n",
       "       0.00121144, 0.00075571, 0.0019667 , 0.0011172 , 0.00139185,\n",
       "       0.        , 0.00244405, 0.0011178 , 0.00019224, 0.        ,\n",
       "       0.        , 0.00014151, 0.00103969, 0.00234927, 0.00182956,\n",
       "       0.00185152, 0.00340392])"
      ]
     },
     "execution_count": 35,
     "metadata": {},
     "output_type": "execute_result"
    }
   ],
   "source": [
    "Final_model.feature_importances_"
   ]
  },
  {
   "cell_type": "code",
   "execution_count": 38,
   "metadata": {},
   "outputs": [
    {
     "name": "stdout",
     "output_type": "stream",
     "text": [
      "Performance metrics for Training Data\n"
     ]
    },
    {
     "name": "stderr",
     "output_type": "stream",
     "text": [
      "[Parallel(n_jobs=4)]: Done  10 out of  10 | elapsed:    0.0s finished\n"
     ]
    },
    {
     "name": "stdout",
     "output_type": "stream",
     "text": [
      "\n",
      " ROC AUC Score \n",
      " 0.6385520649750023\n"
     ]
    },
    {
     "name": "stderr",
     "output_type": "stream",
     "text": [
      "[Parallel(n_jobs=4)]: Done  10 out of  10 | elapsed:    0.0s finished\n"
     ]
    }
   ],
   "source": [
    "y=validation_dt[\"is_click\"]\n",
    "X=validation_dt[['var_1', 'RN', 'Rep_usr', 'Day',\n",
    "                 'Cum_Click', \n",
    "                'user_prod_pref','user_pref',\n",
    "                 'RN_Camp', 'RN_P',\n",
    "       'RN_Web', 'RN_day', 'RN_hour', 'RN_Day_hour', \n",
    "                 'Day_Cum_Click', \n",
    "                 't_diff',\n",
    "       'product_A', 'product_B', 'product_C', 'product_D', 'product_E',\n",
    "       'product_F', 'product_G', 'product_H', 'product_I', 'product_J',\n",
    "       'campaign_id_105960', 'campaign_id_118601', 'campaign_id_359520',\n",
    "       'campaign_id_360936', 'campaign_id_396664', 'campaign_id_404347',\n",
    "       'campaign_id_405490', 'campaign_id_414149', 'campaign_id_82320',\n",
    "       'campaign_id_98970', 'webpage_id_11085', 'webpage_id_13787',\n",
    "       'webpage_id_1734', 'webpage_id_28529', 'webpage_id_45962',\n",
    "       'webpage_id_51181', 'webpage_id_53587', 'webpage_id_60305',\n",
    "       'webpage_id_6970', 'product_category_1_1', 'product_category_1_2',\n",
    "       'product_category_1_3', 'product_category_1_4', 'product_category_1_5',\n",
    "       'user_group_id_0.0', \n",
    "       #'user_group_id_0.1', \n",
    "       'user_group_id_1.0',\n",
    "       'user_group_id_10.0', 'user_group_id_11.0', 'user_group_id_12.0',\n",
    "       'user_group_id_2.0', 'user_group_id_3.0', 'user_group_id_4.0',\n",
    "       'user_group_id_5.0', 'user_group_id_6.0', 'user_group_id_7.0',\n",
    "       'user_group_id_8.0', 'user_group_id_9.0', 'gender_Female',\n",
    "       'gender_Male', \n",
    "        #'gender_N', \n",
    "        'age_level_0.0', \n",
    "        #'age_level_0.1',\n",
    "       'age_level_1.0', 'age_level_2.0', 'age_level_3.0', 'age_level_4.0',\n",
    "       'age_level_5.0', 'age_level_6.0', \n",
    "        #'user_depth_0.0', \n",
    "        'user_depth_1.0',\n",
    "       'user_depth_2.0', 'user_depth_3.0', \n",
    "        #'city_development_index_0.0',\n",
    "       'city_development_index_1.0', 'city_development_index_2.0',\n",
    "       'city_development_index_3.0', 'city_development_index_4.0', 'hour_0',\n",
    "       'hour_1', 'hour_10', 'hour_11', 'hour_12', 'hour_13', 'hour_14',\n",
    "       'hour_15', 'hour_16', 'hour_17', 'hour_18', 'hour_19', 'hour_2',\n",
    "       'hour_20', 'hour_21', 'hour_22', 'hour_23', 'hour_3', 'hour_4',\n",
    "       'hour_5', 'hour_6', 'hour_7', 'hour_8', 'hour_9']]\n",
    "\n",
    "print(\"Performance metrics for Training Data\")\n",
    "concordance_matrix=pd.crosstab(y, Final_model.predict(X))\n",
    "#print(\"Accuracy = \",((concordance_matrix[0][0]+concordance_matrix[1][1])/(concordance_matrix[0][0]+concordance_matrix[1][1]+concordance_matrix[1][0]+concordance_matrix[0][1])))\n",
    "#print(\"Precision = \", (concordance_matrix[1][1]/(concordance_matrix[1][1]+concordance_matrix[1][0])))\n",
    "#print(\"Recall = \", (concordance_matrix[1][1]/(concordance_matrix[1][1]+concordance_matrix[0][1])))\n",
    "#print('\\n',\"Concordance Matrix\",'\\n',concordance_matrix)\n",
    "print('\\n',\"ROC AUC Score\",'\\n',roc_auc_score(y, Final_model.predict_proba(X)[:,1]))"
   ]
  },
  {
   "cell_type": "code",
   "execution_count": 39,
   "metadata": {},
   "outputs": [],
   "source": [
    "X=testing_dt[['var_1', 'RN', 'Rep_usr', 'Day',\n",
    "                 'Cum_Click', \n",
    "                 'user_prod_pref','user_pref',\n",
    "                 'RN_Camp', 'RN_P',\n",
    "       'RN_Web', 'RN_day', 'RN_hour', 'RN_Day_hour', \n",
    "                 'Day_Cum_Click', \n",
    "                 't_diff',\n",
    "       'product_A', 'product_B', 'product_C', 'product_D', 'product_E',\n",
    "       'product_F', 'product_G', 'product_H', 'product_I', 'product_J',\n",
    "       'campaign_id_105960', 'campaign_id_118601', 'campaign_id_359520',\n",
    "       'campaign_id_360936', 'campaign_id_396664', 'campaign_id_404347',\n",
    "       'campaign_id_405490', 'campaign_id_414149', 'campaign_id_82320',\n",
    "       'campaign_id_98970', 'webpage_id_11085', 'webpage_id_13787',\n",
    "       'webpage_id_1734', 'webpage_id_28529', 'webpage_id_45962',\n",
    "       'webpage_id_51181', 'webpage_id_53587', 'webpage_id_60305',\n",
    "       'webpage_id_6970', 'product_category_1_1', 'product_category_1_2',\n",
    "       'product_category_1_3', 'product_category_1_4', 'product_category_1_5',\n",
    "       'user_group_id_0.0', \n",
    "              #'user_group_id_0.1', \n",
    "              'user_group_id_1.0',\n",
    "       'user_group_id_10.0', 'user_group_id_11.0', 'user_group_id_12.0',\n",
    "       'user_group_id_2.0', 'user_group_id_3.0', 'user_group_id_4.0',\n",
    "       'user_group_id_5.0', 'user_group_id_6.0', 'user_group_id_7.0',\n",
    "       'user_group_id_8.0', 'user_group_id_9.0', 'gender_Female',\n",
    "       'gender_Male', \n",
    "              #'gender_N', \n",
    "              'age_level_0.0', \n",
    "              #'age_level_0.1',\n",
    "       'age_level_1.0', 'age_level_2.0', 'age_level_3.0', 'age_level_4.0',\n",
    "       'age_level_5.0', 'age_level_6.0', \n",
    "              #'user_depth_0.0', \n",
    "              'user_depth_1.0',\n",
    "       'user_depth_2.0', 'user_depth_3.0',\n",
    "              #'city_development_index_0.0',\n",
    "       'city_development_index_1.0', 'city_development_index_2.0',\n",
    "       'city_development_index_3.0', 'city_development_index_4.0', 'hour_0',\n",
    "       'hour_1', 'hour_10', 'hour_11', 'hour_12', 'hour_13', 'hour_14',\n",
    "       'hour_15', 'hour_16', 'hour_17', 'hour_18', 'hour_19', 'hour_2',\n",
    "       'hour_20', 'hour_21', 'hour_22', 'hour_23', 'hour_3', 'hour_4',\n",
    "       'hour_5', 'hour_6', 'hour_7', 'hour_8', 'hour_9']]"
   ]
  },
  {
   "cell_type": "code",
   "execution_count": 40,
   "metadata": {},
   "outputs": [
    {
     "name": "stderr",
     "output_type": "stream",
     "text": [
      "[Parallel(n_jobs=4)]: Done  10 out of  10 | elapsed:    0.0s finished\n"
     ]
    }
   ],
   "source": [
    "a=pd.DataFrame(Final_model.predict_proba(X)[:,1])\n",
    "b=testing_dt.join(a, how='outer')\n",
    "b = b[['session_id',0]]\n",
    "b.rename(columns={0: 'is_click'}, inplace=True)"
   ]
  },
  {
   "cell_type": "code",
   "execution_count": 41,
   "metadata": {},
   "outputs": [],
   "source": [
    "b.to_csv(\"C:/Users/10644292/AppData/Local/Programs/Python/Python36/Scripts/Data Science Assignments/AMEX/test_LNMuIYp/final_v9.csv\", sep=',', index=False)"
   ]
  }
 ],
 "metadata": {
  "kernelspec": {
   "display_name": "Python 3",
   "language": "python",
   "name": "python3"
  },
  "language_info": {
   "codemirror_mode": {
    "name": "ipython",
    "version": 3
   },
   "file_extension": ".py",
   "mimetype": "text/x-python",
   "name": "python",
   "nbconvert_exporter": "python",
   "pygments_lexer": "ipython3",
   "version": "3.6.5"
  }
 },
 "nbformat": 4,
 "nbformat_minor": 2
}
