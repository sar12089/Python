{
 "cells": [
  {
   "cell_type": "code",
   "execution_count": 41,
   "metadata": {},
   "outputs": [],
   "source": [
    "import pandas as pd\n",
    "import numpy as np\n",
    "import os\n",
    "import gc\n",
    "import sklearn as skl\n",
    "import matplotlib.pyplot as plt\n",
    "import seaborn as sns\n",
    "os.chdir('/home/sambeet/data/AV/am_expert/')"
   ]
  },
  {
   "cell_type": "code",
   "execution_count": 42,
   "metadata": {},
   "outputs": [],
   "source": [
    "historical = pd.read_csv('train_amex/historical_user_logs.csv',parse_dates=['DateTime'],index_col='DateTime').sort_index()\n",
    "historical.columns = ['user_id','product_id','action']\n",
    "historical = pd.get_dummies(data=historical,columns=['action'])"
   ]
  },
  {
   "cell_type": "code",
   "execution_count": 43,
   "metadata": {},
   "outputs": [
    {
     "name": "stderr",
     "output_type": "stream",
     "text": [
      "/home/sambeet/anaconda2/lib/python2.7/site-packages/ipykernel_launcher.py:7: SettingWithCopyWarning: \n",
      "A value is trying to be set on a copy of a slice from a DataFrame.\n",
      "Try using .loc[row_indexer,col_indexer] = value instead\n",
      "\n",
      "See the caveats in the documentation: http://pandas.pydata.org/pandas-docs/stable/indexing.html#indexing-view-versus-copy\n",
      "  import sys\n"
     ]
    }
   ],
   "source": [
    "z = x[['user_id','product_id','pct_interest_up']]\n",
    "def pd(x):\n",
    "    if x > 0:\n",
    "        return 1\n",
    "    else:\n",
    "        return 0\n",
    "z['pct_interest_up'] = z.pct_interest_up.apply(pd)\n",
    "z = z.pivot(index = 'user_id',columns='product_id',values='pct_interest_up').reset_index().fillna(0)\n",
    "z.to_csv('hist_user_id_product_held.csv',index=False)"
   ]
  },
  {
   "cell_type": "code",
   "execution_count": 44,
   "metadata": {},
   "outputs": [],
   "source": [
    "#####Interest Features#####\n",
    "#User-product\n",
    "x = historical.groupby(['user_id','product_id']).agg({'action_interest':['count','sum'],'action_view':'sum'}).reset_index()\n",
    "x['pct_interest_up'] = x.action_interest['sum']/x.action_interest['count']\n",
    "x['pct_view_up'] = x.action_view['sum']/x.action_interest['count']\n",
    "x['clicks_up'] = x.action_interest['count']\n",
    "x.drop(['action_interest','action_view'],axis=1,inplace=True)\n",
    "x.to_csv('hist_up.csv',index=False)\n",
    "\n",
    "#x = x.merge(y,on='product_id',how='left')\n",
    "#x = x.merge(z,on='user_id',how='left')"
   ]
  },
  {
   "cell_type": "code",
   "execution_count": 46,
   "metadata": {},
   "outputs": [],
   "source": [
    "#####User-time features#####\n",
    "#User\n",
    "z = historical.groupby(['user_id']).agg({'action_interest':['count','sum'],'action_view':'sum'}).reset_index()\n",
    "z['pct_interest_u'] = z.action_interest['sum']/z.action_interest['count']\n",
    "z['pct_view_u'] = z.action_view['sum']/z.action_interest['count']\n",
    "z['clicks_u'] = z.action_interest['count']\n",
    "z.drop(['action_interest','action_view'],axis=1,inplace=True)\n",
    "z.to_csv('hist_u.csv',index=False)\n",
    "days_active = historical.reset_index().groupby(['user_id'])['DateTime'].agg(lambda x: (x.max() - x.min()).days if (x.max() - x.min()).days !=0 else 1)\n",
    "unique_days_active = historical.reset_index().groupby(['user_id'])['DateTime'].agg(lambda x: len(np.unique(x.dt.dayofyear)))\n",
    "user_time_features = days_active.reset_index().merge(unique_days_active.reset_index(),on='user_id',how = 'left')\n",
    "user_time_features.columns = ['user_id','days_active','unique_days_active']\n",
    "user_time_features.to_csv('hist_ut.csv',index=False)"
   ]
  },
  {
   "cell_type": "markdown",
   "metadata": {},
   "source": [
    "x.columns = ['user_id','product_id','pct_interest_up','pct_view_up','clicks_up','pct_interest_p','pct_view_p','clicks_p','pct_interest_u','pct_view_u','clicks_u']\n",
    "hist_features = x.merge(user_time_features,on='user_id',how='left')"
   ]
  },
  {
   "cell_type": "code",
   "execution_count": 47,
   "metadata": {},
   "outputs": [],
   "source": [
    "#Product\n",
    "y = historical.groupby(['product_id']).agg({'action_interest':['count','sum'],'action_view':'sum'}).reset_index()\n",
    "y['pct_interest_p'] = y.action_interest['sum']/y.action_interest['count']\n",
    "y['pct_view_p'] = y.action_view['sum']/y.action_interest['count']\n",
    "y['clicks_p'] = y.action_interest['count']\n",
    "y.drop(['action_interest','action_view'],axis=1,inplace=True)\n",
    "y.to_csv('hist_p.csv',index=False)"
   ]
  }
 ],
 "metadata": {
  "kernelspec": {
   "display_name": "Python 2",
   "language": "python",
   "name": "python2"
  },
  "language_info": {
   "codemirror_mode": {
    "name": "ipython",
    "version": 2
   },
   "file_extension": ".py",
   "mimetype": "text/x-python",
   "name": "python",
   "nbconvert_exporter": "python",
   "pygments_lexer": "ipython2",
   "version": "2.7.13"
  }
 },
 "nbformat": 4,
 "nbformat_minor": 2
}
