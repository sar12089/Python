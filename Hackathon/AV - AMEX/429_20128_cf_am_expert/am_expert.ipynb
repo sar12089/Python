{
 "cells": [
  {
   "cell_type": "code",
   "execution_count": 1,
   "metadata": {},
   "outputs": [],
   "source": [
    "import pandas as pd\n",
    "import numpy as np\n",
    "import os\n",
    "import gc\n",
    "import lightgbm as lgb\n",
    "import sklearn as skl\n",
    "from sklearn.preprocessing import LabelEncoder\n",
    "from sklearn.model_selection import KFold\n",
    "import matplotlib.pyplot as plt\n",
    "import seaborn as sns\n",
    "from sklearn.metrics import roc_auc_score\n",
    "from sklearn.model_selection import train_test_split\n",
    "from matplotlib_venn import venn2\n",
    "import collections as cl\n",
    "import fastFM as fm\n",
    "import time\n",
    "from fastFM import als\n",
    "from sklearn.metrics import roc_auc_score\n",
    "from sklearn.preprocessing import OneHotEncoder\n",
    "from scipy import sparse\n",
    "import scipy.sparse as sp\n",
    "os.chdir('/home/sambeet/data/AV/am_expert/')"
   ]
  },
  {
   "cell_type": "code",
   "execution_count": 2,
   "metadata": {},
   "outputs": [],
   "source": [
    "train = pd.read_csv('train_amex/train.csv',parse_dates=['DateTime'],index_col='DateTime').sort_index()\n",
    "hist_u = pd.read_csv('hist_u.csv')\n",
    "hist_ut = pd.read_csv('hist_ut.csv')\n",
    "hist_up = pd.read_csv('hist_up.csv')\n",
    "hist_pd = pd.read_csv('hist_user_id_product_held.csv')\n",
    "hist_p = pd.read_csv('hist_p.csv')\n",
    "test = pd.read_csv('test.csv',parse_dates=['DateTime'],index_col='DateTime').sort_index()"
   ]
  },
  {
   "cell_type": "markdown",
   "metadata": {},
   "source": [
    "print(train.shape);print(test.shape);#print(historical.shape)\n",
    "print(train.columns);#print(historical.columns)"
   ]
  },
  {
   "cell_type": "markdown",
   "metadata": {
    "scrolled": true
   },
   "source": [
    "print(np.sum(train.isna()))\n",
    "print(np.sum(test.isna()))\n",
    "#print(np.sum(historical.isna()))\n",
    "print(train.describe(include='all'))\n",
    "#print(test.describe(include='all'))\n",
    "#print(historical.describe(include='all'))"
   ]
  },
  {
   "cell_type": "code",
   "execution_count": 3,
   "metadata": {},
   "outputs": [],
   "source": [
    "test['is_click'] = 0\n",
    "train['train_test'] = 'train'\n",
    "test['train_test'] = 'test'\n",
    "col_names = ['session_id','user_id','product_id','campaign_id','webpage_id','product_category_1','product_category_2',\n",
    "             'user_group_id','gender','age_level','user_depth','city_development_index','var_1','is_click','train_test']\n",
    "cat_col_names = ['session_id','user_id','product_id','campaign_id','webpage_id','product_category_1',\n",
    "                 'product_category_2','user_group_id','gender','age_level','user_depth','city_development_index','var_1']\n",
    "#missing_col_names = ['product_category_2','user_group_id','gender','age_level','user_depth','city_development_index']\n",
    "train.columns = col_names\n",
    "test.columns = col_names\n",
    "train.fillna('NA',inplace=True)\n",
    "test.fillna('NA',inplace=True)\n",
    "for col in cat_col_names:\n",
    "    train[col] = train[col].astype('category')\n",
    "    test[col] = test[col].astype('category')"
   ]
  },
  {
   "cell_type": "markdown",
   "metadata": {},
   "source": [
    "venn2([set(list(train.session_id)), set(list(test.session_id))],set_labels=['train','test'])\n",
    "plt.show()"
   ]
  },
  {
   "cell_type": "markdown",
   "metadata": {},
   "source": [
    "venn2([set(list(train.user_id)), set(list(test.user_id))],set_labels=['train','test'])\n",
    "plt.show()"
   ]
  },
  {
   "cell_type": "markdown",
   "metadata": {},
   "source": [
    "venn2([set(list(train.user_id)), set(list(historical.user_id))],set_labels=['train','historical'])\n",
    "plt.show()"
   ]
  },
  {
   "cell_type": "markdown",
   "metadata": {},
   "source": [
    "venn2([set(list(test.user_id)), set(list(historical.user_id))],set_labels=['test','historical'])\n",
    "plt.show()"
   ]
  },
  {
   "cell_type": "markdown",
   "metadata": {},
   "source": [
    "print train.index.min(),\"-\",train.index.max() \n",
    "#print historical.DateTime.min(),\"-\",historical.DateTime.max() \n",
    "print test.index.min(),\"-\",test.index.max()"
   ]
  },
  {
   "cell_type": "markdown",
   "metadata": {},
   "source": [
    "###Train Time Series Visualisation####\n",
    "click_count = train[['is_click']].resample('H').count()\n",
    "click_sum = train[['is_click']].resample('H').sum()\n",
    "click_count['conv_rate'] = 100*click_sum.is_click.astype(np.float32)/click_count.is_click\n",
    "click_count.plot(subplots=True)"
   ]
  },
  {
   "cell_type": "markdown",
   "metadata": {},
   "source": [
    "###Train Time Series Visualisation####\n",
    "click_count = test[['user_id']].resample('H').count()\n",
    "click_count.plot(subplots=True)"
   ]
  },
  {
   "cell_type": "markdown",
   "metadata": {},
   "source": [
    "print 'Overall Conversion rate (%):', 100*float(train.is_click.sum())/train.shape[0]\n",
    "print 'Observations per user (Train):', float(train.shape[0])/len(np.unique(train.user_id))\n",
    "print 'Clicks per user (Train):', float(train.is_click.sum())/len(np.unique(train.user_id))\n",
    "print 'Observations per user (Test):', float(test.shape[0])/len(np.unique(test.user_id))"
   ]
  },
  {
   "cell_type": "markdown",
   "metadata": {},
   "source": [
    "train.groupby('product_id')['is_click'].agg(['mean','count'])"
   ]
  },
  {
   "cell_type": "markdown",
   "metadata": {},
   "source": [
    "train.groupby(['product_id','campaign_id'])['is_click'].agg(['mean','count'])"
   ]
  },
  {
   "cell_type": "markdown",
   "metadata": {
    "scrolled": true
   },
   "source": [
    "train.groupby('webpage_id')['is_click'].agg(['mean','count'])"
   ]
  },
  {
   "cell_type": "markdown",
   "metadata": {
    "scrolled": false
   },
   "source": [
    "train.groupby('user_group_id')['is_click'].agg(['mean','count'])"
   ]
  },
  {
   "cell_type": "markdown",
   "metadata": {
    "scrolled": true
   },
   "source": [
    "train.groupby('product_category_1')['is_click'].agg(['mean','count'])"
   ]
  },
  {
   "cell_type": "markdown",
   "metadata": {
    "scrolled": false
   },
   "source": [
    "train_data.groupby('hour')['is_click'].agg(['mean','count'])"
   ]
  },
  {
   "cell_type": "markdown",
   "metadata": {
    "scrolled": false
   },
   "source": [
    "train.groupby('var_1')['is_click'].agg(['mean','count'])"
   ]
  },
  {
   "cell_type": "markdown",
   "metadata": {},
   "source": [
    "train_data.groupby('dow')['is_click'].agg(['mean','count'])"
   ]
  },
  {
   "cell_type": "markdown",
   "metadata": {},
   "source": [
    "######Feature Engineering - Concat test and train and then split back######\n",
    "merged = pd.concat([train,test],axis=0)\n",
    "def create_features(df,grouped_variable_list):\n",
    "    df['hour'] = df.index.hour\n",
    "    df['day'] = df.index.day\n",
    "    df['minute'] = df.index.minute\n",
    "#    df['dow'] = df.index.dayofweek\n",
    "    df['minute'] = df.index.minute\n",
    "    if len(grouped_variable_list) > 0:\n",
    "        for group in grouped_variable_list:\n",
    "            for i in range(len(group)):\n",
    "                if i == 0:\n",
    "                    name = group[i]\n",
    "                else:\n",
    "                    name = name + '_' + group[i]\n",
    "            df['cumcount_'+name] = df.groupby(group)['is_click'].cumcount()\n",
    "#            temp = df.groupby(group)['is_click'].agg(['count']).reset_index().rename({'mean':'mean_encoding_'+name,'count':'count_'+name},axis=1)\n",
    "#            df = df.merge(temp,on=group,how='left')\n",
    "    df['cum_clicks_user_id'] = df.groupby('user_id')['is_click'].cumsum() - df.is_click\n",
    "#    df['cum_clicks_user_id_day'] = df.groupby(['user_id','day'])['is_click'].cumsum() - df.is_click\n",
    "#    df['cum_clicks_user_id_product_id'] = df.groupby(['user_id','product_id'])['is_click'].cumsum() - df.is_click\n",
    "#    df['cum_clicks_user_id_product_id_day'] = df.groupby(['user_id','product_id','day'])['is_click'].cumsum() - df.is_click\n",
    "#    df['cum_clicks_user_id_campaign_id'] = df.groupby(['user_id','campaign_id'])['is_click'].cumsum() - df.is_click\n",
    "#    df['cum_clicks_user_id_campaign_id_day'] = df.groupby(['user_id','campaign_id','day'])['is_click'].cumsum() - df.is_click\n",
    "#    df['cum_clicks_product_id'] = df.groupby('product_id')['is_click'].cumsum() - df.is_click\n",
    "#    df['cum_clicks_product_id_day'] = df.groupby(['product_id','day'])['is_click'].cumsum() - df.is_click\n",
    "#    df['cum_clicks_campaign_id'] = df.groupby('campaign_id')['is_click'].cumsum() - df.is_click\n",
    "#    df['cum_clicks_campaign_id_day'] = df.groupby(['campaign_id','day'])['is_click'].cumsum() - df.is_click\n",
    "#    df['cum_clicks_user_id_product_id_campaign_id'] = df.groupby(['user_id','product_id','campaign_id'])['is_click'].cumsum() - df.is_click\n",
    "#    df['cum_clicks_product_category_1'] = df.groupby('product_category_1')['is_click'].cumsum() - df.is_click\n",
    "#    df['last_viewed_user'] = df.reset_index()[['user_id','DateTime']].groupby(['user_id']).DateTime.diff().dt.seconds/60\n",
    "#    df['next_click_user'] = df.reset_index()[['user_id','DateTime']].groupby(['user_id']).DateTime.diff(-1).dt.seconds/60\n",
    "#    df['cum_clicks_user_id_campaign_id_day_hour'] = df.groupby(['user_id','campaign_id','day','hour'])['is_click'].cumsum() - df.is_click\n",
    "#    df['cum_clicks_product_id_day_hour'] = df.groupby(['product_id','day','hour'])['is_click'].cumsum() - df.is_click\n",
    "#    df['cum_clicks_campaign_id_day_hour'] = df.groupby(['campaign_id','day','hour'])['is_click'].cumsum() - df.is_click\n",
    "#    df['cum_clicks_webpage_id'] = df.groupby('webpage_id')['is_click'].cumsum() - df.is_click\n",
    "#    df['cum_clicks_user_id_product_id_campaign_id_webpage_id'] = df.groupby(['user_id','product_id','campaign_id','webpage_id'])['is_click'].cumsum() - df.is_click\n",
    "#    df['cum_clicks_user_id_product_id_day_hour'] = df.groupby(['user_id','product_id','day','hour'])['is_click'].cumsum() - df.is_click\n",
    "#    df['cum_clicks_user_id_hour'] = df.groupby(['user_id','hour'])['is_click'].cumsum() - df.is_click\n",
    "#    df['cum_clicks_user_id_day_hour'] = df.groupby(['user_id','day','hour'])['is_click'].cumsum() - df.is_click\n",
    "#    df['cum_clicks_user_id_day_hour_minute'] = df.groupby(['user_id','day','hour','minute'])['is_click'].cumsum() - df.is_click\n",
    "    return df\n",
    "#def elapsed(x):\n",
    "#    return (x - x.min()).dt.seconds/3600.\n",
    "#merged['time_since_first_click'] = merged.reset_index().groupby('user_id')['DateTime'].apply(elapsed).values\n",
    "merged = create_features(merged,[['user_id'],['user_id','day'],['user_id','day','hour'],['user_id','day','hour','minute'],['user_id','campaign_id'],['user_id','campaign_id','product_id'],['user_id','campaign_id','product_id','webpage_id'],['user_id','product_id'],['user_id','webpage_id'],['campaign_id','day'],['campaign_id','day','hour'],['hour','day'],['hour','day','minute']])\n",
    "merged = merged.merge(historical_features,on=['user_id','product_id'],how='left')\n",
    "merged['pct_of_user_clicks_up'] = merged.clicks_up.astype(np.float32)/merged.clicks_u\n",
    "merged['pct_of_product_clicks_up'] = merged.clicks_up.astype(np.float32)/merged.clicks_p\n",
    "merged = merged.sort_index()\n",
    "#merged['temp_col'] = merged['train_test'].apply(lambda x: 1 if x == 'train' else 0)\n",
    "#cum_count = merged['temp_col'].cumsum()\n",
    "#cum_clicks = merged['is_click'].cumsum()\n",
    "#merged['rolling_ctr'] = cum_clicks.astype(np.float32)/cum_count\n",
    "merged['avg_clicks_per_day_active_user'] = merged.clicks_u.astype(np.float32)/merged.days_active\n",
    "merged['avg_clicks_per_day_active_user_product'] = merged.clicks_up.astype(np.float32)/merged.days_active\n",
    "merged['pct_days_active'] = merged.unique_days_active.astype(np.float32)/merged.days_active\n",
    "#merged.drop(['temp_col'],axis=1,inplace=True)"
   ]
  },
  {
   "cell_type": "code",
   "execution_count": 46,
   "metadata": {},
   "outputs": [],
   "source": [
    "######Feature Engineering - Concat test and train and then split back######\n",
    "merged = pd.concat([train,test],axis=0)\n",
    "def create_features(df,grouped_variable_list):\n",
    "    df = df.sort_index()\n",
    "    df['hour'] = df.index.hour\n",
    "    df['day'] = df.index.day\n",
    "    df['minute'] = df.index.minute\n",
    "#    df['last_viewed_user'] = df.reset_index()[['user_id','DateTime']].groupby(['user_id']).DateTime.diff().dt.seconds/60\n",
    "#    df['next_click_user'] = df.reset_index()[['user_id','DateTime']].groupby(['user_id']).DateTime.diff(-1).dt.seconds/60\n",
    "    if len(grouped_variable_list) > 0:\n",
    "        for group in grouped_variable_list:\n",
    "            for i in range(len(group)):\n",
    "                if i == 0:\n",
    "                    name = group[i]\n",
    "                else:\n",
    "                    name = name + '_' + group[i]\n",
    "            df['cumcount_'+name] = df.groupby(group)['is_click'].cumcount()\n",
    "#            temp = df.groupby(group)['is_click'].agg(['count']).reset_index().rename({'mean':'mean_encoding_'+name,'count':'count_'+name},axis=1)\n",
    "#            df = df.merge(temp,on=group,how='left')\n",
    "    df['cum_clicks_user_id'] = df.groupby('user_id')['is_click'].cumsum() - df.is_click\n",
    "    return df\n",
    "def elapsed(x):\n",
    "    return (x - x.min()).dt.seconds/3600.\n",
    "#merged['time_since_first_click'] = merged.reset_index().groupby('user_id')['DateTime'].apply(elapsed).values\n",
    "merged = create_features(merged,[['user_id'],['user_id','day'],['user_id','day','hour'],['user_id','day','hour','minute'],['user_id','campaign_id'],['user_id','campaign_id','product_id'],['user_id','campaign_id','product_id','webpage_id'],['user_id','product_id'],['user_id','webpage_id'],['campaign_id','day'],['campaign_id','day','hour'],['hour','day'],['hour','day','minute']])\n",
    "merged = merged.merge(hist_up,on=['user_id','product_id'],how='left')\n",
    "merged = merged.merge(hist_u,on=['user_id'],how='left')\n",
    "merged = merged.merge(hist_ut,on=['user_id'],how='left')\n",
    "merged = merged.merge(hist_pd,on=['user_id'],how='left')\n",
    "merged = merged.merge(hist_p,on=['product_id'],how='left')\n",
    "merged['pct_of_user_clicks_up'] = merged.clicks_up.astype(np.float32)/merged.clicks_u\n",
    "merged['pct_of_product_clicks_up'] = merged.clicks_up.astype(np.float32)/merged.clicks_p\n",
    "merged['avg_clicks_per_day_active_user'] = merged.clicks_u.astype(np.float32)/merged.days_active\n",
    "merged['avg_clicks_per_day_active_user_product'] = merged.clicks_up.astype(np.float32)/merged.days_active\n",
    "merged['pct_days_active'] = merged.unique_days_active.astype(np.float32)/merged.days_active\n",
    "merged['new_user_ind'] = merged.days_active.isna().astype(int)\n",
    "missing_cols_float = ['pct_interest_up','pct_view_up','clicks_up','pct_interest_u','pct_view_u','clicks_u','days_active',\n",
    "               'unique_days_active','A','B','C','D','E','F','G','H','I','J','pct_of_user_clicks_up','pct_of_product_clicks_up',\n",
    "                     'avg_clicks_per_day_active_user','avg_clicks_per_day_active_user_product','pct_days_active']\n",
    "for col in missing_cols_float:\n",
    "    merged[col].fillna(0,inplace=True)\n",
    "merged['total_product_held'] = merged['A'] + merged['B'] + merged['C'] + merged['D'] + merged['E'] + merged['F'] + merged['G'] + merged['H'] + merged['I'] + merged['J']"
   ]
  },
  {
   "cell_type": "code",
   "execution_count": 47,
   "metadata": {
    "scrolled": false
   },
   "outputs": [
    {
     "name": "stdout",
     "output_type": "stream",
     "text": [
      "Transforming user_id...\n",
      "Transforming product_id...\n",
      "Transforming campaign_id...\n",
      "Transforming webpage_id...\n",
      "Transforming product_category_1...\n",
      "Transforming product_category_2...\n",
      "Transforming user_group_id...\n",
      "Transforming gender...\n",
      "Transforming age_level...\n",
      "Transforming user_depth...\n",
      "Transforming city_development_index...\n",
      "Transforming var_1...\n",
      "Transforming hour...\n"
     ]
    }
   ],
   "source": [
    "predictors = list(merged.columns.values)\n",
    "predictors.remove('train_test')\n",
    "predictors.remove('is_click')\n",
    "predictors.remove('session_id')\n",
    "categorical = cat_col_names + ['hour']\n",
    "categorical.remove('session_id')\n",
    "target = 'is_click'\n",
    "for col in categorical:\n",
    "    print 'Transforming {}...'.format(col)\n",
    "    encoder = LabelEncoder()\n",
    "    encoder.fit(merged[col])\n",
    "    merged[col] = encoder.transform(merged[col])\n",
    "train_data = merged.loc[merged.train_test == 'train']\n",
    "train_data.reset_index(inplace=True,drop=True)\n",
    "test_data = merged.loc[merged.train_test == 'test']\n",
    "test_data.reset_index(inplace=True,drop=True)"
   ]
  },
  {
   "cell_type": "code",
   "execution_count": 48,
   "metadata": {},
   "outputs": [],
   "source": [
    "predictors_fm = ['user_id','product_id','campaign_id','webpage_id','product_category_1','user_group_id','gender',\n",
    "                 'age_level','user_depth','var_1']\n",
    "categorical_indices = np.array([True for col in predictors_fm])\n",
    "encoder = OneHotEncoder(categorical_features=categorical_indices,dtype=np.int8,sparse=True)\n",
    "encoder.fit(merged[predictors_fm])\n",
    "x = encoder.transform(train_data[predictors_fm])"
   ]
  },
  {
   "cell_type": "code",
   "execution_count": 49,
   "metadata": {},
   "outputs": [],
   "source": [
    "X_train, X_test, y_train, y_test = train_test_split(x, train_data[target])\n",
    "y_train = y_train.astype(int).values\n",
    "y_test = y_test.astype(int).values\n",
    "y_train[y_train == 0] = -1"
   ]
  },
  {
   "cell_type": "markdown",
   "metadata": {
    "scrolled": true
   },
   "source": [
    "n_iter = 50\n",
    "step_size = 1\n",
    "start = time.time()\n",
    "auc_train = []\n",
    "auc_test = []\n",
    "z = als.FMClassification(n_iter=0, l2_reg_w=25, l2_reg_V=300, rank=16)\n",
    "z.fit(X_train, y_train)\n",
    "for i in range(n_iter):\n",
    "    print 'Training Iteration #',i+1\n",
    "    z.fit(X_train, y_train, n_more_iter=step_size)\n",
    "    train_auc = roc_auc_score(y_train,z.predict_proba(X_train))\n",
    "    test_auc = roc_auc_score(y_test,z.predict_proba(X_test))\n",
    "    auc_train.append(train_auc)\n",
    "    auc_test.append(test_auc)\n",
    "    print 'Train AUC:',train_auc,'Test AUC:',test_auc\n",
    "end = time.time()\n",
    "print (end - start)/60, ' minutes'"
   ]
  },
  {
   "cell_type": "markdown",
   "metadata": {},
   "source": [
    "from matplotlib import pyplot as plt\n",
    "fig, axes = plt.subplots(ncols=1, figsize=(15, 10))\n",
    "x = np.arange(1, n_iter+1) * step_size\n",
    "with plt.style.context('fivethirtyeight'):\n",
    "    axes.plot(x, auc_train, label='AUC-train', color='r', ls=\"--\")\n",
    "    axes.plot(x, auc_test, label='AUC-test', color='r')\n",
    "axes.set_ylabel('AUC', color='r')\n",
    "axes.legend()"
   ]
  },
  {
   "cell_type": "code",
   "execution_count": 50,
   "metadata": {
    "scrolled": true
   },
   "outputs": [
    {
     "name": "stderr",
     "output_type": "stream",
     "text": [
      "/home/sambeet/anaconda2/lib/python2.7/site-packages/ipykernel_launcher.py:5: SettingWithCopyWarning: \n",
      "A value is trying to be set on a copy of a slice from a DataFrame.\n",
      "Try using .loc[row_indexer,col_indexer] = value instead\n",
      "\n",
      "See the caveats in the documentation: http://pandas.pydata.org/pandas-docs/stable/indexing.html#indexing-view-versus-copy\n",
      "  \"\"\"\n"
     ]
    },
    {
     "name": "stdout",
     "output_type": "stream",
     "text": [
      "Starting training on new fold!\n"
     ]
    },
    {
     "name": "stderr",
     "output_type": "stream",
     "text": [
      "/home/sambeet/anaconda2/lib/python2.7/site-packages/ipykernel_launcher.py:21: SettingWithCopyWarning: \n",
      "A value is trying to be set on a copy of a slice from a DataFrame.\n",
      "Try using .loc[row_indexer,col_indexer] = value instead\n",
      "\n",
      "See the caveats in the documentation: http://pandas.pydata.org/pandas-docs/stable/indexing.html#indexing-view-versus-copy\n",
      "/home/sambeet/anaconda2/lib/python2.7/site-packages/ipykernel_launcher.py:22: SettingWithCopyWarning: \n",
      "A value is trying to be set on a copy of a slice from a DataFrame\n",
      "\n",
      "See the caveats in the documentation: http://pandas.pydata.org/pandas-docs/stable/indexing.html#indexing-view-versus-copy\n"
     ]
    },
    {
     "name": "stdout",
     "output_type": "stream",
     "text": [
      "Train AUC:  0.9137085421956502\n",
      "Test AUC:  0.6245801070367746\n",
      "Starting training on new fold!\n",
      "Train AUC:  0.9147242747768627\n",
      "Test AUC:  0.6192893500020227\n",
      "Starting training on new fold!\n",
      "Train AUC:  0.9146430152150661\n",
      "Test AUC:  0.6160559550169487\n",
      "Starting training on new fold!\n",
      "Train AUC:  0.9145585382948882\n",
      "Test AUC:  0.6184431034727369\n",
      "Starting training on new fold!\n",
      "Train AUC:  0.913914778403961\n",
      "Test AUC:  0.6153270060294047\n"
     ]
    }
   ],
   "source": [
    "num_folds = 5\n",
    "kf = KFold(n_splits=num_folds,shuffle=True,random_state=37)\n",
    "kf.get_n_splits(train_data)\n",
    "test_submit = encoder.transform(test_data[predictors_fm])\n",
    "train_data['pred_fm'] = 0\n",
    "for i, (train_index, test_index) in zip(range(1,num_folds+1),kf.split(train_data)):\n",
    "    X_train = train_data.loc[train_index,predictors_fm]\n",
    "    X_test = train_data.loc[test_index,predictors_fm]\n",
    "    y_train = train_data.loc[train_index,target]\n",
    "    y_test = train_data.loc[test_index,target]\n",
    "    y_train = y_train.astype(int).values.squeeze()\n",
    "    y_test = y_test.astype(int).values.squeeze()\n",
    "    y_train[y_train == 0] = -1\n",
    "    X_train = encoder.transform(X_train)\n",
    "    X_test = encoder.transform(X_test)\n",
    "    print 'Starting training on new fold!'\n",
    "    z = als.FMClassification(l2_reg_w=25, l2_reg_V=300, rank=16, n_iter=25)\n",
    "    z.fit(X_train,y_train)\n",
    "    y_pred_train = z.predict_proba(X_train)\n",
    "    y_pred_test = z.predict_proba(X_test)\n",
    "    test_data['pred_fm_' + str(i)] = z.predict_proba(test_submit)\n",
    "    train_data['pred_fm'][test_index] = y_pred_test\n",
    "    print 'Train AUC: ',roc_auc_score(y_train,y_pred_train)\n",
    "    print 'Test AUC: ',roc_auc_score(y_test,y_pred_test)"
   ]
  },
  {
   "cell_type": "code",
   "execution_count": 51,
   "metadata": {
    "scrolled": true
   },
   "outputs": [
    {
     "name": "stderr",
     "output_type": "stream",
     "text": [
      "/home/sambeet/anaconda2/lib/python2.7/site-packages/ipykernel_launcher.py:1: SettingWithCopyWarning: \n",
      "A value is trying to be set on a copy of a slice from a DataFrame.\n",
      "Try using .loc[row_indexer,col_indexer] = value instead\n",
      "\n",
      "See the caveats in the documentation: http://pandas.pydata.org/pandas-docs/stable/indexing.html#indexing-view-versus-copy\n",
      "  \"\"\"Entry point for launching an IPython kernel.\n",
      "/home/sambeet/anaconda2/lib/python2.7/site-packages/ipykernel_launcher.py:3: SettingWithCopyWarning: \n",
      "A value is trying to be set on a copy of a slice from a DataFrame.\n",
      "Try using .loc[row_indexer,col_indexer] = value instead\n",
      "\n",
      "See the caveats in the documentation: http://pandas.pydata.org/pandas-docs/stable/indexing.html#indexing-view-versus-copy\n",
      "  This is separate from the ipykernel package so we can avoid doing imports until\n",
      "/home/sambeet/anaconda2/lib/python2.7/site-packages/ipykernel_launcher.py:4: SettingWithCopyWarning: \n",
      "A value is trying to be set on a copy of a slice from a DataFrame.\n",
      "Try using .loc[row_indexer,col_indexer] = value instead\n",
      "\n",
      "See the caveats in the documentation: http://pandas.pydata.org/pandas-docs/stable/indexing.html#indexing-view-versus-copy\n",
      "  after removing the cwd from sys.path.\n"
     ]
    }
   ],
   "source": [
    "test_data['pred_fm'] = 0\n",
    "for i in range(1,num_folds+1):\n",
    "    test_data['pred_fm'] = test_data['pred_fm'] + test_data['pred_fm_'+str(i)]\n",
    "test_data['pred_fm'] = test_data['pred_fm']/float(num_folds)\n",
    "test_data.drop(['pred_fm_1','pred_fm_2','pred_fm_3','pred_fm_4','pred_fm_5'],inplace=True,axis=1)\n",
    "predictors.append('pred_fm')"
   ]
  },
  {
   "cell_type": "code",
   "execution_count": 73,
   "metadata": {},
   "outputs": [],
   "source": [
    "rounds = 5000\n",
    "early_stop_rounds = 100\n",
    "lgbm_params = {\n",
    "    'boosting_type': 'gbdt',\n",
    "    'objective': 'binary',\n",
    "    'metric' : 'auc',\n",
    "    'num_leaves' : 255,\n",
    "    'max_depth': 12,\n",
    "    'learning_rate' : 0.01,\n",
    "    'feature_fraction' : 0.5,\n",
    "#    'bagging_fraction' : 0.8,\n",
    "#    'bagging_freq' : 20,\n",
    "    'verbosity' : 0,\n",
    "    'num_threads' : 8,\n",
    "    'min_data_in_leaf' : 10,\n",
    "    'lambda_l1' : 0.1,\n",
    "    'lambda_l2' : 0.1,\n",
    "#    'cat_smooth' : 5,\n",
    "    'max_bin' : 25,\n",
    "#    'min_gain_to_split' : 0.5,\n",
    "    'max_cat_to_onehot' : 50,\n",
    "    'scale_pos_weight' : 1\n",
    "}\n",
    "\n",
    "num_folds = 5"
   ]
  },
  {
   "cell_type": "code",
   "execution_count": 74,
   "metadata": {
    "scrolled": true
   },
   "outputs": [
    {
     "name": "stderr",
     "output_type": "stream",
     "text": [
      "/home/sambeet/anaconda2/lib/python2.7/site-packages/ipykernel_launcher.py:6: SettingWithCopyWarning: \n",
      "A value is trying to be set on a copy of a slice from a DataFrame.\n",
      "Try using .loc[row_indexer,col_indexer] = value instead\n",
      "\n",
      "See the caveats in the documentation: http://pandas.pydata.org/pandas-docs/stable/indexing.html#indexing-view-versus-copy\n",
      "  \n"
     ]
    },
    {
     "name": "stdout",
     "output_type": "stream",
     "text": [
      "Starting training on fold: 1\n",
      "Training until validation scores don't improve for 100 rounds.\n",
      "Early stopping, best iteration is:\n",
      "[369]\ttrain's auc: 0.765446\tvalid's auc: 0.653939\n"
     ]
    },
    {
     "name": "stderr",
     "output_type": "stream",
     "text": [
      "/home/sambeet/anaconda2/lib/python2.7/site-packages/ipykernel_launcher.py:20: SettingWithCopyWarning: \n",
      "A value is trying to be set on a copy of a slice from a DataFrame.\n",
      "Try using .loc[row_indexer,col_indexer] = value instead\n",
      "\n",
      "See the caveats in the documentation: http://pandas.pydata.org/pandas-docs/stable/indexing.html#indexing-view-versus-copy\n",
      "/home/sambeet/anaconda2/lib/python2.7/site-packages/ipykernel_launcher.py:21: SettingWithCopyWarning: \n",
      "A value is trying to be set on a copy of a slice from a DataFrame\n",
      "\n",
      "See the caveats in the documentation: http://pandas.pydata.org/pandas-docs/stable/indexing.html#indexing-view-versus-copy\n"
     ]
    },
    {
     "name": "stdout",
     "output_type": "stream",
     "text": [
      "Starting training on fold: 2\n",
      "Training until validation scores don't improve for 100 rounds.\n",
      "Early stopping, best iteration is:\n",
      "[499]\ttrain's auc: 0.798393\tvalid's auc: 0.646112\n",
      "Starting training on fold: 3\n",
      "Training until validation scores don't improve for 100 rounds.\n",
      "Early stopping, best iteration is:\n",
      "[546]\ttrain's auc: 0.806997\tvalid's auc: 0.645013\n",
      "Starting training on fold: 4\n",
      "Training until validation scores don't improve for 100 rounds.\n",
      "Early stopping, best iteration is:\n",
      "[383]\ttrain's auc: 0.770882\tvalid's auc: 0.647738\n",
      "Starting training on fold: 5\n",
      "Training until validation scores don't improve for 100 rounds.\n",
      "Early stopping, best iteration is:\n",
      "[495]\ttrain's auc: 0.794145\tvalid's auc: 0.647674\n",
      "Train:0.7871725315902515+-0.016155125678150212 Valid:0.6480952030846452+-0.003094611677757342\n"
     ]
    }
   ],
   "source": [
    "kf = KFold(n_splits=num_folds,shuffle=True,random_state=37)\n",
    "kf.get_n_splits(train_data)\n",
    "results_train = []\n",
    "results_valid = []\n",
    "feature_importance = dict()\n",
    "train_data['pred_target_lgb1'] = 0\n",
    "for i, (train_index, test_index) in zip(range(1,num_folds+1),kf.split(train_data)):\n",
    "    X_train = train_data.loc[train_index,predictors].values\n",
    "    X_test = train_data.loc[test_index,predictors].values\n",
    "    y_train = train_data.loc[train_index,target].values\n",
    "    y_test = train_data.loc[test_index,target].values\n",
    "    X_train = lgb.Dataset(X_train,y_train,feature_name=predictors,categorical_feature = categorical)\n",
    "    X_test = lgb.Dataset(X_test,y_test,feature_name=predictors,categorical_feature = categorical)\n",
    "    gc.collect()\n",
    "    print 'Starting training on fold:',i\n",
    "    model = lgb.train(lgbm_params,X_train,num_boost_round=rounds,valid_sets=[X_train,X_test],valid_names=['train','valid'],\n",
    "                    early_stopping_rounds=early_stop_rounds,verbose_eval=1000)\n",
    "    results_train.append(model.best_score['train']['auc'])\n",
    "    results_valid.append(model.best_score['valid']['auc'])\n",
    "    test_data['target_lgb1_' + str(i)] = model.predict(test_data.loc[:,predictors].values)\n",
    "    train_data['pred_target_lgb1'][test_index] = model.predict(train_data.loc[test_index,predictors].values)\n",
    "    total_gain = np.sum(model.feature_importance('gain'))\n",
    "    if i == 1:\n",
    "        for feature, importance in zip(model.feature_name(),model.feature_importance('gain')):\n",
    "            feature_importance.update({feature : importance/total_gain})\n",
    "    else:\n",
    "        for feature, importance in zip(model.feature_name(),model.feature_importance('gain')):\n",
    "            feature_importance[feature] = feature_importance[feature] + (importance/total_gain)\n",
    "for feature,importance in zip(feature_importance.keys(),feature_importance.values()):\n",
    "    feature_importance[feature] = 100*importance/num_folds\n",
    "feature_importance = cl.OrderedDict(sorted(feature_importance.items(), key=lambda t: t[1], reverse=True))\n",
    "print 'Train:' + str(np.mean(results_train)) + '+-' + str(np.std(results_train)), 'Valid:' + str(np.mean(results_valid)) + '+-' + str(np.std(results_valid))"
   ]
  },
  {
   "cell_type": "code",
   "execution_count": 75,
   "metadata": {
    "scrolled": true
   },
   "outputs": [
    {
     "name": "stderr",
     "output_type": "stream",
     "text": [
      "/home/sambeet/anaconda2/lib/python2.7/site-packages/ipykernel_launcher.py:6: SettingWithCopyWarning: \n",
      "A value is trying to be set on a copy of a slice from a DataFrame.\n",
      "Try using .loc[row_indexer,col_indexer] = value instead\n",
      "\n",
      "See the caveats in the documentation: http://pandas.pydata.org/pandas-docs/stable/indexing.html#indexing-view-versus-copy\n",
      "  \n"
     ]
    },
    {
     "name": "stdout",
     "output_type": "stream",
     "text": [
      "Starting training on fold: 1\n",
      "Training until validation scores don't improve for 100 rounds.\n",
      "Early stopping, best iteration is:\n",
      "[581]\ttrain's auc: 0.811902\tvalid's auc: 0.652345\n"
     ]
    },
    {
     "name": "stderr",
     "output_type": "stream",
     "text": [
      "/home/sambeet/anaconda2/lib/python2.7/site-packages/ipykernel_launcher.py:20: SettingWithCopyWarning: \n",
      "A value is trying to be set on a copy of a slice from a DataFrame.\n",
      "Try using .loc[row_indexer,col_indexer] = value instead\n",
      "\n",
      "See the caveats in the documentation: http://pandas.pydata.org/pandas-docs/stable/indexing.html#indexing-view-versus-copy\n",
      "/home/sambeet/anaconda2/lib/python2.7/site-packages/ipykernel_launcher.py:21: SettingWithCopyWarning: \n",
      "A value is trying to be set on a copy of a slice from a DataFrame\n",
      "\n",
      "See the caveats in the documentation: http://pandas.pydata.org/pandas-docs/stable/indexing.html#indexing-view-versus-copy\n"
     ]
    },
    {
     "name": "stdout",
     "output_type": "stream",
     "text": [
      "Starting training on fold: 2\n",
      "Training until validation scores don't improve for 100 rounds.\n",
      "Early stopping, best iteration is:\n",
      "[490]\ttrain's auc: 0.795756\tvalid's auc: 0.646072\n",
      "Starting training on fold: 3\n",
      "Training until validation scores don't improve for 100 rounds.\n",
      "Early stopping, best iteration is:\n",
      "[513]\ttrain's auc: 0.800291\tvalid's auc: 0.648027\n",
      "Starting training on fold: 4\n",
      "Training until validation scores don't improve for 100 rounds.\n",
      "Early stopping, best iteration is:\n",
      "[499]\ttrain's auc: 0.798397\tvalid's auc: 0.644883\n",
      "Starting training on fold: 5\n",
      "Training until validation scores don't improve for 100 rounds.\n",
      "Early stopping, best iteration is:\n",
      "[506]\ttrain's auc: 0.797919\tvalid's auc: 0.648833\n",
      "Train:0.8008528488356503+-0.005710051423407418 Valid:0.6480320465069822+-0.0025690523346369514\n"
     ]
    }
   ],
   "source": [
    "kf = KFold(n_splits=num_folds,shuffle=True,random_state=57)\n",
    "kf.get_n_splits(train_data)\n",
    "results_train = []\n",
    "results_valid = []\n",
    "feature_importance = dict()\n",
    "train_data['pred_target_lgb2'] = 0\n",
    "for i, (train_index, test_index) in zip(range(1,num_folds+1),kf.split(train_data)):\n",
    "    X_train = train_data.loc[train_index,predictors].values\n",
    "    X_test = train_data.loc[test_index,predictors].values\n",
    "    y_train = train_data.loc[train_index,target].values\n",
    "    y_test = train_data.loc[test_index,target].values\n",
    "    X_train = lgb.Dataset(X_train,y_train,feature_name=predictors,categorical_feature = categorical)\n",
    "    X_test = lgb.Dataset(X_test,y_test,feature_name=predictors,categorical_feature = categorical)\n",
    "    gc.collect()\n",
    "    print 'Starting training on fold:',i\n",
    "    model = lgb.train(lgbm_params,X_train,num_boost_round=rounds,valid_sets=[X_train,X_test],valid_names=['train','valid'],\n",
    "                    early_stopping_rounds=early_stop_rounds,verbose_eval=1000)\n",
    "    results_train.append(model.best_score['train']['auc'])\n",
    "    results_valid.append(model.best_score['valid']['auc'])\n",
    "    test_data['target_lgb2_' + str(i)] = model.predict(test_data.loc[:,predictors].values)\n",
    "    train_data['pred_target_lgb2'][test_index] = model.predict(train_data.loc[test_index,predictors].values)\n",
    "    total_gain = np.sum(model.feature_importance('gain'))\n",
    "    if i == 1:\n",
    "        for feature, importance in zip(model.feature_name(),model.feature_importance('gain')):\n",
    "            feature_importance.update({feature : importance/total_gain})\n",
    "    else:\n",
    "        for feature, importance in zip(model.feature_name(),model.feature_importance('gain')):\n",
    "            feature_importance[feature] = feature_importance[feature] + (importance/total_gain)\n",
    "for feature,importance in zip(feature_importance.keys(),feature_importance.values()):\n",
    "    feature_importance[feature] = 100*importance/num_folds\n",
    "feature_importance = cl.OrderedDict(sorted(feature_importance.items(), key=lambda t: t[1], reverse=True))\n",
    "print 'Train:' + str(np.mean(results_train)) + '+-' + str(np.std(results_train)), 'Valid:' + str(np.mean(results_valid)) + '+-' + str(np.std(results_valid))"
   ]
  },
  {
   "cell_type": "code",
   "execution_count": 76,
   "metadata": {
    "scrolled": true
   },
   "outputs": [
    {
     "name": "stderr",
     "output_type": "stream",
     "text": [
      "/home/sambeet/anaconda2/lib/python2.7/site-packages/ipykernel_launcher.py:6: SettingWithCopyWarning: \n",
      "A value is trying to be set on a copy of a slice from a DataFrame.\n",
      "Try using .loc[row_indexer,col_indexer] = value instead\n",
      "\n",
      "See the caveats in the documentation: http://pandas.pydata.org/pandas-docs/stable/indexing.html#indexing-view-versus-copy\n",
      "  \n"
     ]
    },
    {
     "name": "stdout",
     "output_type": "stream",
     "text": [
      "Starting training on fold: 1\n",
      "Training until validation scores don't improve for 100 rounds.\n",
      "Early stopping, best iteration is:\n",
      "[528]\ttrain's auc: 0.804048\tvalid's auc: 0.646391\n"
     ]
    },
    {
     "name": "stderr",
     "output_type": "stream",
     "text": [
      "/home/sambeet/anaconda2/lib/python2.7/site-packages/ipykernel_launcher.py:20: SettingWithCopyWarning: \n",
      "A value is trying to be set on a copy of a slice from a DataFrame.\n",
      "Try using .loc[row_indexer,col_indexer] = value instead\n",
      "\n",
      "See the caveats in the documentation: http://pandas.pydata.org/pandas-docs/stable/indexing.html#indexing-view-versus-copy\n",
      "/home/sambeet/anaconda2/lib/python2.7/site-packages/ipykernel_launcher.py:21: SettingWithCopyWarning: \n",
      "A value is trying to be set on a copy of a slice from a DataFrame\n",
      "\n",
      "See the caveats in the documentation: http://pandas.pydata.org/pandas-docs/stable/indexing.html#indexing-view-versus-copy\n"
     ]
    },
    {
     "name": "stdout",
     "output_type": "stream",
     "text": [
      "Starting training on fold: 2\n",
      "Training until validation scores don't improve for 100 rounds.\n",
      "Early stopping, best iteration is:\n",
      "[375]\ttrain's auc: 0.768329\tvalid's auc: 0.646991\n",
      "Starting training on fold: 3\n",
      "Training until validation scores don't improve for 100 rounds.\n",
      "Early stopping, best iteration is:\n",
      "[476]\ttrain's auc: 0.792599\tvalid's auc: 0.649984\n",
      "Starting training on fold: 4\n",
      "Training until validation scores don't improve for 100 rounds.\n",
      "Early stopping, best iteration is:\n",
      "[367]\ttrain's auc: 0.76591\tvalid's auc: 0.647133\n",
      "Starting training on fold: 5\n",
      "Training until validation scores don't improve for 100 rounds.\n",
      "Early stopping, best iteration is:\n",
      "[546]\ttrain's auc: 0.80395\tvalid's auc: 0.649378\n",
      "Train:0.7869671003487352+-0.016749235037826094 Valid:0.6479755271332953+-0.0014276834220829644\n"
     ]
    }
   ],
   "source": [
    "kf = KFold(n_splits=num_folds,shuffle=True,random_state=124)\n",
    "kf.get_n_splits(train_data)\n",
    "results_train = []\n",
    "results_valid = []\n",
    "feature_importance = dict()\n",
    "train_data['pred_target_lgb3'] = 0\n",
    "for i, (train_index, test_index) in zip(range(1,num_folds+1),kf.split(train_data)):\n",
    "    X_train = train_data.loc[train_index,predictors].values\n",
    "    X_test = train_data.loc[test_index,predictors].values\n",
    "    y_train = train_data.loc[train_index,target].values\n",
    "    y_test = train_data.loc[test_index,target].values\n",
    "    X_train = lgb.Dataset(X_train,y_train,feature_name=predictors,categorical_feature = categorical)\n",
    "    X_test = lgb.Dataset(X_test,y_test,feature_name=predictors,categorical_feature = categorical)\n",
    "    gc.collect()\n",
    "    print 'Starting training on fold:',i\n",
    "    model = lgb.train(lgbm_params,X_train,num_boost_round=rounds,valid_sets=[X_train,X_test],valid_names=['train','valid'],\n",
    "                    early_stopping_rounds=early_stop_rounds,verbose_eval=1000)\n",
    "    results_train.append(model.best_score['train']['auc'])\n",
    "    results_valid.append(model.best_score['valid']['auc'])\n",
    "    test_data['target_lgb3_' + str(i)] = model.predict(test_data.loc[:,predictors].values)\n",
    "    train_data['pred_target_lgb3'][test_index] = model.predict(train_data.loc[test_index,predictors].values)\n",
    "    total_gain = np.sum(model.feature_importance('gain'))\n",
    "    if i == 1:\n",
    "        for feature, importance in zip(model.feature_name(),model.feature_importance('gain')):\n",
    "            feature_importance.update({feature : importance/total_gain})\n",
    "    else:\n",
    "        for feature, importance in zip(model.feature_name(),model.feature_importance('gain')):\n",
    "            feature_importance[feature] = feature_importance[feature] + (importance/total_gain)\n",
    "for feature,importance in zip(feature_importance.keys(),feature_importance.values()):\n",
    "    feature_importance[feature] = 100*importance/num_folds\n",
    "feature_importance = cl.OrderedDict(sorted(feature_importance.items(), key=lambda t: t[1], reverse=True))\n",
    "print 'Train:' + str(np.mean(results_train)) + '+-' + str(np.std(results_train)), 'Valid:' + str(np.mean(results_valid)) + '+-' + str(np.std(results_valid))"
   ]
  },
  {
   "cell_type": "code",
   "execution_count": 77,
   "metadata": {
    "scrolled": true
   },
   "outputs": [
    {
     "data": {
      "image/png": "[encoded data removed]",
      "text/plain": [
       "<matplotlib.figure.Figure at 0x7f2e5e301d90>"
      ]
     },
     "metadata": {},
     "output_type": "display_data"
    }
   ],
   "source": [
    "plt.rcdefaults()\n",
    "fig, ax = plt.subplots()\n",
    "# Example data\n",
    "y_pos = np.arange(len(feature_importance.keys()))\n",
    "ax.barh(y_pos, feature_importance.values(),  align='center',color='green', ecolor='black')\n",
    "ax.set_yticks(y_pos)\n",
    "ax.set_yticklabels(feature_importance.keys())\n",
    "ax.invert_yaxis()  # labels read top-to-bottom\n",
    "ax.set_xlabel('Importance')\n",
    "ax.set_title('Importance')\n",
    "plt.show()"
   ]
  },
  {
   "cell_type": "code",
   "execution_count": 78,
   "metadata": {
    "scrolled": true
   },
   "outputs": [
    {
     "name": "stderr",
     "output_type": "stream",
     "text": [
      "/home/sambeet/anaconda2/lib/python2.7/site-packages/ipykernel_launcher.py:12: SettingWithCopyWarning: \n",
      "A value is trying to be set on a copy of a slice from a DataFrame.\n",
      "Try using .loc[row_indexer,col_indexer] = value instead\n",
      "\n",
      "See the caveats in the documentation: http://pandas.pydata.org/pandas-docs/stable/indexing.html#indexing-view-versus-copy\n",
      "  if sys.path[0] == '':\n"
     ]
    },
    {
     "name": "stdout",
     "output_type": "stream",
     "text": [
      "Starting training on fold: 1\n",
      "0:\tlearn: 0.6401291\ttest: 0.6295134\tbest: 0.6295134 (0)\ttotal: 992ms\tremaining: 1m 38s\n",
      "25:\tlearn: 0.6597104\ttest: 0.6380422\tbest: 0.6380422 (25)\ttotal: 26s\tremaining: 1m 14s\n",
      "50:\tlearn: 0.6619526\ttest: 0.6369505\tbest: 0.6383455 (38)\ttotal: 50.7s\tremaining: 48.7s\n",
      "75:\tlearn: 0.6646099\ttest: 0.6367279\tbest: 0.6383455 (38)\ttotal: 1m 15s\tremaining: 24s\n",
      "\n",
      "bestTest = 0.6383454985\n",
      "bestIteration = 38\n",
      "\n",
      "Shrink model to first 39 iterations.\n"
     ]
    },
    {
     "name": "stderr",
     "output_type": "stream",
     "text": [
      "/home/sambeet/anaconda2/lib/python2.7/site-packages/ipykernel_launcher.py:24: SettingWithCopyWarning: \n",
      "A value is trying to be set on a copy of a slice from a DataFrame\n",
      "\n",
      "See the caveats in the documentation: http://pandas.pydata.org/pandas-docs/stable/indexing.html#indexing-view-versus-copy\n",
      "/home/sambeet/anaconda2/lib/python2.7/site-packages/ipykernel_launcher.py:25: SettingWithCopyWarning: \n",
      "A value is trying to be set on a copy of a slice from a DataFrame.\n",
      "Try using .loc[row_indexer,col_indexer] = value instead\n",
      "\n",
      "See the caveats in the documentation: http://pandas.pydata.org/pandas-docs/stable/indexing.html#indexing-view-versus-copy\n"
     ]
    },
    {
     "name": "stdout",
     "output_type": "stream",
     "text": [
      "Starting training on fold: 2\n",
      "0:\tlearn: 0.6396419\ttest: 0.6291478\tbest: 0.6291478 (0)\ttotal: 1.02s\tremaining: 1m 40s\n",
      "25:\tlearn: 0.6590319\ttest: 0.6418022\tbest: 0.6420642 (24)\ttotal: 26.6s\tremaining: 1m 15s\n",
      "50:\tlearn: 0.6624685\ttest: 0.6403586\tbest: 0.6420809 (27)\ttotal: 51s\tremaining: 49s\n",
      "75:\tlearn: 0.6645469\ttest: 0.6395898\tbest: 0.6420809 (27)\ttotal: 1m 15s\tremaining: 23.8s\n",
      "\n",
      "bestTest = 0.6420808892\n",
      "bestIteration = 27\n",
      "\n",
      "Shrink model to first 28 iterations.\n",
      "Starting training on fold: 3\n",
      "0:\tlearn: 0.6417587\ttest: 0.6312237\tbest: 0.6312237 (0)\ttotal: 980ms\tremaining: 1m 37s\n",
      "25:\tlearn: 0.6579289\ttest: 0.6410469\tbest: 0.6413175 (24)\ttotal: 26.9s\tremaining: 1m 16s\n",
      "50:\tlearn: 0.6613986\ttest: 0.6407194\tbest: 0.6414501 (27)\ttotal: 52.6s\tremaining: 50.6s\n",
      "75:\tlearn: 0.6635460\ttest: 0.6400774\tbest: 0.6414501 (27)\ttotal: 1m 17s\tremaining: 24.5s\n",
      "\n",
      "bestTest = 0.6414500704\n",
      "bestIteration = 27\n",
      "\n",
      "Shrink model to first 28 iterations.\n",
      "Starting training on fold: 4\n",
      "0:\tlearn: 0.6386196\ttest: 0.6223145\tbest: 0.6223145 (0)\ttotal: 1.02s\tremaining: 1m 41s\n",
      "25:\tlearn: 0.6577442\ttest: 0.6365649\tbest: 0.6365649 (25)\ttotal: 26.7s\tremaining: 1m 15s\n",
      "50:\tlearn: 0.6617971\ttest: 0.6358710\tbest: 0.6368035 (28)\ttotal: 51.2s\tremaining: 49.2s\n",
      "75:\tlearn: 0.6651706\ttest: 0.6357436\tbest: 0.6368035 (28)\ttotal: 1m 15s\tremaining: 23.8s\n",
      "\n",
      "bestTest = 0.6368035308\n",
      "bestIteration = 28\n",
      "\n",
      "Shrink model to first 29 iterations.\n",
      "Starting training on fold: 5\n",
      "0:\tlearn: 0.6393841\ttest: 0.6323155\tbest: 0.6323155 (0)\ttotal: 983ms\tremaining: 1m 37s\n",
      "25:\tlearn: 0.6577895\ttest: 0.6437601\tbest: 0.6437773 (24)\ttotal: 25.4s\tremaining: 1m 12s\n",
      "50:\tlearn: 0.6622506\ttest: 0.6434030\tbest: 0.6442511 (33)\ttotal: 49.6s\tremaining: 47.7s\n",
      "75:\tlearn: 0.6640861\ttest: 0.6422238\tbest: 0.6442511 (33)\ttotal: 1m 13s\tremaining: 23.3s\n",
      "\n",
      "bestTest = 0.6442510885\n",
      "bestIteration = 33\n",
      "\n",
      "Shrink model to first 34 iterations.\n",
      "Train:0.6589701435204182+-0.0010245951606668218 Valid:0.6405862154672299+-0.0026736157401758558\n"
     ]
    }
   ],
   "source": [
    "import catboost as cb\n",
    "from sklearn.metrics import roc_auc_score\n",
    "cat_features_index = []\n",
    "for cat in categorical:\n",
    "    for pred in predictors:\n",
    "        if cat == pred:\n",
    "            cat_features_index.append(predictors.index(cat))\n",
    "kf = KFold(n_splits=num_folds,shuffle=True,random_state=42)\n",
    "kf.get_n_splits(train_data)\n",
    "results_train = []\n",
    "results_valid = []\n",
    "train_data['pred_target_cb1'] = 0\n",
    "for i, (train_index, test_index) in zip(range(1,num_folds+1),kf.split(train_data)):\n",
    "    X_train = train_data.loc[train_index,predictors].values\n",
    "    X_test = train_data.loc[test_index,predictors].values\n",
    "    y_train = train_data.loc[train_index,target].values\n",
    "    y_test = train_data.loc[test_index,target].values\n",
    "    gc.collect()\n",
    "    print 'Starting training on fold:',i\n",
    "    model = cb.CatBoostClassifier(eval_metric=\"AUC\",depth=10,iterations=100,l2_leaf_reg=0.2,learning_rate=0.01)\n",
    "    model.fit(X_train,y_train, cat_features= cat_features_index,eval_set=(X_test,y_test),verbose=25)\n",
    "    results_train.append(roc_auc_score(y_train,model.predict_proba(X_train)[:,1]))\n",
    "    results_valid.append(roc_auc_score(y_test,model.predict_proba(X_test)[:,1]))\n",
    "    train_data['pred_target_cb1'][test_index] = model.predict_proba(X_test)[:,1]\n",
    "    test_data['target_cb1_' + str(i)] = model.predict_proba(test_data.loc[:,predictors].values)[:,1]\n",
    "print 'Train:' + str(np.mean(results_train)) + '+-' + str(np.std(results_train)), 'Valid:' + str(np.mean(results_valid)) + '+-' + str(np.std(results_valid))"
   ]
  },
  {
   "cell_type": "code",
   "execution_count": 79,
   "metadata": {
    "scrolled": true
   },
   "outputs": [
    {
     "name": "stderr",
     "output_type": "stream",
     "text": [
      "/home/sambeet/anaconda2/lib/python2.7/site-packages/ipykernel_launcher.py:12: SettingWithCopyWarning: \n",
      "A value is trying to be set on a copy of a slice from a DataFrame.\n",
      "Try using .loc[row_indexer,col_indexer] = value instead\n",
      "\n",
      "See the caveats in the documentation: http://pandas.pydata.org/pandas-docs/stable/indexing.html#indexing-view-versus-copy\n",
      "  if sys.path[0] == '':\n"
     ]
    },
    {
     "name": "stdout",
     "output_type": "stream",
     "text": [
      "Starting training on fold: 1\n",
      "0:\tlearn: 0.6413545\ttest: 0.6280457\tbest: 0.6280457 (0)\ttotal: 1.02s\tremaining: 50s\n",
      "25:\tlearn: 0.6580747\ttest: 0.6407359\tbest: 0.6407779 (24)\ttotal: 25.2s\tremaining: 23.3s\n",
      "\n",
      "bestTest = 0.6412752435\n",
      "bestIteration = 38\n",
      "\n",
      "Shrink model to first 39 iterations.\n"
     ]
    },
    {
     "name": "stderr",
     "output_type": "stream",
     "text": [
      "/home/sambeet/anaconda2/lib/python2.7/site-packages/ipykernel_launcher.py:24: SettingWithCopyWarning: \n",
      "A value is trying to be set on a copy of a slice from a DataFrame\n",
      "\n",
      "See the caveats in the documentation: http://pandas.pydata.org/pandas-docs/stable/indexing.html#indexing-view-versus-copy\n",
      "/home/sambeet/anaconda2/lib/python2.7/site-packages/ipykernel_launcher.py:25: SettingWithCopyWarning: \n",
      "A value is trying to be set on a copy of a slice from a DataFrame.\n",
      "Try using .loc[row_indexer,col_indexer] = value instead\n",
      "\n",
      "See the caveats in the documentation: http://pandas.pydata.org/pandas-docs/stable/indexing.html#indexing-view-versus-copy\n"
     ]
    },
    {
     "name": "stdout",
     "output_type": "stream",
     "text": [
      "Starting training on fold: 2\n",
      "0:\tlearn: 0.6397313\ttest: 0.6333093\tbest: 0.6333093 (0)\ttotal: 956ms\tremaining: 46.9s\n",
      "25:\tlearn: 0.6567771\ttest: 0.6409626\tbest: 0.6409626 (25)\ttotal: 25.2s\tremaining: 23.2s\n",
      "\n",
      "bestTest = 0.6411572994\n",
      "bestIteration = 27\n",
      "\n",
      "Shrink model to first 28 iterations.\n",
      "Starting training on fold: 3\n",
      "0:\tlearn: 0.6405288\ttest: 0.6265678\tbest: 0.6265678 (0)\ttotal: 979ms\tremaining: 48s\n",
      "25:\tlearn: 0.6582042\ttest: 0.6368053\tbest: 0.6369312 (24)\ttotal: 27.3s\tremaining: 25.2s\n",
      "\n",
      "bestTest = 0.6370552427\n",
      "bestIteration = 35\n",
      "\n",
      "Shrink model to first 36 iterations.\n",
      "Starting training on fold: 4\n",
      "0:\tlearn: 0.6417650\ttest: 0.6294648\tbest: 0.6294648 (0)\ttotal: 1.09s\tremaining: 53.4s\n",
      "25:\tlearn: 0.6582073\ttest: 0.6431872\tbest: 0.6432627 (22)\ttotal: 27.2s\tremaining: 25.1s\n",
      "\n",
      "bestTest = 0.6433662839\n",
      "bestIteration = 26\n",
      "\n",
      "Shrink model to first 27 iterations.\n",
      "Starting training on fold: 5\n",
      "0:\tlearn: 0.6393177\ttest: 0.6239329\tbest: 0.6239329 (0)\ttotal: 1.09s\tremaining: 53.4s\n",
      "25:\tlearn: 0.6588796\ttest: 0.6376198\tbest: 0.6376871 (11)\ttotal: 26.1s\tremaining: 24.1s\n",
      "\n",
      "bestTest = 0.6377038941\n",
      "bestIteration = 30\n",
      "\n",
      "Shrink model to first 31 iterations.\n",
      "Train:0.6587667390565477+-0.0012645415797765715 Valid:0.6401115927299476+-0.0023739793125677707\n"
     ]
    }
   ],
   "source": [
    "import catboost as cb\n",
    "from sklearn.metrics import roc_auc_score\n",
    "cat_features_index = []\n",
    "for cat in categorical:\n",
    "    for pred in predictors:\n",
    "        if cat == pred:\n",
    "            cat_features_index.append(predictors.index(cat))\n",
    "kf = KFold(n_splits=num_folds,shuffle=True,random_state=12)\n",
    "kf.get_n_splits(train_data)\n",
    "results_train = []\n",
    "results_valid = []\n",
    "train_data['pred_target_cb2'] = 0\n",
    "for i, (train_index, test_index) in zip(range(1,num_folds+1),kf.split(train_data)):\n",
    "    X_train = train_data.loc[train_index,predictors].values\n",
    "    X_test = train_data.loc[test_index,predictors].values\n",
    "    y_train = train_data.loc[train_index,target].values\n",
    "    y_test = train_data.loc[test_index,target].values\n",
    "    gc.collect()\n",
    "    print 'Starting training on fold:',i\n",
    "    model = cb.CatBoostClassifier(eval_metric=\"AUC\",depth=10,iterations=50,l2_leaf_reg=0.2,learning_rate=0.01)\n",
    "    model.fit(X_train,y_train, cat_features= cat_features_index,eval_set=(X_test,y_test),verbose=25)\n",
    "    results_train.append(roc_auc_score(y_train,model.predict_proba(X_train)[:,1]))\n",
    "    results_valid.append(roc_auc_score(y_test,model.predict_proba(X_test)[:,1]))\n",
    "    train_data['pred_target_cb2'][test_index] = model.predict_proba(X_test)[:,1]\n",
    "    test_data['target_cb2_' + str(i)] = model.predict_proba(test_data.loc[:,predictors].values)[:,1]\n",
    "print 'Train:' + str(np.mean(results_train)) + '+-' + str(np.std(results_train)), 'Valid:' + str(np.mean(results_valid)) + '+-' + str(np.std(results_valid))"
   ]
  },
  {
   "cell_type": "code",
   "execution_count": 80,
   "metadata": {
    "scrolled": true
   },
   "outputs": [
    {
     "name": "stderr",
     "output_type": "stream",
     "text": [
      "/home/sambeet/anaconda2/lib/python2.7/site-packages/ipykernel_launcher.py:1: SettingWithCopyWarning: \n",
      "A value is trying to be set on a copy of a slice from a DataFrame.\n",
      "Try using .loc[row_indexer,col_indexer] = value instead\n",
      "\n",
      "See the caveats in the documentation: http://pandas.pydata.org/pandas-docs/stable/indexing.html#indexing-view-versus-copy\n",
      "  \"\"\"Entry point for launching an IPython kernel.\n",
      "/home/sambeet/anaconda2/lib/python2.7/site-packages/ipykernel_launcher.py:2: SettingWithCopyWarning: \n",
      "A value is trying to be set on a copy of a slice from a DataFrame.\n",
      "Try using .loc[row_indexer,col_indexer] = value instead\n",
      "\n",
      "See the caveats in the documentation: http://pandas.pydata.org/pandas-docs/stable/indexing.html#indexing-view-versus-copy\n",
      "  \n",
      "/home/sambeet/anaconda2/lib/python2.7/site-packages/ipykernel_launcher.py:3: SettingWithCopyWarning: \n",
      "A value is trying to be set on a copy of a slice from a DataFrame.\n",
      "Try using .loc[row_indexer,col_indexer] = value instead\n",
      "\n",
      "See the caveats in the documentation: http://pandas.pydata.org/pandas-docs/stable/indexing.html#indexing-view-versus-copy\n",
      "  This is separate from the ipykernel package so we can avoid doing imports until\n",
      "/home/sambeet/anaconda2/lib/python2.7/site-packages/ipykernel_launcher.py:4: SettingWithCopyWarning: \n",
      "A value is trying to be set on a copy of a slice from a DataFrame.\n",
      "Try using .loc[row_indexer,col_indexer] = value instead\n",
      "\n",
      "See the caveats in the documentation: http://pandas.pydata.org/pandas-docs/stable/indexing.html#indexing-view-versus-copy\n",
      "  after removing the cwd from sys.path.\n",
      "/home/sambeet/anaconda2/lib/python2.7/site-packages/ipykernel_launcher.py:5: SettingWithCopyWarning: \n",
      "A value is trying to be set on a copy of a slice from a DataFrame.\n",
      "Try using .loc[row_indexer,col_indexer] = value instead\n",
      "\n",
      "See the caveats in the documentation: http://pandas.pydata.org/pandas-docs/stable/indexing.html#indexing-view-versus-copy\n",
      "  \"\"\"\n",
      "/home/sambeet/anaconda2/lib/python2.7/site-packages/ipykernel_launcher.py:7: SettingWithCopyWarning: \n",
      "A value is trying to be set on a copy of a slice from a DataFrame.\n",
      "Try using .loc[row_indexer,col_indexer] = value instead\n",
      "\n",
      "See the caveats in the documentation: http://pandas.pydata.org/pandas-docs/stable/indexing.html#indexing-view-versus-copy\n",
      "  import sys\n",
      "/home/sambeet/anaconda2/lib/python2.7/site-packages/ipykernel_launcher.py:8: SettingWithCopyWarning: \n",
      "A value is trying to be set on a copy of a slice from a DataFrame.\n",
      "Try using .loc[row_indexer,col_indexer] = value instead\n",
      "\n",
      "See the caveats in the documentation: http://pandas.pydata.org/pandas-docs/stable/indexing.html#indexing-view-versus-copy\n",
      "  \n",
      "/home/sambeet/anaconda2/lib/python2.7/site-packages/ipykernel_launcher.py:9: SettingWithCopyWarning: \n",
      "A value is trying to be set on a copy of a slice from a DataFrame.\n",
      "Try using .loc[row_indexer,col_indexer] = value instead\n",
      "\n",
      "See the caveats in the documentation: http://pandas.pydata.org/pandas-docs/stable/indexing.html#indexing-view-versus-copy\n",
      "  if __name__ == '__main__':\n",
      "/home/sambeet/anaconda2/lib/python2.7/site-packages/ipykernel_launcher.py:10: SettingWithCopyWarning: \n",
      "A value is trying to be set on a copy of a slice from a DataFrame.\n",
      "Try using .loc[row_indexer,col_indexer] = value instead\n",
      "\n",
      "See the caveats in the documentation: http://pandas.pydata.org/pandas-docs/stable/indexing.html#indexing-view-versus-copy\n",
      "  # Remove the CWD from sys.path while we load stuff.\n",
      "/home/sambeet/anaconda2/lib/python2.7/site-packages/ipykernel_launcher.py:11: SettingWithCopyWarning: \n",
      "A value is trying to be set on a copy of a slice from a DataFrame.\n",
      "Try using .loc[row_indexer,col_indexer] = value instead\n",
      "\n",
      "See the caveats in the documentation: http://pandas.pydata.org/pandas-docs/stable/indexing.html#indexing-view-versus-copy\n",
      "  # This is added back by InteractiveShellApp.init_path()\n",
      "/home/sambeet/anaconda2/lib/python2.7/site-packages/ipykernel_launcher.py:12: SettingWithCopyWarning: \n",
      "A value is trying to be set on a copy of a slice from a DataFrame.\n",
      "Try using .loc[row_indexer,col_indexer] = value instead\n",
      "\n",
      "See the caveats in the documentation: http://pandas.pydata.org/pandas-docs/stable/indexing.html#indexing-view-versus-copy\n",
      "  if sys.path[0] == '':\n",
      "/home/sambeet/anaconda2/lib/python2.7/site-packages/ipykernel_launcher.py:13: SettingWithCopyWarning: \n",
      "A value is trying to be set on a copy of a slice from a DataFrame.\n",
      "Try using .loc[row_indexer,col_indexer] = value instead\n",
      "\n",
      "See the caveats in the documentation: http://pandas.pydata.org/pandas-docs/stable/indexing.html#indexing-view-versus-copy\n",
      "  del sys.path[0]\n",
      "/home/sambeet/anaconda2/lib/python2.7/site-packages/ipykernel_launcher.py:14: SettingWithCopyWarning: \n",
      "A value is trying to be set on a copy of a slice from a DataFrame.\n",
      "Try using .loc[row_indexer,col_indexer] = value instead\n",
      "\n",
      "See the caveats in the documentation: http://pandas.pydata.org/pandas-docs/stable/indexing.html#indexing-view-versus-copy\n",
      "  \n",
      "/home/sambeet/anaconda2/lib/python2.7/site-packages/ipykernel_launcher.py:15: SettingWithCopyWarning: \n",
      "A value is trying to be set on a copy of a slice from a DataFrame.\n",
      "Try using .loc[row_indexer,col_indexer] = value instead\n",
      "\n",
      "See the caveats in the documentation: http://pandas.pydata.org/pandas-docs/stable/indexing.html#indexing-view-versus-copy\n",
      "  from ipykernel import kernelapp as app\n",
      "/home/sambeet/anaconda2/lib/python2.7/site-packages/ipykernel_launcher.py:16: SettingWithCopyWarning: \n",
      "A value is trying to be set on a copy of a slice from a DataFrame.\n",
      "Try using .loc[row_indexer,col_indexer] = value instead\n",
      "\n",
      "See the caveats in the documentation: http://pandas.pydata.org/pandas-docs/stable/indexing.html#indexing-view-versus-copy\n",
      "  app.launch_new_instance()\n"
     ]
    }
   ],
   "source": [
    "test_data['pred_target_lgb1'] = 0.\n",
    "test_data['pred_target_lgb2'] = 0.\n",
    "test_data['pred_target_lgb3'] = 0.\n",
    "test_data['pred_target_cb1'] = 0.\n",
    "test_data['pred_target_cb2'] = 0.\n",
    "for i in range(1,num_folds+1):\n",
    "    test_data['pred_target_lgb1'] = test_data['pred_target_lgb1'] + test_data['target_lgb1_'+str(i)]\n",
    "    test_data['pred_target_lgb2'] = test_data['pred_target_lgb2'] + test_data['target_lgb2_'+str(i)]\n",
    "    test_data['pred_target_lgb3'] = test_data['pred_target_lgb3'] + test_data['target_lgb3_'+str(i)]\n",
    "    test_data['pred_target_cb1'] = test_data['pred_target_cb1'] + test_data['target_cb1_'+str(i)]\n",
    "    test_data['pred_target_cb2'] = test_data['pred_target_cb2'] + test_data['target_cb2_'+str(i)]\n",
    "test_data['pred_target_lgb1'] = test_data['pred_target_lgb1']/float(num_folds)\n",
    "test_data['pred_target_lgb2'] = test_data['pred_target_lgb2']/float(num_folds)\n",
    "test_data['pred_target_lgb3'] = test_data['pred_target_lgb3']/float(num_folds)\n",
    "test_data['pred_target_cb1'] = test_data['pred_target_cb1']/float(num_folds)\n",
    "test_data['pred_target_cb2'] = test_data['pred_target_cb2']/float(num_folds)"
   ]
  },
  {
   "cell_type": "code",
   "execution_count": 142,
   "metadata": {},
   "outputs": [
    {
     "name": "stderr",
     "output_type": "stream",
     "text": [
      "/home/sambeet/anaconda2/lib/python2.7/site-packages/ipykernel_launcher.py:6: SettingWithCopyWarning: \n",
      "A value is trying to be set on a copy of a slice from a DataFrame.\n",
      "Try using .loc[row_indexer,col_indexer] = value instead\n",
      "\n",
      "See the caveats in the documentation: http://pandas.pydata.org/pandas-docs/stable/indexing.html#indexing-view-versus-copy\n",
      "  \n",
      "/home/sambeet/anaconda2/lib/python2.7/site-packages/ipykernel_launcher.py:7: SettingWithCopyWarning: \n",
      "A value is trying to be set on a copy of a slice from a DataFrame.\n",
      "Try using .loc[row_indexer,col_indexer] = value instead\n",
      "\n",
      "See the caveats in the documentation: http://pandas.pydata.org/pandas-docs/stable/indexing.html#indexing-view-versus-copy\n",
      "  import sys\n"
     ]
    },
    {
     "name": "stdout",
     "output_type": "stream",
     "text": [
      "0.6490448377769633\n"
     ]
    },
    {
     "name": "stderr",
     "output_type": "stream",
     "text": [
      "/home/sambeet/anaconda2/lib/python2.7/site-packages/ipykernel_launcher.py:11: SettingWithCopyWarning: \n",
      "A value is trying to be set on a copy of a slice from a DataFrame.\n",
      "Try using .loc[row_indexer,col_indexer] = value instead\n",
      "\n",
      "See the caveats in the documentation: http://pandas.pydata.org/pandas-docs/stable/indexing.html#indexing-view-versus-copy\n",
      "  # This is added back by InteractiveShellApp.init_path()\n"
     ]
    }
   ],
   "source": [
    "from sklearn.linear_model import LogisticRegression\n",
    "stacking_columns = ['pred_target_lgb1','pred_target_lgb2','pred_target_lgb3','pred_target_cb1','pred_target_cb2']\n",
    "train_data2 = train_data[stacking_columns]\n",
    "test_data2 = test_data[['session_id'] + stacking_columns]\n",
    "for col in stacking_columns:\n",
    "    train_data2[col] = train_data2[col].rank(pct=True)\n",
    "    test_data2[col] = test_data2[col].rank(pct=True)\n",
    "lr_model=LogisticRegression()\n",
    "lr_model.fit(X=train_data2[stacking_columns].values,y=train_data[target].values)\n",
    "print(roc_auc_score(y_score=lr_model.predict_proba(train_data2[stacking_columns].values)[:,1],y_true=train_data[target].values))\n",
    "test_data2['is_click']=lr_model.predict_proba(X=test_data2[stacking_columns])[:,1]\n",
    "test_data2[['session_id','is_click']].to_csv('sub_sam_stack_lr.csv',index=False)"
   ]
  }
 ],
 "metadata": {
  "kernelspec": {
   "display_name": "Python 3",
   "language": "python",
   "name": "python3"
  },
  "language_info": {
   "codemirror_mode": {
    "name": "ipython",
    "version": 3
   },
   "file_extension": ".py",
   "mimetype": "text/x-python",
   "name": "python",
   "nbconvert_exporter": "python",
   "pygments_lexer": "ipython3",
   "version": "3.6.5"
  }
 },
 "nbformat": 4,
 "nbformat_minor": 2
}
