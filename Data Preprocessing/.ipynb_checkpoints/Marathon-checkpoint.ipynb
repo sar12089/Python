{
 "cells": [
  {
   "cell_type": "code",
   "execution_count": 319,
   "metadata": {},
   "outputs": [],
   "source": [
    "import pandas as pd"
   ]
  },
  {
   "cell_type": "code",
   "execution_count": 344,
   "metadata": {},
   "outputs": [],
   "source": [
    "df=pd.read_csv(r'C:\\Users\\explo\\Documents\\GitHub\\Inceptez\\Batch-6\\13-Linear Regression\\Assignment\\MarathonData.csv')"
   ]
  },
  {
   "cell_type": "code",
   "execution_count": 345,
   "metadata": {},
   "outputs": [
    {
     "data": {
      "text/html": [
       "<div>\n",
       "<style scoped>\n",
       "    .dataframe tbody tr th:only-of-type {\n",
       "        vertical-align: middle;\n",
       "    }\n",
       "\n",
       "    .dataframe tbody tr th {\n",
       "        vertical-align: top;\n",
       "    }\n",
       "\n",
       "    .dataframe thead th {\n",
       "        text-align: right;\n",
       "    }\n",
       "</style>\n",
       "<table border=\"1\" class=\"dataframe\">\n",
       "  <thead>\n",
       "    <tr style=\"text-align: right;\">\n",
       "      <th></th>\n",
       "      <th>id</th>\n",
       "      <th>Marathon</th>\n",
       "      <th>Name</th>\n",
       "      <th>Category</th>\n",
       "      <th>km4week</th>\n",
       "      <th>sp4week</th>\n",
       "      <th>CrossTraining</th>\n",
       "      <th>Wall21</th>\n",
       "      <th>MarathonTime</th>\n",
       "      <th>CATEGORY</th>\n",
       "    </tr>\n",
       "  </thead>\n",
       "  <tbody>\n",
       "    <tr>\n",
       "      <th>0</th>\n",
       "      <td>1</td>\n",
       "      <td>Prague17</td>\n",
       "      <td>Blair MORGAN</td>\n",
       "      <td>MAM</td>\n",
       "      <td>132.8</td>\n",
       "      <td>14.434783</td>\n",
       "      <td>NaN</td>\n",
       "      <td>1.16</td>\n",
       "      <td>2.37</td>\n",
       "      <td>A</td>\n",
       "    </tr>\n",
       "    <tr>\n",
       "      <th>1</th>\n",
       "      <td>2</td>\n",
       "      <td>Prague17</td>\n",
       "      <td>Robert Heczko</td>\n",
       "      <td>MAM</td>\n",
       "      <td>68.6</td>\n",
       "      <td>13.674419</td>\n",
       "      <td>NaN</td>\n",
       "      <td>1.23</td>\n",
       "      <td>2.59</td>\n",
       "      <td>A</td>\n",
       "    </tr>\n",
       "    <tr>\n",
       "      <th>2</th>\n",
       "      <td>3</td>\n",
       "      <td>Prague17</td>\n",
       "      <td>Michon Jerome</td>\n",
       "      <td>MAM</td>\n",
       "      <td>82.7</td>\n",
       "      <td>13.520436</td>\n",
       "      <td>NaN</td>\n",
       "      <td>1.30</td>\n",
       "      <td>2.66</td>\n",
       "      <td>A</td>\n",
       "    </tr>\n",
       "    <tr>\n",
       "      <th>3</th>\n",
       "      <td>4</td>\n",
       "      <td>Prague17</td>\n",
       "      <td>Daniel Or lek</td>\n",
       "      <td>M45</td>\n",
       "      <td>137.5</td>\n",
       "      <td>12.258544</td>\n",
       "      <td>NaN</td>\n",
       "      <td>1.32</td>\n",
       "      <td>2.68</td>\n",
       "      <td>A</td>\n",
       "    </tr>\n",
       "    <tr>\n",
       "      <th>4</th>\n",
       "      <td>5</td>\n",
       "      <td>Prague17</td>\n",
       "      <td>Luk ? Mr zek</td>\n",
       "      <td>MAM</td>\n",
       "      <td>84.6</td>\n",
       "      <td>13.945055</td>\n",
       "      <td>NaN</td>\n",
       "      <td>1.36</td>\n",
       "      <td>2.74</td>\n",
       "      <td>A</td>\n",
       "    </tr>\n",
       "  </tbody>\n",
       "</table>\n",
       "</div>"
      ],
      "text/plain": [
       "   id  Marathon           Name Category  km4week    sp4week CrossTraining  \\\n",
       "0   1  Prague17   Blair MORGAN      MAM    132.8  14.434783           NaN   \n",
       "1   2  Prague17  Robert Heczko      MAM     68.6  13.674419           NaN   \n",
       "2   3  Prague17  Michon Jerome      MAM     82.7  13.520436           NaN   \n",
       "3   4  Prague17  Daniel Or lek      M45    137.5  12.258544           NaN   \n",
       "4   5  Prague17   Luk ? Mr zek      MAM     84.6  13.945055           NaN   \n",
       "\n",
       "  Wall21  MarathonTime CATEGORY  \n",
       "0   1.16          2.37        A  \n",
       "1   1.23          2.59        A  \n",
       "2   1.30          2.66        A  \n",
       "3   1.32          2.68        A  \n",
       "4   1.36          2.74        A  "
      ]
     },
     "execution_count": 345,
     "metadata": {},
     "output_type": "execute_result"
    }
   ],
   "source": [
    "df.head()"
   ]
  },
  {
   "cell_type": "code",
   "execution_count": 346,
   "metadata": {},
   "outputs": [
    {
     "data": {
      "text/plain": [
       "(87, 10)"
      ]
     },
     "execution_count": 346,
     "metadata": {},
     "output_type": "execute_result"
    }
   ],
   "source": [
    "df.shape"
   ]
  },
  {
   "cell_type": "code",
   "execution_count": 347,
   "metadata": {},
   "outputs": [
    {
     "data": {
      "text/plain": [
       "Index(['id', 'Marathon', 'Name', 'Category', 'km4week', 'sp4week',\n",
       "       'CrossTraining', 'Wall21', 'MarathonTime', 'CATEGORY'],\n",
       "      dtype='object')"
      ]
     },
     "execution_count": 347,
     "metadata": {},
     "output_type": "execute_result"
    }
   ],
   "source": [
    "df.columns"
   ]
  },
  {
   "cell_type": "code",
   "execution_count": 348,
   "metadata": {},
   "outputs": [
    {
     "name": "stdout",
     "output_type": "stream",
     "text": [
      "87\n",
      "1\n",
      "Prague17    87\n",
      "Name: Marathon, dtype: int64\n",
      "86\n",
      "Tomas Drabek                 2\n",
      "Raphael Bicelli              1\n",
      "Robert Heczko                1\n",
      "martin ?indel ?              1\n",
      "marek kolba                  1\n",
      "Jind?ich Lisى                1\n",
      "Carlos Valladares Calvo      1\n",
      "Milo? Bosnovi?               1\n",
      "Luis Salom                   1\n",
      "Stefano Vegliani             1\n",
      "Szigyarto Laszlo             1\n",
      "Thanasis Kypraios            1\n",
      "Michal Karhan                1\n",
      "Ji?، Polcar                  1\n",
      "Branislav Jacko              1\n",
      "Daniel Or lek                1\n",
      "Pavel ?imek                  1\n",
      "Yoi Ohsako                   1\n",
      "David Pecina                 1\n",
      "Cat Simpson                  1\n",
      "Michel Brucker               1\n",
      "Michon Jerome                1\n",
      "Pavel Szappanos              1\n",
      "Frederic Bonningues          1\n",
      "Ale? Kuchynka                1\n",
      "Brian Parkinson              1\n",
      "????? ?????                  1\n",
      "Jrom GOJIRIEN                1\n",
      "Radek Dvo? k                 1\n",
      "Luka Slap?ak Pelliccioni     1\n",
      "                            ..\n",
      "Luk ? Kozubik                1\n",
      "Pavel Hlo?ek                 1\n",
      "Tom ? K?e?ek                 1\n",
      "Filip Machart                1\n",
      "Jakub Adam،k                 1\n",
      "Lucie Zona                   1\n",
      "Kate?ina Ka?parova           1\n",
      "Joost Saanen                 1\n",
      "Ian  LoriggioIan Loriggio    1\n",
      "Jپrgen Steiner               1\n",
      "Javier Abarca                1\n",
      "Bradley Selmes               1\n",
      "Piers Ronan                  1\n",
      "Jaroslav Jur sek             1\n",
      "Blair MORGAN                 1\n",
      "Andrej Madliak               1\n",
      "Jaroslaw Marchewka           1\n",
      "Chris Smith                  1\n",
      "Emilio Zamarriego Garcia     1\n",
      "David Lehnen                 1\n",
      "Denis Wachtl                 1\n",
      "Mark Orton                   1\n",
      "C‚dou Gatto                  1\n",
      "Maksim Remezau               1\n",
      "Luk ? Mr zek                 1\n",
      "Mickael Rihouey              1\n",
      "Ondrej Barta                 1\n",
      "David Marek                  1\n",
      "Enrico Ballerin              1\n",
      "Kristen Stephenson           1\n",
      "Name: Name, Length: 86, dtype: int64\n",
      "6\n",
      "MAM    40\n",
      "M40    15\n",
      "M45    15\n",
      "WAM     4\n",
      "M50     4\n",
      "M55     3\n",
      "Name: Category, dtype: int64\n",
      "5\n",
      "ciclista 3h     5\n",
      "ciclista 5h     4\n",
      "ciclista 4h     2\n",
      "ciclista 13h    1\n",
      "ciclista 1h     1\n",
      "Name: CrossTraining, dtype: int64\n",
      "52\n",
      " -       6\n",
      "1.67     6\n",
      "1.50     4\n",
      "1.94     4\n",
      "1.62     3\n",
      "1.41     3\n",
      "1.45     3\n",
      "1.44     3\n",
      "2.05     3\n",
      "1.97     2\n",
      "1.38     2\n",
      "1.77     2\n",
      "1.76     2\n",
      "1.32     2\n",
      "1.69     2\n",
      "1.66     2\n",
      "1.52     2\n",
      "1.60     2\n",
      "1.74     1\n",
      "1.61     1\n",
      "1.16     1\n",
      "1.57     1\n",
      "1.80     1\n",
      "1.37     1\n",
      "1.59     1\n",
      "1.54     1\n",
      "1.36     1\n",
      "1.35     1\n",
      "1.65     1\n",
      "1.40     1\n",
      "1.56     1\n",
      "1.55     1\n",
      "1.78     1\n",
      "1.81     1\n",
      "1.51     1\n",
      "1.23     1\n",
      "1.98     1\n",
      "2.02     1\n",
      "1.30     1\n",
      "1.63     1\n",
      "1.58     1\n",
      "1.93     1\n",
      "1.68     1\n",
      "1.71     1\n",
      "1.90     1\n",
      "1.85     1\n",
      "1.42     1\n",
      "1.75     1\n",
      "1.88     1\n",
      "1.48     1\n",
      "1.64     1\n",
      "1.72     1\n",
      "Name: Wall21, dtype: int64\n",
      "4\n",
      "B    28\n",
      "A    21\n",
      "C    21\n",
      "D    17\n",
      "Name: CATEGORY, dtype: int64\n"
     ]
    }
   ],
   "source": [
    "print(df.shape[0])\n",
    "for x in df.columns:\n",
    "    if df[x].dtype=='object' and df[x].nunique()!= df.shape[0]:\n",
    "        print(df[x].nunique())\n",
    "        print(df[x].value_counts())"
   ]
  },
  {
   "cell_type": "code",
   "execution_count": 349,
   "metadata": {},
   "outputs": [],
   "source": [
    "df.drop(columns=['id','Name','Marathon'],inplace=True)"
   ]
  },
  {
   "cell_type": "code",
   "execution_count": 350,
   "metadata": {},
   "outputs": [
    {
     "data": {
      "text/html": [
       "<div>\n",
       "<style scoped>\n",
       "    .dataframe tbody tr th:only-of-type {\n",
       "        vertical-align: middle;\n",
       "    }\n",
       "\n",
       "    .dataframe tbody tr th {\n",
       "        vertical-align: top;\n",
       "    }\n",
       "\n",
       "    .dataframe thead th {\n",
       "        text-align: right;\n",
       "    }\n",
       "</style>\n",
       "<table border=\"1\" class=\"dataframe\">\n",
       "  <thead>\n",
       "    <tr style=\"text-align: right;\">\n",
       "      <th></th>\n",
       "      <th>Category</th>\n",
       "      <th>km4week</th>\n",
       "      <th>sp4week</th>\n",
       "      <th>CrossTraining</th>\n",
       "      <th>Wall21</th>\n",
       "      <th>MarathonTime</th>\n",
       "      <th>CATEGORY</th>\n",
       "    </tr>\n",
       "  </thead>\n",
       "  <tbody>\n",
       "    <tr>\n",
       "      <th>0</th>\n",
       "      <td>MAM</td>\n",
       "      <td>132.8</td>\n",
       "      <td>14.434783</td>\n",
       "      <td>NaN</td>\n",
       "      <td>1.16</td>\n",
       "      <td>2.37</td>\n",
       "      <td>A</td>\n",
       "    </tr>\n",
       "    <tr>\n",
       "      <th>1</th>\n",
       "      <td>MAM</td>\n",
       "      <td>68.6</td>\n",
       "      <td>13.674419</td>\n",
       "      <td>NaN</td>\n",
       "      <td>1.23</td>\n",
       "      <td>2.59</td>\n",
       "      <td>A</td>\n",
       "    </tr>\n",
       "    <tr>\n",
       "      <th>2</th>\n",
       "      <td>MAM</td>\n",
       "      <td>82.7</td>\n",
       "      <td>13.520436</td>\n",
       "      <td>NaN</td>\n",
       "      <td>1.30</td>\n",
       "      <td>2.66</td>\n",
       "      <td>A</td>\n",
       "    </tr>\n",
       "    <tr>\n",
       "      <th>3</th>\n",
       "      <td>M45</td>\n",
       "      <td>137.5</td>\n",
       "      <td>12.258544</td>\n",
       "      <td>NaN</td>\n",
       "      <td>1.32</td>\n",
       "      <td>2.68</td>\n",
       "      <td>A</td>\n",
       "    </tr>\n",
       "    <tr>\n",
       "      <th>4</th>\n",
       "      <td>MAM</td>\n",
       "      <td>84.6</td>\n",
       "      <td>13.945055</td>\n",
       "      <td>NaN</td>\n",
       "      <td>1.36</td>\n",
       "      <td>2.74</td>\n",
       "      <td>A</td>\n",
       "    </tr>\n",
       "  </tbody>\n",
       "</table>\n",
       "</div>"
      ],
      "text/plain": [
       "  Category  km4week    sp4week CrossTraining Wall21  MarathonTime CATEGORY\n",
       "0      MAM    132.8  14.434783           NaN   1.16          2.37        A\n",
       "1      MAM     68.6  13.674419           NaN   1.23          2.59        A\n",
       "2      MAM     82.7  13.520436           NaN   1.30          2.66        A\n",
       "3      M45    137.5  12.258544           NaN   1.32          2.68        A\n",
       "4      MAM     84.6  13.945055           NaN   1.36          2.74        A"
      ]
     },
     "execution_count": 350,
     "metadata": {},
     "output_type": "execute_result"
    }
   ],
   "source": [
    "df.head()"
   ]
  },
  {
   "cell_type": "code",
   "execution_count": 351,
   "metadata": {},
   "outputs": [
    {
     "data": {
      "text/html": [
       "<div>\n",
       "<style scoped>\n",
       "    .dataframe tbody tr th:only-of-type {\n",
       "        vertical-align: middle;\n",
       "    }\n",
       "\n",
       "    .dataframe tbody tr th {\n",
       "        vertical-align: top;\n",
       "    }\n",
       "\n",
       "    .dataframe thead th {\n",
       "        text-align: right;\n",
       "    }\n",
       "</style>\n",
       "<table border=\"1\" class=\"dataframe\">\n",
       "  <thead>\n",
       "    <tr style=\"text-align: right;\">\n",
       "      <th></th>\n",
       "      <th>km4week</th>\n",
       "      <th>sp4week</th>\n",
       "      <th>MarathonTime</th>\n",
       "    </tr>\n",
       "  </thead>\n",
       "  <tbody>\n",
       "    <tr>\n",
       "      <th>count</th>\n",
       "      <td>87.000000</td>\n",
       "      <td>87.000000</td>\n",
       "      <td>87.000000</td>\n",
       "    </tr>\n",
       "    <tr>\n",
       "      <th>mean</th>\n",
       "      <td>62.347126</td>\n",
       "      <td>139.840706</td>\n",
       "      <td>3.319080</td>\n",
       "    </tr>\n",
       "    <tr>\n",
       "      <th>std</th>\n",
       "      <td>26.956019</td>\n",
       "      <td>1191.427864</td>\n",
       "      <td>0.376923</td>\n",
       "    </tr>\n",
       "    <tr>\n",
       "      <th>min</th>\n",
       "      <td>17.900000</td>\n",
       "      <td>8.031414</td>\n",
       "      <td>2.370000</td>\n",
       "    </tr>\n",
       "    <tr>\n",
       "      <th>25%</th>\n",
       "      <td>44.200000</td>\n",
       "      <td>11.498168</td>\n",
       "      <td>3.045000</td>\n",
       "    </tr>\n",
       "    <tr>\n",
       "      <th>50%</th>\n",
       "      <td>58.800000</td>\n",
       "      <td>12.163424</td>\n",
       "      <td>3.320000</td>\n",
       "    </tr>\n",
       "    <tr>\n",
       "      <th>75%</th>\n",
       "      <td>77.500000</td>\n",
       "      <td>12.854036</td>\n",
       "      <td>3.605000</td>\n",
       "    </tr>\n",
       "    <tr>\n",
       "      <th>max</th>\n",
       "      <td>137.500000</td>\n",
       "      <td>11125.000000</td>\n",
       "      <td>3.980000</td>\n",
       "    </tr>\n",
       "  </tbody>\n",
       "</table>\n",
       "</div>"
      ],
      "text/plain": [
       "          km4week       sp4week  MarathonTime\n",
       "count   87.000000     87.000000     87.000000\n",
       "mean    62.347126    139.840706      3.319080\n",
       "std     26.956019   1191.427864      0.376923\n",
       "min     17.900000      8.031414      2.370000\n",
       "25%     44.200000     11.498168      3.045000\n",
       "50%     58.800000     12.163424      3.320000\n",
       "75%     77.500000     12.854036      3.605000\n",
       "max    137.500000  11125.000000      3.980000"
      ]
     },
     "execution_count": 351,
     "metadata": {},
     "output_type": "execute_result"
    }
   ],
   "source": [
    "df.describe()"
   ]
  },
  {
   "cell_type": "code",
   "execution_count": 352,
   "metadata": {},
   "outputs": [
    {
     "data": {
      "text/plain": [
       "Category          6\n",
       "km4week           0\n",
       "sp4week           0\n",
       "CrossTraining    74\n",
       "Wall21            0\n",
       "MarathonTime      0\n",
       "CATEGORY          0\n",
       "dtype: int64"
      ]
     },
     "execution_count": 352,
     "metadata": {},
     "output_type": "execute_result"
    }
   ],
   "source": [
    "df.isna().sum()"
   ]
  },
  {
   "cell_type": "code",
   "execution_count": 353,
   "metadata": {},
   "outputs": [],
   "source": [
    "df.drop(columns=['CrossTraining'],inplace=True)"
   ]
  },
  {
   "cell_type": "code",
   "execution_count": 354,
   "metadata": {},
   "outputs": [
    {
     "data": {
      "text/html": [
       "<div>\n",
       "<style scoped>\n",
       "    .dataframe tbody tr th:only-of-type {\n",
       "        vertical-align: middle;\n",
       "    }\n",
       "\n",
       "    .dataframe tbody tr th {\n",
       "        vertical-align: top;\n",
       "    }\n",
       "\n",
       "    .dataframe thead th {\n",
       "        text-align: right;\n",
       "    }\n",
       "</style>\n",
       "<table border=\"1\" class=\"dataframe\">\n",
       "  <thead>\n",
       "    <tr style=\"text-align: right;\">\n",
       "      <th></th>\n",
       "      <th>Category</th>\n",
       "      <th>km4week</th>\n",
       "      <th>sp4week</th>\n",
       "      <th>Wall21</th>\n",
       "      <th>MarathonTime</th>\n",
       "      <th>CATEGORY</th>\n",
       "    </tr>\n",
       "  </thead>\n",
       "  <tbody>\n",
       "    <tr>\n",
       "      <th>0</th>\n",
       "      <td>MAM</td>\n",
       "      <td>132.8</td>\n",
       "      <td>14.434783</td>\n",
       "      <td>1.16</td>\n",
       "      <td>2.37</td>\n",
       "      <td>A</td>\n",
       "    </tr>\n",
       "    <tr>\n",
       "      <th>1</th>\n",
       "      <td>MAM</td>\n",
       "      <td>68.6</td>\n",
       "      <td>13.674419</td>\n",
       "      <td>1.23</td>\n",
       "      <td>2.59</td>\n",
       "      <td>A</td>\n",
       "    </tr>\n",
       "    <tr>\n",
       "      <th>2</th>\n",
       "      <td>MAM</td>\n",
       "      <td>82.7</td>\n",
       "      <td>13.520436</td>\n",
       "      <td>1.30</td>\n",
       "      <td>2.66</td>\n",
       "      <td>A</td>\n",
       "    </tr>\n",
       "    <tr>\n",
       "      <th>3</th>\n",
       "      <td>M45</td>\n",
       "      <td>137.5</td>\n",
       "      <td>12.258544</td>\n",
       "      <td>1.32</td>\n",
       "      <td>2.68</td>\n",
       "      <td>A</td>\n",
       "    </tr>\n",
       "    <tr>\n",
       "      <th>4</th>\n",
       "      <td>MAM</td>\n",
       "      <td>84.6</td>\n",
       "      <td>13.945055</td>\n",
       "      <td>1.36</td>\n",
       "      <td>2.74</td>\n",
       "      <td>A</td>\n",
       "    </tr>\n",
       "  </tbody>\n",
       "</table>\n",
       "</div>"
      ],
      "text/plain": [
       "  Category  km4week    sp4week Wall21  MarathonTime CATEGORY\n",
       "0      MAM    132.8  14.434783   1.16          2.37        A\n",
       "1      MAM     68.6  13.674419   1.23          2.59        A\n",
       "2      MAM     82.7  13.520436   1.30          2.66        A\n",
       "3      M45    137.5  12.258544   1.32          2.68        A\n",
       "4      MAM     84.6  13.945055   1.36          2.74        A"
      ]
     },
     "execution_count": 354,
     "metadata": {},
     "output_type": "execute_result"
    }
   ],
   "source": [
    "df.head()"
   ]
  },
  {
   "cell_type": "code",
   "execution_count": 355,
   "metadata": {},
   "outputs": [],
   "source": [
    "from sklearn.preprocessing import LabelEncoder\n",
    "labelencoder_Y = LabelEncoder()\n",
    "df['Category'] = labelencoder_Y.fit_transform(list(df['Category']))"
   ]
  },
  {
   "cell_type": "code",
   "execution_count": 356,
   "metadata": {},
   "outputs": [],
   "source": [
    "df['CATEGORY'] = labelencoder_Y.fit_transform(df['CATEGORY'])"
   ]
  },
  {
   "cell_type": "code",
   "execution_count": 357,
   "metadata": {},
   "outputs": [
    {
     "data": {
      "text/html": [
       "<div>\n",
       "<style scoped>\n",
       "    .dataframe tbody tr th:only-of-type {\n",
       "        vertical-align: middle;\n",
       "    }\n",
       "\n",
       "    .dataframe tbody tr th {\n",
       "        vertical-align: top;\n",
       "    }\n",
       "\n",
       "    .dataframe thead th {\n",
       "        text-align: right;\n",
       "    }\n",
       "</style>\n",
       "<table border=\"1\" class=\"dataframe\">\n",
       "  <thead>\n",
       "    <tr style=\"text-align: right;\">\n",
       "      <th></th>\n",
       "      <th>Category</th>\n",
       "      <th>km4week</th>\n",
       "      <th>sp4week</th>\n",
       "      <th>Wall21</th>\n",
       "      <th>MarathonTime</th>\n",
       "      <th>CATEGORY</th>\n",
       "    </tr>\n",
       "  </thead>\n",
       "  <tbody>\n",
       "    <tr>\n",
       "      <th>0</th>\n",
       "      <td>4</td>\n",
       "      <td>132.8</td>\n",
       "      <td>14.434783</td>\n",
       "      <td>1.16</td>\n",
       "      <td>2.37</td>\n",
       "      <td>0</td>\n",
       "    </tr>\n",
       "    <tr>\n",
       "      <th>1</th>\n",
       "      <td>4</td>\n",
       "      <td>68.6</td>\n",
       "      <td>13.674419</td>\n",
       "      <td>1.23</td>\n",
       "      <td>2.59</td>\n",
       "      <td>0</td>\n",
       "    </tr>\n",
       "    <tr>\n",
       "      <th>2</th>\n",
       "      <td>4</td>\n",
       "      <td>82.7</td>\n",
       "      <td>13.520436</td>\n",
       "      <td>1.30</td>\n",
       "      <td>2.66</td>\n",
       "      <td>0</td>\n",
       "    </tr>\n",
       "    <tr>\n",
       "      <th>3</th>\n",
       "      <td>1</td>\n",
       "      <td>137.5</td>\n",
       "      <td>12.258544</td>\n",
       "      <td>1.32</td>\n",
       "      <td>2.68</td>\n",
       "      <td>0</td>\n",
       "    </tr>\n",
       "    <tr>\n",
       "      <th>4</th>\n",
       "      <td>4</td>\n",
       "      <td>84.6</td>\n",
       "      <td>13.945055</td>\n",
       "      <td>1.36</td>\n",
       "      <td>2.74</td>\n",
       "      <td>0</td>\n",
       "    </tr>\n",
       "  </tbody>\n",
       "</table>\n",
       "</div>"
      ],
      "text/plain": [
       "   Category  km4week    sp4week Wall21  MarathonTime  CATEGORY\n",
       "0         4    132.8  14.434783   1.16          2.37         0\n",
       "1         4     68.6  13.674419   1.23          2.59         0\n",
       "2         4     82.7  13.520436   1.30          2.66         0\n",
       "3         1    137.5  12.258544   1.32          2.68         0\n",
       "4         4     84.6  13.945055   1.36          2.74         0"
      ]
     },
     "execution_count": 357,
     "metadata": {},
     "output_type": "execute_result"
    }
   ],
   "source": [
    "df.head()"
   ]
  },
  {
   "cell_type": "code",
   "execution_count": 358,
   "metadata": {},
   "outputs": [],
   "source": [
    "import numpy as np\n",
    "df['Wall21']=df['Wall21'].replace(' -   ',np.NaN)"
   ]
  },
  {
   "cell_type": "code",
   "execution_count": 359,
   "metadata": {},
   "outputs": [
    {
     "data": {
      "text/plain": [
       "Category        0\n",
       "km4week         0\n",
       "sp4week         0\n",
       "Wall21          6\n",
       "MarathonTime    0\n",
       "CATEGORY        0\n",
       "dtype: int64"
      ]
     },
     "execution_count": 359,
     "metadata": {},
     "output_type": "execute_result"
    }
   ],
   "source": [
    "df.isna().sum()"
   ]
  },
  {
   "cell_type": "code",
   "execution_count": 360,
   "metadata": {},
   "outputs": [],
   "source": [
    "X=df.iloc[:,:].values\n",
    "from sklearn.preprocessing import Imputer\n",
    "imputer = Imputer(missing_values = 'NaN', strategy = 'mean', axis = 0)\n",
    "imputer.fit(df[['Wall21']])\n",
    "df['Wall21']=imputer.transform(df[['Wall21']]).ravel()"
   ]
  },
  {
   "cell_type": "code",
   "execution_count": 361,
   "metadata": {},
   "outputs": [
    {
     "data": {
      "text/plain": [
       "Category        0\n",
       "km4week         0\n",
       "sp4week         0\n",
       "Wall21          0\n",
       "MarathonTime    0\n",
       "CATEGORY        0\n",
       "dtype: int64"
      ]
     },
     "execution_count": 361,
     "metadata": {},
     "output_type": "execute_result"
    }
   ],
   "source": [
    "df.isna().sum()"
   ]
  },
  {
   "cell_type": "code",
   "execution_count": 362,
   "metadata": {},
   "outputs": [
    {
     "data": {
      "text/html": [
       "<div>\n",
       "<style scoped>\n",
       "    .dataframe tbody tr th:only-of-type {\n",
       "        vertical-align: middle;\n",
       "    }\n",
       "\n",
       "    .dataframe tbody tr th {\n",
       "        vertical-align: top;\n",
       "    }\n",
       "\n",
       "    .dataframe thead th {\n",
       "        text-align: right;\n",
       "    }\n",
       "</style>\n",
       "<table border=\"1\" class=\"dataframe\">\n",
       "  <thead>\n",
       "    <tr style=\"text-align: right;\">\n",
       "      <th></th>\n",
       "      <th>Category</th>\n",
       "      <th>km4week</th>\n",
       "      <th>sp4week</th>\n",
       "      <th>Wall21</th>\n",
       "      <th>MarathonTime</th>\n",
       "      <th>CATEGORY</th>\n",
       "    </tr>\n",
       "  </thead>\n",
       "  <tbody>\n",
       "    <tr>\n",
       "      <th>count</th>\n",
       "      <td>87.000000</td>\n",
       "      <td>87.000000</td>\n",
       "      <td>87.000000</td>\n",
       "      <td>87.000000</td>\n",
       "      <td>87.000000</td>\n",
       "      <td>87.000000</td>\n",
       "    </tr>\n",
       "    <tr>\n",
       "      <th>mean</th>\n",
       "      <td>2.850575</td>\n",
       "      <td>62.347126</td>\n",
       "      <td>139.840706</td>\n",
       "      <td>1.630617</td>\n",
       "      <td>3.319080</td>\n",
       "      <td>1.390805</td>\n",
       "    </tr>\n",
       "    <tr>\n",
       "      <th>std</th>\n",
       "      <td>1.889560</td>\n",
       "      <td>26.956019</td>\n",
       "      <td>1191.427864</td>\n",
       "      <td>0.203014</td>\n",
       "      <td>0.376923</td>\n",
       "      <td>1.060455</td>\n",
       "    </tr>\n",
       "    <tr>\n",
       "      <th>min</th>\n",
       "      <td>0.000000</td>\n",
       "      <td>17.900000</td>\n",
       "      <td>8.031414</td>\n",
       "      <td>1.160000</td>\n",
       "      <td>2.370000</td>\n",
       "      <td>0.000000</td>\n",
       "    </tr>\n",
       "    <tr>\n",
       "      <th>25%</th>\n",
       "      <td>1.000000</td>\n",
       "      <td>44.200000</td>\n",
       "      <td>11.498168</td>\n",
       "      <td>1.490000</td>\n",
       "      <td>3.045000</td>\n",
       "      <td>1.000000</td>\n",
       "    </tr>\n",
       "    <tr>\n",
       "      <th>50%</th>\n",
       "      <td>4.000000</td>\n",
       "      <td>58.800000</td>\n",
       "      <td>12.163424</td>\n",
       "      <td>1.630617</td>\n",
       "      <td>3.320000</td>\n",
       "      <td>1.000000</td>\n",
       "    </tr>\n",
       "    <tr>\n",
       "      <th>75%</th>\n",
       "      <td>4.000000</td>\n",
       "      <td>77.500000</td>\n",
       "      <td>12.854036</td>\n",
       "      <td>1.755000</td>\n",
       "      <td>3.605000</td>\n",
       "      <td>2.000000</td>\n",
       "    </tr>\n",
       "    <tr>\n",
       "      <th>max</th>\n",
       "      <td>6.000000</td>\n",
       "      <td>137.500000</td>\n",
       "      <td>11125.000000</td>\n",
       "      <td>2.050000</td>\n",
       "      <td>3.980000</td>\n",
       "      <td>3.000000</td>\n",
       "    </tr>\n",
       "  </tbody>\n",
       "</table>\n",
       "</div>"
      ],
      "text/plain": [
       "        Category     km4week       sp4week     Wall21  MarathonTime   CATEGORY\n",
       "count  87.000000   87.000000     87.000000  87.000000     87.000000  87.000000\n",
       "mean    2.850575   62.347126    139.840706   1.630617      3.319080   1.390805\n",
       "std     1.889560   26.956019   1191.427864   0.203014      0.376923   1.060455\n",
       "min     0.000000   17.900000      8.031414   1.160000      2.370000   0.000000\n",
       "25%     1.000000   44.200000     11.498168   1.490000      3.045000   1.000000\n",
       "50%     4.000000   58.800000     12.163424   1.630617      3.320000   1.000000\n",
       "75%     4.000000   77.500000     12.854036   1.755000      3.605000   2.000000\n",
       "max     6.000000  137.500000  11125.000000   2.050000      3.980000   3.000000"
      ]
     },
     "execution_count": 362,
     "metadata": {},
     "output_type": "execute_result"
    }
   ],
   "source": [
    "df.describe()"
   ]
  },
  {
   "cell_type": "code",
   "execution_count": 363,
   "metadata": {},
   "outputs": [],
   "source": [
    "import numpy as np\n",
    "\n",
    "def outliers_iqr(x):\n",
    "    q1 = x.quantile(.25)\n",
    "    q3 = x.quantile(.75)\n",
    "    iqr = q3 - q1\n",
    "    floor = q1 - 1.5*iqr\n",
    "    ceiling = q3 + 1.5*iqr\n",
    "    outlier_indices = list(x.index[(x < floor) | (x > ceiling)])\n",
    "    outlier_values = list(x[outlier_indices])\n",
    "    return outlier_indices, outlier_values"
   ]
  },
  {
   "cell_type": "code",
   "execution_count": 364,
   "metadata": {},
   "outputs": [
    {
     "name": "stdout",
     "output_type": "stream",
     "text": [
      "km4week [0, 3, 26] [132.8, 137.5, 129.6]\n",
      "sp4week [15, 19, 76, 81] [14.970491800000001, 8.031413613, 8.337931034, 11125.0]\n"
     ]
    }
   ],
   "source": [
    "for x in df.columns:\n",
    "    #print(x,outliers_iqr(df[x]))\n",
    "    ind,val=outliers_iqr(df[x])\n",
    "    if ind!=[]:\n",
    "        print(x,ind,val)\n",
    "        #df.drop(index=ind,inplace=True)\n",
    "        df[x+'_log']=np.log(df[x])"
   ]
  },
  {
   "cell_type": "code",
   "execution_count": 365,
   "metadata": {},
   "outputs": [
    {
     "data": {
      "image/png": "[encoded data removed]",
      "text/plain": [
       "<Figure size 432x288 with 9 Axes>"
      ]
     },
     "metadata": {},
     "output_type": "display_data"
    }
   ],
   "source": [
    "import matplotlib.pyplot as plt\n",
    "%matplotlib inline\n",
    "df.hist()\n",
    "plt.show()"
   ]
  },
  {
   "cell_type": "code",
   "execution_count": 366,
   "metadata": {},
   "outputs": [
    {
     "name": "stdout",
     "output_type": "stream",
     "text": [
      "Category ([], [])\n",
      "km4week ([0, 3, 26], [132.8, 137.5, 129.6])\n",
      "sp4week ([15, 19, 76, 81], [14.970491800000001, 8.031413613, 8.337931034, 11125.0])\n",
      "Wall21 ([], [])\n",
      "MarathonTime ([], [])\n",
      "CATEGORY ([], [])\n",
      "km4week_log ([86], [2.884800712846709])\n",
      "sp4week_log ([19, 76, 81], [2.0833605539346784, 2.1208151081363193, 9.31695010703444])\n"
     ]
    }
   ],
   "source": [
    "for x in df.columns:\n",
    "    print(x,outliers_iqr(df[x]))"
   ]
  },
  {
   "cell_type": "code",
   "execution_count": 367,
   "metadata": {},
   "outputs": [
    {
     "name": "stdout",
     "output_type": "stream",
     "text": [
      "              Category   km4week   sp4week    Wall21  MarathonTime  CATEGORY  \\\n",
      "Category      1.000000 -0.015795  0.065961  0.035439      0.064457  0.093314   \n",
      "km4week      -0.015795  1.000000 -0.107429 -0.557308     -0.606782 -0.545770   \n",
      "sp4week       0.065961 -0.107429  1.000000  0.223452      0.172294  0.164002   \n",
      "Wall21        0.035439 -0.557308  0.223452  1.000000      0.943831  0.896190   \n",
      "MarathonTime  0.064457 -0.606782  0.172294  0.943831      1.000000  0.958870   \n",
      "CATEGORY      0.093314 -0.545770  0.164002  0.896190      0.958870  1.000000   \n",
      "km4week_log  -0.019585  0.961266 -0.111027 -0.564315     -0.606526 -0.562454   \n",
      "sp4week_log   0.062676 -0.081972  0.990302  0.143309      0.090334  0.087221   \n",
      "\n",
      "              km4week_log  sp4week_log  \n",
      "Category        -0.019585     0.062676  \n",
      "km4week          0.961266    -0.081972  \n",
      "sp4week         -0.111027     0.990302  \n",
      "Wall21          -0.564315     0.143309  \n",
      "MarathonTime    -0.606526     0.090334  \n",
      "CATEGORY        -0.562454     0.087221  \n",
      "km4week_log      1.000000    -0.085109  \n",
      "sp4week_log     -0.085109     1.000000  \n"
     ]
    },
    {
     "data": {
      "image/png": "[encoded data removed]",
      "text/plain": [
       "<Figure size 432x288 with 2 Axes>"
      ]
     },
     "metadata": {},
     "output_type": "display_data"
    }
   ],
   "source": [
    "cor = df.corr()\n",
    "print(cor)\n",
    "fig = plt.figure()\n",
    "ax = fig.add_subplot(111)\n",
    "cax = ax.matshow(cor, vmin=-1, vmax =1)\n",
    "fig.colorbar(cax)\n",
    "ticks=np.arange(0,df.shape[1],1)\n",
    "ax.set_xticks(ticks)\n",
    "ax.set_yticks(ticks)\n",
    "plt.show()"
   ]
  },
  {
   "cell_type": "code",
   "execution_count": 368,
   "metadata": {},
   "outputs": [
    {
     "data": {
      "text/plain": [
       "array([[<matplotlib.axes._subplots.AxesSubplot object at 0x000001FB085EF518>,\n",
       "        <matplotlib.axes._subplots.AxesSubplot object at 0x000001FB086DF828>,\n",
       "        <matplotlib.axes._subplots.AxesSubplot object at 0x000001FB08708B38>],\n",
       "       [<matplotlib.axes._subplots.AxesSubplot object at 0x000001FB08733E48>,\n",
       "        <matplotlib.axes._subplots.AxesSubplot object at 0x000001FB08769198>,\n",
       "        <matplotlib.axes._subplots.AxesSubplot object at 0x000001FB087691D0>],\n",
       "       [<matplotlib.axes._subplots.AxesSubplot object at 0x000001FB087BB7B8>,\n",
       "        <matplotlib.axes._subplots.AxesSubplot object at 0x000001FB087E5AC8>,\n",
       "        <matplotlib.axes._subplots.AxesSubplot object at 0x000001FB0855A3C8>]],\n",
       "      dtype=object)"
      ]
     },
     "execution_count": 368,
     "metadata": {},
     "output_type": "execute_result"
    },
    {
     "data": {
      "image/png": "[encoded data removed]",
      "text/plain": [
       "<Figure size 792x792 with 9 Axes>"
      ]
     },
     "metadata": {},
     "output_type": "display_data"
    }
   ],
   "source": [
    "df[df.dtypes[(df.dtypes==\"float64\")|(df.dtypes==\"int64\")].index.values].hist(figsize=[11,11])"
   ]
  },
  {
   "cell_type": "code",
   "execution_count": 369,
   "metadata": {},
   "outputs": [
    {
     "data": {
      "text/plain": [
       "Index(['Category', 'km4week', 'sp4week', 'Wall21', 'MarathonTime', 'CATEGORY',\n",
       "       'km4week_log', 'sp4week_log'],\n",
       "      dtype='object')"
      ]
     },
     "execution_count": 369,
     "metadata": {},
     "output_type": "execute_result"
    }
   ],
   "source": [
    "df.columns"
   ]
  },
  {
   "cell_type": "code",
   "execution_count": 370,
   "metadata": {},
   "outputs": [],
   "source": [
    "a=['Category', 'Wall21', 'CATEGORY','km4week_log', 'sp4week_log']"
   ]
  },
  {
   "cell_type": "code",
   "execution_count": 371,
   "metadata": {},
   "outputs": [],
   "source": [
    "X=df[a]\n",
    "Y=df['MarathonTime']"
   ]
  },
  {
   "cell_type": "code",
   "execution_count": 372,
   "metadata": {},
   "outputs": [],
   "source": [
    "from sklearn.model_selection import train_test_split\n",
    "X_train, X_test, Y_train, Y_test = train_test_split(X, Y, random_state=123)"
   ]
  },
  {
   "cell_type": "code",
   "execution_count": 373,
   "metadata": {},
   "outputs": [
    {
     "data": {
      "text/plain": [
       "4     2.74\n",
       "84    3.94\n",
       "56    3.50\n",
       "35    3.22\n",
       "45    3.33\n",
       "28    3.15\n",
       "71    3.69\n",
       "53    3.47\n",
       "80    3.90\n",
       "23    3.09\n",
       "60    3.55\n",
       "8     2.83\n",
       "51    3.45\n",
       "81    3.92\n",
       "29    3.16\n",
       "54    3.47\n",
       "72    3.69\n",
       "58    3.52\n",
       "37    3.24\n",
       "38    3.24\n",
       "79    3.90\n",
       "59    3.52\n",
       "Name: MarathonTime, dtype: float64"
      ]
     },
     "execution_count": 373,
     "metadata": {},
     "output_type": "execute_result"
    }
   ],
   "source": [
    "Y_test"
   ]
  },
  {
   "cell_type": "code",
   "execution_count": 374,
   "metadata": {},
   "outputs": [],
   "source": [
    "from sklearn.linear_model import LinearRegression\n",
    "linreg = LinearRegression()\n",
    "linreg.fit(X_train, Y_train)\n",
    "Y_train_pred=linreg.predict(X_train)\n",
    "Y_pred = linreg.predict(X_test)"
   ]
  },
  {
   "cell_type": "code",
   "execution_count": 375,
   "metadata": {},
   "outputs": [
    {
     "name": "stdout",
     "output_type": "stream",
     "text": [
      "2.2919038654097186\n",
      "[-0.00446922  0.86167868  0.17191684 -0.05237496 -0.15831062]\n"
     ]
    }
   ],
   "source": [
    "print(linreg.intercept_)\n",
    "print(linreg.coef_)"
   ]
  },
  {
   "cell_type": "code",
   "execution_count": 376,
   "metadata": {},
   "outputs": [
    {
     "name": "stdout",
     "output_type": "stream",
     "text": [
      "Train MSE: 0.005278349189591451\n",
      "Train RMSE: 0.07265224834505433\n",
      "Test MSE: 0.055118014626469175\n",
      "Test RMSE: 0.23477226119469305\n"
     ]
    }
   ],
   "source": [
    "from sklearn import metrics\n",
    "print('Train MSE:', metrics.mean_squared_error(Y_train, Y_train_pred))\n",
    "print('Train RMSE:', np.sqrt(metrics.mean_squared_error(Y_train, Y_train_pred)))\n",
    "print('Test MSE:', metrics.mean_squared_error(Y_test, Y_pred))\n",
    "print('Test RMSE:', np.sqrt(metrics.mean_squared_error(Y_test,Y_pred)))"
   ]
  },
  {
   "cell_type": "code",
   "execution_count": null,
   "metadata": {},
   "outputs": [],
   "source": []
  }
 ],
 "metadata": {
  "kernelspec": {
   "display_name": "Python 3",
   "language": "python",
   "name": "python3"
  },
  "language_info": {
   "codemirror_mode": {
    "name": "ipython",
    "version": 3
   },
   "file_extension": ".py",
   "mimetype": "text/x-python",
   "name": "python",
   "nbconvert_exporter": "python",
   "pygments_lexer": "ipython3",
   "version": "3.6.5"
  }
 },
 "nbformat": 4,
 "nbformat_minor": 2
}
