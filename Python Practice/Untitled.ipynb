{
 "cells": [
  {
   "cell_type": "code",
   "execution_count": 3,
   "metadata": {},
   "outputs": [
    {
     "name": "stderr",
     "output_type": "stream",
     "text": [
      "C:\\ProgramData\\Anaconda3\\lib\\site-packages\\IPython\\core\\interactiveshell.py:2785: DtypeWarning: Columns (0,3,5,19,20,24,25,26,27,28,36,37,38,39,48) have mixed types. Specify dtype option on import or set low_memory=False.\n",
      "  interactivity=interactivity, compiler=compiler, result=result)\n"
     ]
    }
   ],
   "source": [
    "import pandas as pd\n",
    "import numpy as np\n",
    "import matplotlib.pyplot as plt\n",
    "\n",
    "world_food_facts = pd.read_csv(r'C:\\Users\\explo\\Downloads\\en.openfoodfacts.org.products.tsv',sep='\\t')\n",
    "world_food_facts.countries = world_food_facts.countries.str.lower()\n",
    "    \n",
    "def mean(l):\n",
    "    return float(sum(l)) / len(l)\n",
    "\n",
    "world_sodium = world_food_facts[world_food_facts.sodium_100g.notnull()]\n",
    "\n",
    "def return_sodium(country):\n",
    "    return world_sodium[world_sodium.countries == country].sodium_100g.tolist()\n",
    "    \n",
    "# Get list of sodium per 100g for some countries\n",
    "fr_sodium = return_sodium('france') + return_sodium('en:fr')\n",
    "za_sodium = return_sodium('south africa')\n",
    "uk_sodium = return_sodium('united kingdom') + return_sodium('en:gb')\n",
    "us_sodium = return_sodium('united states') + return_sodium('en:us') + return_sodium('us')\n",
    "sp_sodium = return_sodium('spain') + return_sodium('españa') + return_sodium('en:es')\n",
    "ch_sodium = return_sodium('china')\n",
    "nd_sodium = return_sodium('netherlands') + return_sodium('holland')\n",
    "au_sodium = return_sodium('australia') + return_sodium('en:au')\n",
    "jp_sodium = return_sodium('japan') + return_sodium('en:jp')\n",
    "de_sodium = return_sodium('germany')\n",
    "in_sodium = return_sodium('india')\n",
    "\n",
    "countries = ['FR', 'ZA', 'UK', 'USA', 'ES', 'CH', 'ND', 'AU', 'JP', 'DE','IN']\n",
    "sodium_l = [mean(fr_sodium), \n",
    "            mean(za_sodium), \n",
    "            mean(uk_sodium), \n",
    "            mean(us_sodium), \n",
    "            mean(sp_sodium), \n",
    "            mean(ch_sodium),\n",
    "            mean(nd_sodium),\n",
    "            mean(au_sodium),\n",
    "            mean(jp_sodium),\n",
    "            mean(de_sodium),\n",
    "\t\t\tmean(in_sodium)]\n",
    "\n",
    "y_pos = np.arange(len(countries))"
   ]
  },
  {
   "cell_type": "code",
   "execution_count": 4,
   "metadata": {},
   "outputs": [
    {
     "data": {
      "text/plain": [
       "array([ 0,  1,  2,  3,  4,  5,  6,  7,  8,  9, 10])"
      ]
     },
     "execution_count": 4,
     "metadata": {},
     "output_type": "execute_result"
    }
   ],
   "source": [
    "y_pos"
   ]
  },
  {
   "cell_type": "code",
   "execution_count": 5,
   "metadata": {},
   "outputs": [
    {
     "data": {
      "image/png": "[encoded data removed]",
      "text/plain": [
       "<Figure size 432x288 with 1 Axes>"
      ]
     },
     "metadata": {},
     "output_type": "display_data"
    }
   ],
   "source": [
    "plt.bar(y_pos, sodium_l, align='center', alpha=0.5)\n",
    "plt.title('Average sodium content per 100g')\n",
    "plt.xticks(y_pos, countries)\n",
    "plt.ylabel('Sodium/100g')\n",
    "    \n",
    "plt.show()"
   ]
  },
  {
   "cell_type": "code",
   "execution_count": null,
   "metadata": {},
   "outputs": [],
   "source": []
  }
 ],
 "metadata": {
  "kernelspec": {
   "display_name": "Python 3",
   "language": "python",
   "name": "python3"
  },
  "language_info": {
   "codemirror_mode": {
    "name": "ipython",
    "version": 3
   },
   "file_extension": ".py",
   "mimetype": "text/x-python",
   "name": "python",
   "nbconvert_exporter": "python",
   "pygments_lexer": "ipython3",
   "version": "3.6.5"
  }
 },
 "nbformat": 4,
 "nbformat_minor": 2
}
