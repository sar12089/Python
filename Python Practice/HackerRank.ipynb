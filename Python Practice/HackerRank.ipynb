{
 "cells": [
  {
   "cell_type": "code",
   "execution_count": null,
   "metadata": {},
   "outputs": [],
   "source": [
    "from functools import reduce\n",
    "ar_count = int(input())\n",
    "result = reduce(lambda x,y:x+y,list(map(int, input().rstrip().split())))\n",
    "print(result)"
   ]
  },
  {
   "cell_type": "code",
   "execution_count": null,
   "metadata": {},
   "outputs": [],
   "source": [
    "a=list(map(int, input().rstrip().split()))\n",
    "b=list(map(int, input().rstrip().split()))\n",
    "c=0\n",
    "d=0\n",
    "for val in range(len(a)):\n",
    "    if a[val]>=1 and a[val]<=100 and b[val]>=1 and b[val]<=100:\n",
    "        if a[val]>b[val]:\n",
    "            c=c+1\n",
    "        elif a[val]<b[val]:\n",
    "            d=d+1\n",
    "print(c,d)"
   ]
  },
  {
   "cell_type": "code",
   "execution_count": 1,
   "metadata": {},
   "outputs": [
    {
     "name": "stdout",
     "output_type": "stream",
     "text": [
      "2\n"
     ]
    },
    {
     "ename": "NameError",
     "evalue": "name 'reduce' is not defined",
     "output_type": "error",
     "traceback": [
      "\u001b[1;31m---------------------------------------------------------------------------\u001b[0m",
      "\u001b[1;31mNameError\u001b[0m                                 Traceback (most recent call last)",
      "\u001b[1;32m<ipython-input-1-5b37ee4d90e6>\u001b[0m in \u001b[0;36m<module>\u001b[1;34m()\u001b[0m\n\u001b[0;32m      3\u001b[0m \u001b[0mar_count\u001b[0m \u001b[1;33m=\u001b[0m \u001b[0mint\u001b[0m\u001b[1;33m(\u001b[0m\u001b[0minput\u001b[0m\u001b[1;33m(\u001b[0m\u001b[1;33m)\u001b[0m\u001b[1;33m)\u001b[0m\u001b[1;33m\u001b[0m\u001b[0m\n\u001b[0;32m      4\u001b[0m \u001b[1;32mif\u001b[0m \u001b[0mar_count\u001b[0m\u001b[1;33m>=\u001b[0m\u001b[1;36m1\u001b[0m \u001b[1;32mand\u001b[0m \u001b[0mar_count\u001b[0m\u001b[1;33m<=\u001b[0m\u001b[1;36m10\u001b[0m\u001b[1;33m:\u001b[0m\u001b[1;33m\u001b[0m\u001b[0m\n\u001b[1;32m----> 5\u001b[1;33m     \u001b[0mresult\u001b[0m \u001b[1;33m=\u001b[0m \u001b[0mreduce\u001b[0m\u001b[1;33m(\u001b[0m\u001b[1;32mlambda\u001b[0m \u001b[0mx\u001b[0m\u001b[1;33m,\u001b[0m\u001b[0my\u001b[0m\u001b[1;33m:\u001b[0m\u001b[0mx\u001b[0m\u001b[1;33m+\u001b[0m\u001b[0my\u001b[0m\u001b[1;33m,\u001b[0m\u001b[0mfilter\u001b[0m\u001b[1;33m(\u001b[0m\u001b[1;32mlambda\u001b[0m \u001b[0mx\u001b[0m\u001b[1;33m:\u001b[0m\u001b[0mx\u001b[0m\u001b[1;33m<\u001b[0m\u001b[0mmath\u001b[0m\u001b[1;33m.\u001b[0m\u001b[0mpow\u001b[0m\u001b[1;33m(\u001b[0m\u001b[1;36m10\u001b[0m\u001b[1;33m,\u001b[0m\u001b[1;36m10\u001b[0m\u001b[1;33m)\u001b[0m\u001b[1;33m,\u001b[0m \u001b[0mlist\u001b[0m\u001b[1;33m(\u001b[0m\u001b[0mmap\u001b[0m\u001b[1;33m(\u001b[0m\u001b[0mint\u001b[0m\u001b[1;33m,\u001b[0m \u001b[0minput\u001b[0m\u001b[1;33m(\u001b[0m\u001b[1;33m)\u001b[0m\u001b[1;33m.\u001b[0m\u001b[0mrstrip\u001b[0m\u001b[1;33m(\u001b[0m\u001b[1;33m)\u001b[0m\u001b[1;33m.\u001b[0m\u001b[0msplit\u001b[0m\u001b[1;33m(\u001b[0m\u001b[1;33m)\u001b[0m\u001b[1;33m)\u001b[0m\u001b[1;33m)\u001b[0m\u001b[1;33m)\u001b[0m\u001b[1;33m)\u001b[0m\u001b[1;33m\u001b[0m\u001b[0m\n\u001b[0m\u001b[0;32m      6\u001b[0m \u001b[0mprint\u001b[0m\u001b[1;33m(\u001b[0m\u001b[0mresult\u001b[0m\u001b[1;33m)\u001b[0m\u001b[1;33m\u001b[0m\u001b[0m\n",
      "\u001b[1;31mNameError\u001b[0m: name 'reduce' is not defined"
     ]
    }
   ],
   "source": [
    "#\n",
    "import math\n",
    "ar_count = int(input())\n",
    "if ar_count>=1 and ar_count<=10:\n",
    "    result = reduce(lambda x,y:x+y,filter(lambda x:x<math.pow(10,10), list(map(int, input().rstrip().split()))))\n",
    "print(result)"
   ]
  },
  {
   "cell_type": "code",
   "execution_count": null,
   "metadata": {
    "scrolled": true
   },
   "outputs": [],
   "source": [
    "##Diagonal\n",
    "ar_count = int(input())\n",
    "a=[]\n",
    "suma=0\n",
    "sumb=0\n",
    "for i in range(ar_count):\n",
    "    a.insert(i,list(map(int, input().rstrip().split())))\n",
    "    if len(a[i])==ar_count and len(list(filter(lambda x:x>=-100 and x<=100,a[i])))==ar_count:\n",
    "        suma=suma+a[i][i]\n",
    "        sumb=sumb+a[i][len(a[i])-(i+1)]\n",
    "    else:\n",
    "        print(\"Enter values correctly\")\n",
    "        break\n",
    "print(abs(suma-sumb))"
   ]
  },
  {
   "cell_type": "code",
   "execution_count": null,
   "metadata": {},
   "outputs": [],
   "source": [
    "#PlusMinus\n",
    "ar_count = int(input())\n",
    "sump,sumz,sumn=0,0,0\n",
    "if ar_count>0 and ar_count<=100:    \n",
    "    a=list(map(int, input().rstrip().split()))\n",
    "    if len(a)==ar_count and len(list(filter(lambda x:x>=-100 and x<=100,a)))==ar_count:\n",
    "        for i in a:\n",
    "            if i>0:\n",
    "                sump=sump+1\n",
    "            elif i==0:\n",
    "                sumz=sumz+1\n",
    "            else:\n",
    "                sumn=sumn+1\n",
    "        \n",
    "        print(str(round(sump/len(a),6)).ljust(8,'0'),str(round(sumn/len(a),6)).ljust(8,'0'),str(round(sumz/len(a),6)).ljust(8,'0'),sep=\"\\n\")\n",
    "    else:\n",
    "         print(\"Enter values correctly\")"
   ]
  },
  {
   "cell_type": "code",
   "execution_count": null,
   "metadata": {},
   "outputs": [],
   "source": [
    "#StairCase\n",
    "ar_count = int(input())\n",
    "for i in range(ar_count):\n",
    "    print(str(\"\").ljust(i+1,\"#\").rjust(ar_count,\" \"))"
   ]
  },
  {
   "cell_type": "code",
   "execution_count": null,
   "metadata": {},
   "outputs": [],
   "source": [
    "from functools import reduce\n",
    "a=list(map(int, input().rstrip().split()))\n",
    "a.sort()\n",
    "if len(a)==len(list(filter(lambda x:x>=1 and x<=pow(10,9),a))):\n",
    "    print(reduce(lambda x,y:x+y,a)-a[len(a)-1],reduce(lambda x,y:x+y,a)-a[0])\n",
    "else:\n",
    "     print(\"Enter values correctly\")"
   ]
  },
  {
   "cell_type": "code",
   "execution_count": 2,
   "metadata": {},
   "outputs": [
    {
     "name": "stdout",
     "output_type": "stream",
     "text": [
      "2\n",
      "1\n",
      "Enter values correctly\n"
     ]
    }
   ],
   "source": [
    "#Birthday Cake\n",
    "ar_count = int(input())\n",
    "if ar_count>0 and ar_count<=pow(10,5):\n",
    "    a=list(map(int, input().rstrip().split()))\n",
    "    if len(a)==ar_count and len(list(filter(lambda x:x>=1 and x<=pow(10,7),a)))==ar_count:\n",
    "        print(a.count(max(a)))\n",
    "    else:\n",
    "        print(\"Enter values correctly\")\n",
    "else:\n",
    "     print(\"Enter values correctly\")"
   ]
  },
  {
   "cell_type": "code",
   "execution_count": null,
   "metadata": {},
   "outputs": [],
   "source": [
    "#TimeConversion12to24\n",
    "from time import strptime, strftime\n",
    "print (strftime(\"%H:%M:%S\", strptime(input(), \"%I:%M:%S%p\")))"
   ]
  },
  {
   "cell_type": "code",
   "execution_count": null,
   "metadata": {},
   "outputs": [],
   "source": [
    "#Mark\n",
    "ar_count = int(input())\n",
    "a=[]\n",
    "if ar_count>0 and ar_count<=60:\n",
    "    for i in range(ar_count):\n",
    "        a.insert(i,int(input().rstrip())) \n",
    "    if len(a)==ar_count and len(list(filter(lambda x:x>=0 and x<=100,a)))==ar_count:\n",
    "        for i in range(len(a)):\n",
    "            if a[i]>=38 and (a[i]%5)>=3 and (a[i]%5)!=0 :\n",
    "                a[i]= (int(a[i]/5)+1)*5\n",
    "            print(a[i])"
   ]
  },
  {
   "cell_type": "code",
   "execution_count": null,
   "metadata": {},
   "outputs": [],
   "source": [
    "st = input().split()\n",
    "s = int(st[0])\n",
    "t = int(st[1])\n",
    "ab = input().split()\n",
    "a = int(ab[0])\n",
    "b = int(ab[1])\n",
    "mn = input().split()\n",
    "m = int(mn[0])\n",
    "n = int(mn[1])\n",
    "apples = list(map(int, input().rstrip().split()))\n",
    "oranges = list(map(int, input().rstrip().split()))\n",
    "app,org=0,0\n",
    "if a<s and s<t and t<b and s>=1 and s<=pow(10,5) and t>=1 and t<=pow(10,5) and a>=1 and a<=pow(10,5) and b>=1 and b<=pow(10,5) and m>=1 and m<=pow(10,5) and n>=1 and n<=pow(10,5) and m==len(apples) and m==len(list(filter(lambda x:x>=pow(-10,5) and x<=pow(10,5),apples))) and n==len(oranges) and n==len(list(filter(lambda x:x>=pow(-10,5) and x<=pow(10,5),oranges))):\n",
    "    for i in apples:\n",
    "        if i+a>=s and i+a<=t:\n",
    "            app=app+1\n",
    "    print(app)\n",
    "    for j in oranges:\n",
    "        if j+b>=s and j+b<=t:\n",
    "            org=org+1\n",
    "    print(org)"
   ]
  },
  {
   "cell_type": "code",
   "execution_count": null,
   "metadata": {},
   "outputs": [],
   "source": [
    "x1V1X2V2 = input().split()\n",
    "x1 = int(x1V1X2V2[0])\n",
    "v1 = int(x1V1X2V2[1])\n",
    "x2 = int(x1V1X2V2[2])\n",
    "v2 = int(x1V1X2V2[3])\n",
    "xy='Y'\n",
    "res='Yes'\n",
    "cntr=0\n",
    "if x1>=0 and x1<=10000 and x2>=0 and x2<=10000 and v1>=1 and v1<=10000 and v2>=1 and v2<=10000:\n",
    "    while (xy=='Y'):\n",
    "        if x2>=x1 and v2>v1:\n",
    "            res='No'\n",
    "            #print('No')\n",
    "            break\n",
    "        else:\n",
    "            cntr=cntr+1\n",
    "            #print(cntr)\n",
    "            #print(x1,v1,x2,v2)\n",
    "            if x1+v1==x2+v2:\n",
    "                res='Yes'\n",
    "                break\n",
    "            else:\n",
    "                x1=x1+v1\n",
    "                x2=x2+v2\n",
    "                xy='Y'\n",
    "    print(res)"
   ]
  },
  {
   "cell_type": "code",
   "execution_count": null,
   "metadata": {},
   "outputs": [],
   "source": [
    "N = int(input())\n",
    "if 1<N<100:\n",
    "    if (N%2)==1:\n",
    "        print(\"Weird\")\n",
    "    elif 2<=N<=5:\n",
    "        print(\"Not Weird\")\n",
    "    elif 6<=N<=20:\n",
    "        print(\"Weird\")\n",
    "    else:\n",
    "        print(\"Not Weird\")"
   ]
  },
  {
   "cell_type": "code",
   "execution_count": null,
   "metadata": {},
   "outputs": [],
   "source": [
    "class Person:\n",
    "    def __init__(self,initialAge):\n",
    "        # Add some more code to run some checks on initialAge\n",
    "        self.initialAge=initialAge\n",
    "        if self.initialAge<0:\n",
    "            self.initialAge=0\n",
    "            print(\"Age is not valid, setting age to 0.\")\n",
    "            \n",
    "    def amIOld(self):\n",
    "        if 0<= self.initialAge<13:\n",
    "            print(\"You are young.\")\n",
    "        elif 13<=self.initialAge<18:\n",
    "            print(\"You are a teenager.\")\n",
    "        else:\n",
    "            print(\"You are old.\")\n",
    "        # Do some computations in here and print out the correct statement to the console\n",
    "    def yearPasses(self):\n",
    "         self.initialAge+=1\n",
    "        # Increment the age of the person in here\n",
    "t = int(input())\n",
    "for i in range(0, t):\n",
    "    age = int(input())         \n",
    "    p = Person(age)  \n",
    "    p.amIOld()\n",
    "    for j in range(0, 3):\n",
    "        p.yearPasses()       \n",
    "    p.amIOld()\n",
    "    print(\"\")"
   ]
  },
  {
   "cell_type": "code",
   "execution_count": null,
   "metadata": {},
   "outputs": [],
   "source": [
    "t=int(input())\n",
    "if 1<=t<=10:\n",
    "    for i in range(0,t):\n",
    "        a=str(input())\n",
    "        if 2<=len(a)<=10000:\n",
    "            print(a[::2]+' '+a[1::2])"
   ]
  },
  {
   "cell_type": "code",
   "execution_count": null,
   "metadata": {},
   "outputs": [],
   "source": [
    "import math\n",
    "a=dict()\n",
    "ar_count = int(input())\n",
    "if 1<=ar_count<=pow(10,5):\n",
    "    for i in range(ar_count):\n",
    "        st=list(input().rstrip().split())\n",
    "        a[st[0]]=st[1]\n",
    "    for i in range(ar_count):\n",
    "        q=input()\n",
    "        if q in a:\n",
    "            print(\"{0}={1}\".format(q,a[q]))\n",
    "        else:\n",
    "            print(\"Not found\")"
   ]
  },
  {
   "cell_type": "code",
   "execution_count": null,
   "metadata": {},
   "outputs": [],
   "source": [
    "from functools import reduce\n",
    "n=int(input())\n",
    "a=range(1,n+1)\n",
    "print(reduce(lambda x,y:x*y,a))"
   ]
  },
  {
   "cell_type": "code",
   "execution_count": null,
   "metadata": {},
   "outputs": [],
   "source": [
    "def factorial(n):\n",
    "    n=n*factorial(n)\n",
    "n = int(input())\n",
    "print(factorial(n))"
   ]
  },
  {
   "cell_type": "code",
   "execution_count": 3,
   "metadata": {},
   "outputs": [
    {
     "name": "stdout",
     "output_type": "stream",
     "text": [
      "5\n",
      "['1', '0', '1']\n",
      "[['1' '1']\n",
      " ['0' '1']\n",
      " ['1' '1']]\n"
     ]
    },
    {
     "ename": "TypeError",
     "evalue": "ufunc 'multiply' did not contain a loop with signature matching types dtype('<U1') dtype('<U1') dtype('<U1')",
     "output_type": "error",
     "traceback": [
      "\u001b[1;31m---------------------------------------------------------------------------\u001b[0m",
      "\u001b[1;31mTypeError\u001b[0m                                 Traceback (most recent call last)",
      "\u001b[1;32m<ipython-input-3-738214d902e6>\u001b[0m in \u001b[0;36m<module>\u001b[1;34m()\u001b[0m\n\u001b[0;32m      7\u001b[0m \u001b[0ma\u001b[0m\u001b[1;33m=\u001b[0m\u001b[0mnp\u001b[0m\u001b[1;33m.\u001b[0m\u001b[0marray\u001b[0m\u001b[1;33m(\u001b[0m\u001b[0mgrouped_L\u001b[0m\u001b[1;33m)\u001b[0m\u001b[1;33m\u001b[0m\u001b[0m\n\u001b[0;32m      8\u001b[0m \u001b[0mprint\u001b[0m\u001b[1;33m(\u001b[0m\u001b[0ma\u001b[0m\u001b[1;33m)\u001b[0m\u001b[1;33m\u001b[0m\u001b[0m\n\u001b[1;32m----> 9\u001b[1;33m \u001b[0mprint\u001b[0m\u001b[1;33m(\u001b[0m\u001b[0mmax\u001b[0m\u001b[1;33m(\u001b[0m\u001b[0ma\u001b[0m\u001b[1;33m[\u001b[0m\u001b[1;33m:\u001b[0m\u001b[1;33m,\u001b[0m\u001b[1;36m0\u001b[0m\u001b[1;33m]\u001b[0m\u001b[1;33m*\u001b[0m\u001b[0ma\u001b[0m\u001b[1;33m[\u001b[0m\u001b[1;33m:\u001b[0m\u001b[1;33m,\u001b[0m\u001b[1;36m1\u001b[0m\u001b[1;33m]\u001b[0m\u001b[1;33m)\u001b[0m\u001b[1;33m)\u001b[0m\u001b[1;33m\u001b[0m\u001b[0m\n\u001b[0m",
      "\u001b[1;31mTypeError\u001b[0m: ufunc 'multiply' did not contain a loop with signature matching types dtype('<U1') dtype('<U1') dtype('<U1')"
     ]
    }
   ],
   "source": [
    "from itertools import groupby\n",
    "import numpy as np\n",
    "N=list(str(bin(int(input()))))\n",
    "L=N[2:]\n",
    "print(L)\n",
    "grouped_L = [(k, sum(1 for i in g)) for k,g in groupby(L)]\n",
    "a=np.array(grouped_L)\n",
    "print(a)\n",
    "print(max(a[:,0]*a[:,1]))"
   ]
  },
  {
   "cell_type": "code",
   "execution_count": null,
   "metadata": {},
   "outputs": [],
   "source": [
    "from itertools import groupby\n",
    "import math\n",
    "n=int(input())\n",
    "if 1<=n<=pow(10,6):\n",
    "    N=list(str(bin(n)))\n",
    "    N=N[2:]\n",
    "    grouped_L = [(k, sum(1 for i in g)) for k,g in groupby(N)]\n",
    "    res=[]\n",
    "    for i in range(len(grouped_L)):\n",
    "        res.append(int(grouped_L[i][0])*grouped_L[i][1])\n",
    "    print(max(res))"
   ]
  },
  {
   "cell_type": "code",
   "execution_count": null,
   "metadata": {},
   "outputs": [],
   "source": [
    "def count_substring(string, sub_string):\n",
    "    l=len(sub_string)\n",
    "    count=0\n",
    "    for i in range(len(string)-len(sub_string)+1):\n",
    "        if (string[i:i+len(sub_string)] == sub_string ):\n",
    "            count+=1\n",
    "    return count\n",
    "\n",
    "if __name__ == '__main__':\n",
    "    string = input().strip()\n",
    "    sub_string = input().strip()    \n",
    "    count = count_substring(string, sub_string)\n",
    "    print(count)"
   ]
  },
  {
   "cell_type": "code",
   "execution_count": null,
   "metadata": {},
   "outputs": [],
   "source": [
    "import numpy as np\n",
    "l=list(map(int,input().rstrip().split()))\n",
    "L=np.array([l])\n",
    "if L.size==9:\n",
    "    print(np.reshape(L,(3,3)))"
   ]
  },
  {
   "cell_type": "code",
   "execution_count": null,
   "metadata": {},
   "outputs": [],
   "source": [
    "import numpy as np\n",
    "nm=list(map(int,input().rstrip().split()))\n",
    "n=nm[0]\n",
    "m=nm[1]\n",
    "a=np.array([], dtype=int)\n",
    "for i in range(n):\n",
    "    a=np.append(a,list(map(int,input().rstrip().split())))\n",
    "a=a.reshape(n,m)\n",
    "#print(a)\n",
    "b=a.transpose()\n",
    "print(b)\n",
    "c=a.flatten()\n",
    "print(c)"
   ]
  },
  {
   "cell_type": "code",
   "execution_count": 5,
   "metadata": {},
   "outputs": [
    {
     "name": "stdout",
     "output_type": "stream",
     "text": [
      "2 2 2\n",
      "1 2\n",
      "3 4\n",
      "5 6\n",
      "6 7\n",
      "[[1 2]\n",
      " [3 4]\n",
      " [5 6]\n",
      " [6 7]]\n"
     ]
    }
   ],
   "source": [
    "import numpy as np\n",
    "N, M, P = [int(x) for x in input().strip().split()]\n",
    "a, b = map(lambda x: np.array([input().strip().split() for i in range(int(x))], int), [N, M])\n",
    "if np.shape(a)==(N,P) and  np.shape(b)==(M,P):\n",
    "    print(np.concatenate((a, b), axis = 0))"
   ]
  },
  {
   "cell_type": "markdown",
   "metadata": {},
   "source": [
    "import numpy as np\n",
    "N, M, P = [int(x) for x in input().strip().split()]\n",
    "print(np.zeros((N,M,P), dtype = np.int))\n",
    "print(np.ones((N,M,P), dtype = np.int))"
   ]
  },
  {
   "cell_type": "code",
   "execution_count": null,
   "metadata": {},
   "outputs": [],
   "source": [
    "import numpy as np\n",
    "nums = tuple(map(int, input().split()))\n",
    "if len(tuple(filter(lambda x:1<=x<=3, nums)))==len(nums):\n",
    "    print (np.zeros(nums, dtype = np.int))\n",
    "    print (np.ones(nums, dtype = np.int))"
   ]
  },
  {
   "cell_type": "code",
   "execution_count": null,
   "metadata": {},
   "outputs": [],
   "source": [
    "import numpy\n",
    "print(numpy.eye(8, 7, k = -1) )"
   ]
  },
  {
   "cell_type": "code",
   "execution_count": null,
   "metadata": {},
   "outputs": [],
   "source": [
    "import numpy as np\n",
    "N, M = map(int, input().strip().split())\n",
    "a, b = map(lambda x: np.array([input().strip().split() for i in range(int(x))], int), [N, N])\n",
    "if a.size==N*M and b.size==N*M:\n",
    "    print(a+b, a-b, a*b, a//b, a%b, a**b, sep='\\n')"
   ]
  },
  {
   "cell_type": "code",
   "execution_count": null,
   "metadata": {},
   "outputs": [],
   "source": [
    "k,m=[int(x) for x in input().rstrip().split()]\n",
    "x=0\n",
    "cal='N'\n",
    "if 1<=k<=7 and 1<=m<=1000:\n",
    "    for i in range(k):\n",
    "        a=sorted(list(map(abs,map(int,input().rstrip().split()))))\n",
    "        if 1<=len(a)<=7:\n",
    "            x=x+pow(a[-1],2)\n",
    "            calc='Y'\n",
    "        else:\n",
    "            calc='N'\n",
    "            break\n",
    "    if calc=='Y':\n",
    "        print(x%m)\n",
    "    "
   ]
  },
  {
   "cell_type": "code",
   "execution_count": null,
   "metadata": {},
   "outputs": [],
   "source": [
    "from itertools import product\n",
    "K,M = map(int,input().split())\n",
    "N = (list(map(int, input().split()))[1:] for _ in range(K))\n",
    "X=list(product(*N)) #Product will iterate all the combinations. uncomment below line and see what it produce\n",
    "#print(X)\n",
    "results = map(lambda x: sum(i**2 for i in x)%M, X)\n",
    "#print(list(results))\n",
    "print(max(results))"
   ]
  },
  {
   "cell_type": "code",
   "execution_count": null,
   "metadata": {},
   "outputs": [],
   "source": [
    "print(list(x for x in range(70,81)))"
   ]
  },
  {
   "cell_type": "code",
   "execution_count": null,
   "metadata": {},
   "outputs": [],
   "source": [
    "import numpy as np\n",
    "arr=np.array(input().strip().split(),float)\n",
    "print(str(np.floor(arr)).replace('.', '. ').replace('[', '[ ').replace('. ]', '.]'),\n",
    "      str(np.ceil(arr)).replace('.', '. ').replace('[', '[ ').replace('. ]', '.]'),\n",
    "      str(np.rint(arr)).replace('.', '. ').replace('[', '[ ').replace('. ]', '.]'), sep = \"\\n\")"
   ]
  },
  {
   "cell_type": "code",
   "execution_count": null,
   "metadata": {},
   "outputs": [],
   "source": [
    "arr = []\n",
    "for _ in range(6):\n",
    "    arr.append(list(map(int, input().rstrip().split())))"
   ]
  },
  {
   "cell_type": "code",
   "execution_count": null,
   "metadata": {},
   "outputs": [],
   "source": [
    "print(arr)\n",
    "arr[0][0:3]"
   ]
  },
  {
   "cell_type": "code",
   "execution_count": null,
   "metadata": {},
   "outputs": [],
   "source": [
    "sumx=[]\n",
    "a=0\n",
    "for i in range(4):\n",
    "    for j in range(4):\n",
    "        a=sum(arr[i][j:j+3])\n",
    "        a+=arr[i+1][j+1]\n",
    "        a+=sum(arr[i+2][j:j+3])\n",
    "        sumx.append(a)\n",
    "max(sumx)"
   ]
  },
  {
   "cell_type": "code",
   "execution_count": null,
   "metadata": {},
   "outputs": [],
   "source": [
    "arr = []\n",
    "for _ in range(6):\n",
    "    arr.append(list(map(int, input().rstrip().split())))\n",
    "sumx=[]\n",
    "a=0\n",
    "for i in range(4):\n",
    "    for j in range(4):\n",
    "        a=sum(arr[i][j:j+3])\n",
    "        a+=arr[i+1][j+1]\n",
    "        a+=sum(arr[i+2][j:j+3])\n",
    "        sumx.append(a)\n",
    "max(sumx)"
   ]
  },
  {
   "cell_type": "code",
   "execution_count": null,
   "metadata": {},
   "outputs": [],
   "source": [
    "class Person:\n",
    "\tdef __init__(self, firstName, lastName, idNumber):\n",
    "\t\tself.firstName = firstName\n",
    "\t\tself.lastName = lastName\n",
    "\t\tself.idNumber = idNumber\n",
    "\tdef printPerson(self):\n",
    "\t\tprint(\"Name:\", self.lastName + \",\", self.firstName)\n",
    "\t\tprint(\"ID:\", self.idNumber)"
   ]
  },
  {
   "cell_type": "code",
   "execution_count": null,
   "metadata": {},
   "outputs": [],
   "source": [
    "class Student(Person, object):\n",
    "    def __init__(self, firstName, lastName, idNumber, scores):\n",
    "        super().__init__(firstName, lastName, idNumber)\n",
    "        self.scores = scores\n",
    "    def calculate(self):\n",
    "        iAvg = sum(self.scores)/len(self.scores)\n",
    "        return 'O' if iAvg > 89 else 'E' if iAvg > 79 else 'A' if iAvg > 69 else 'P' if iAvg > 54 else 'D' if iAvg > 39 else 'T'\n",
    "    print_object = print\n",
    "\n",
    "    def print(*items_to_print):\n",
    "        if 'Grade: ' in items_to_print:\n",
    "            items_to_print = map(str, items_to_print)\n",
    "            \n",
    "            print_object(''.join(items_to_print))\n",
    "        else:\n",
    "            print_object(*items_to_print)"
   ]
  },
  {
   "cell_type": "code",
   "execution_count": null,
   "metadata": {},
   "outputs": [],
   "source": [
    "line = input().split()\n",
    "firstName = line[0]\n",
    "lastName = line[1]\n",
    "idNum = line[2]\n",
    "numScores = int(input()) # not needed for Python\n",
    "scores = list( map(int, input().split()) )\n",
    "s = Student(firstName, lastName, idNum, scores)\n",
    "s.printPerson()\n",
    "print(\"Grade:\", s.calculate())"
   ]
  },
  {
   "cell_type": "code",
   "execution_count": null,
   "metadata": {},
   "outputs": [],
   "source": []
  }
 ],
 "metadata": {
  "kernelspec": {
   "display_name": "Python 3",
   "language": "python",
   "name": "python3"
  },
  "language_info": {
   "codemirror_mode": {
    "name": "ipython",
    "version": 3
   },
   "file_extension": ".py",
   "mimetype": "text/x-python",
   "name": "python",
   "nbconvert_exporter": "python",
   "pygments_lexer": "ipython3",
   "version": "3.6.5"
  }
 },
 "nbformat": 4,
 "nbformat_minor": 2
}
