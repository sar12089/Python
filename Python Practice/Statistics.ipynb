{
 "cells": [
  {
   "cell_type": "code",
   "execution_count": 9,
   "metadata": {},
   "outputs": [
    {
     "name": "stdout",
     "output_type": "stream",
     "text": [
      "2\n",
      "Enter the type:\n",
      "\t0 - Population\n",
      "\t1 - Sample\t - 1\n",
      "Enter the dataset name (Key): A\n",
      "Enter the values separated by SPACE: 25 40 38 48 51 35 100 25 15 20 21 25 35 40 7 12 25 40 42 56\n",
      "Dataset:  [7, 12, 15, 20, 21, 25, 25, 25, 25, 35, 35, 38, 40, 40, 40, 42, 48, 51, 56, 100]\n",
      "\tSum:  700\n",
      "\tMean:  35.0\n",
      "\tMedian: 35.0\n",
      "\tRange:  93\n",
      "\tVariance:  408.3157894736842\n",
      "\tStandard Deviation:  20.206825319027338\n",
      "\tQuartile Q1:  25\n",
      "\tQuartile Q3:  42\n",
      "\tIQR:  17\n",
      "\t1.5 IQR:  25.5\n",
      "\tCoefficient of Variation 57.733787\n",
      "\tLower Limit:  -0.5\n",
      "\tUpper Limit:  67.5\n",
      "Enter the dataset name (Key): B\n",
      "Enter the values separated by SPACE: 0 25 22 38 25 45 51 60 62 93 68 63 42 9 3 5 20 14 18 37\n",
      "Dataset:  [0, 3, 5, 9, 14, 18, 20, 22, 25, 25, 37, 38, 42, 45, 51, 60, 62, 63, 68, 93]\n",
      "\tSum:  700\n",
      "\tMean:  35.0\n",
      "\tMedian: 31.0\n",
      "\tRange:  93\n",
      "\tVariance:  639.8947368421053\n",
      "\tStandard Deviation:  25.296140749966295\n",
      "\tQuartile Q1:  18\n",
      "\tQuartile Q3:  60\n",
      "\tIQR:  42\n",
      "\t1.5 IQR:  63.0\n",
      "\tCoefficient of Variation 72.274688\n",
      "\tLower Limit:  -45.0\n",
      "\tUpper Limit:  123.0\n",
      "Enter the two dataset names to find covariance & correlation A B\n",
      "Covariance of A and B: 10.631578947368421\n",
      "Correlation coefficient between A and B: 0.02079914163336487\n"
     ]
    }
   ],
   "source": [
    "from functools import reduce\n",
    "import math\n",
    "a=dict()\n",
    "ar_count = int(input())\n",
    "stat={1:'sample',0:'population'}\n",
    "stat_in=int(input(\"Enter the type:\\n\\t0 - Population\\n\\t1 - Sample\\t - \"))\n",
    "dats=[]\n",
    "for i in range(ar_count):\n",
    "    dat=input(\"Enter the dataset name (Key): \".format(i))\n",
    "    dats.insert(i,dat)\n",
    "    a[\"Datasetname\"]=dats\n",
    "    b=list(map(int, input(\"Enter the values separated by SPACE: \").rstrip().split()))\n",
    "    a[dat+'unsort']=b\n",
    "    #Sort the data\n",
    "    a[dat]=sorted(b)\n",
    "    print(\"Dataset: \",a[dat])\n",
    "    #Sum of the values in the data set\n",
    "    a[dat+'sum'] = reduce(lambda x,y:x+y,a[dat])\n",
    "    print(\"\\tSum: \",a[dat+'sum'])\n",
    "    #Mean of the values in the data set\n",
    "    a[dat+'mean'] = reduce(lambda x,y:x+y,a[dat])/len(a[dat])\n",
    "    print(\"\\tMean: \",a[dat+'mean'])\n",
    "    #Median of the values in the data set\n",
    "    mod=len(a[dat])%2\n",
    "    if mod==1:\n",
    "        a[dat+'meadian']=a[dat][int(len(a[dat])/2)]\n",
    "        print(\"\\tMedian: \",a[dat+'meadian'])\n",
    "    else:\n",
    "        med=int(len(a[dat])/2)\n",
    "        a[dat+'meadian']=(a[dat][med-1]+a[dat][med])/2\n",
    "        print(\"\\tMedian:\", a[dat+'meadian'])\n",
    "    #Range of dataset\n",
    "    a[dat+'range']=a[dat][len(a[dat])-1]-a[dat][0]\n",
    "    print(\"\\tRange: \",a[dat+'range'])\n",
    "    #Variance of the dataset\n",
    "    var=0\n",
    "    for i in a[dat]:\n",
    "        var=var+pow(i-a[dat+'mean'],2)\n",
    "    a[dat+'var']=var/(len(a[dat])-stat_in)\n",
    "    print(\"\\tVariance: \",a[dat+'var'])\n",
    "    #Standard Deviation\n",
    "    a[dat+'SD']=math.sqrt(a[dat+'var'])\n",
    "    print(\"\\tStandard Deviation: \",a[dat+'SD'])\n",
    "    #Quartiles\n",
    "    a[dat+'Q1']=a[dat][int(0.25*len(a[dat]))]\n",
    "    a[dat+'Q3']=a[dat][int(0.75*len(a[dat]))]\n",
    "    print(\"\\tQuartile Q1: \",a[dat+'Q1'])\n",
    "    print(\"\\tQuartile Q3: \",a[dat+'Q3'])\n",
    "    #Inter QUartiles (IQR)\n",
    "    a[dat+'IQR']=a[dat+'Q3']-a[dat+'Q1']\n",
    "    print(\"\\tIQR: \",a[dat+'IQR'])\n",
    "    #1.5 IQR\n",
    "    a[dat+'1.5IQR']=1.5*a[dat+'IQR']\n",
    "    print(\"\\t1.5 IQR: \",a[dat+'1.5IQR'])\n",
    "    #Coefficient of Variation\n",
    "    print(\"\\tCoefficient of Variation\",round((a[dat+'SD']/a[dat+'mean'])*100,6))\n",
    "    print(\"\\tLower Limit: \",a[dat+'Q1']-a[dat+'1.5IQR'])\n",
    "    print(\"\\tUpper Limit: \",a[dat+'Q3']+a[dat+'1.5IQR'])\n",
    "st = input(\"Enter the two dataset names to find covariance & correlation \").split()\n",
    "s = st[0]\n",
    "t = st[1]\n",
    "covnum=0\n",
    "for j in range(min(len(a[s]),len(a[t]))):\n",
    "    covnum=covnum+((a[s+'unsort'][j]-a[s+'mean'])*(a[t+'unsort'][j]-a[t+'mean']))\n",
    "cov=covnum/(min(len(a[s]),len(a[t]))-stat_in)\n",
    "print(\"Covariance of {0} and {1}: {2}\".format(s,t,cov))\n",
    "cocov=cov/(a[s+'SD']*a[t+'SD'])\n",
    "print(\"Correlation coefficient between {0} and {1}: {2}\".format(s,t,cocov))"
   ]
  },
  {
   "cell_type": "code",
   "execution_count": 16,
   "metadata": {},
   "outputs": [
    {
     "name": "stdout",
     "output_type": "stream",
     "text": [
      "A B\n",
      "Covariance of A and B: 391.4444444444444\n",
      "Correlation coefficient between A and B: 0.9958892122813716\n"
     ]
    }
   ],
   "source": []
  },
  {
   "cell_type": "code",
   "execution_count": null,
   "metadata": {},
   "outputs": [],
   "source": []
  },
  {
   "cell_type": "code",
   "execution_count": null,
   "metadata": {},
   "outputs": [],
   "source": []
  }
 ],
 "metadata": {
  "kernelspec": {
   "display_name": "Python 3",
   "language": "python",
   "name": "python3"
  },
  "language_info": {
   "codemirror_mode": {
    "name": "ipython",
    "version": 3
   },
   "file_extension": ".py",
   "mimetype": "text/x-python",
   "name": "python",
   "nbconvert_exporter": "python",
   "pygments_lexer": "ipython3",
   "version": "3.6.5"
  }
 },
 "nbformat": 4,
 "nbformat_minor": 2
}
