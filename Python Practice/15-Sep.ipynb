{
 "cells": [
  {
   "cell_type": "code",
   "execution_count": 11,
   "metadata": {},
   "outputs": [
    {
     "name": "stdout",
     "output_type": "stream",
     "text": [
      "ParthasARATHI\n",
      "['P', 'a', 'r', 't', 'h', 'a', 's', 'A', 'R', 'A', 'T', 'H', 'I']\n",
      "['P', 'A', 'R', 'A', 'T', 'H', 'I']\n"
     ]
    }
   ],
   "source": [
    "#alpha=['a','b','d','A','B','D','e','F','G','k']\n",
    "\n",
    "alpha=list(input())\n",
    "print(alpha)\n",
    "if len(list(filter (lambda x:x.isupper(),alpha))) >= len(list(filter (lambda x:x.islower(),alpha))):\n",
    "    print(list(filter (lambda x:x.isupper(),alpha)))\n",
    "#elif len(list(filter (lambda x:x.isupper(),alpha))) == len(list(filter (lambda x:x.islower(),alpha))):\n",
    "#    print(alpha)\n",
    "else:\n",
    "    print(list(filter (lambda x:x.islower(),alpha)))"
   ]
  },
  {
   "cell_type": "code",
   "execution_count": 13,
   "metadata": {},
   "outputs": [
    {
     "name": "stdout",
     "output_type": "stream",
     "text": [
      "Mango\n",
      "Starwberry\n",
      "['Mango', 'Starwberry']\n"
     ]
    }
   ],
   "source": [
    "alpha=['applE','Mango','Starwberry','orangE']\n",
    "#for i in alpha:\n",
    "#    if i[0].isupper() and i[len(i)-1].islower():\n",
    "#        print(i)\n",
    "        \n",
    "print(list(filter(lambda x:x[0].isupper() and x[len(x)-1].islower(),alpha)))"
   ]
  },
  {
   "cell_type": "code",
   "execution_count": 50,
   "metadata": {},
   "outputs": [
    {
     "name": "stdout",
     "output_type": "stream",
     "text": [
      "APple\n",
      "['A', 'P', 'p', 'l', 'e']\n",
      "elpPA\n"
     ]
    }
   ],
   "source": [
    "def rev(a):\n",
    "    c=''\n",
    "    print(a)\n",
    "    for i in range(len(a)):\n",
    "        c+=(a[(len(a)-i)-1])\n",
    "    return c\n",
    "\n",
    "alpha=list(input())\n",
    "revalpha=str(rev(alpha))\n",
    "print(revalpha)"
   ]
  },
  {
   "cell_type": "code",
   "execution_count": 62,
   "metadata": {},
   "outputs": [
    {
     "name": "stdout",
     "output_type": "stream",
     "text": [
      "98765\n",
      "56789\n"
     ]
    }
   ],
   "source": [
    "def rev(a):\n",
    "    if a<=9:\n",
    "        return a\n",
    "    else:\n",
    "        print(a%10,end='')\n",
    "        return rev(a//10)\n",
    "a=int(input())\n",
    "print(rev(a))"
   ]
  },
  {
   "cell_type": "code",
   "execution_count": 74,
   "metadata": {},
   "outputs": [
    {
     "name": "stdout",
     "output_type": "stream",
     "text": [
      "1 1 2 3 4 5 5 5 5 5\n",
      "5 5\n"
     ]
    }
   ],
   "source": [
    "a=list(map(int,input().rstrip().split()))\n",
    "c=0\n",
    "d=0\n",
    "for i in a:\n",
    "    if a.count(i)>=c:\n",
    "        c=a.count(i)\n",
    "        d=i\n",
    "print(d,c)"
   ]
  },
  {
   "cell_type": "code",
   "execution_count": 77,
   "metadata": {},
   "outputs": [
    {
     "name": "stdout",
     "output_type": "stream",
     "text": [
      "1 2 2 2 2 2 4 4 4 4 5 6 77 7 7 7 7\n",
      "[(1, 1), (2, 5), (4, 4), (5, 1), (6, 1), (7, 4), (77, 1)]\n"
     ]
    }
   ],
   "source": [
    "from itertools import groupby\n",
    "a=list(map(int,input().rstrip().split()))\n",
    "a=sorted(a)\n",
    "b=[(k, sum(1 for i in g)) for k,g in groupby(a)]\n",
    "print(b)"
   ]
  },
  {
   "cell_type": "code",
   "execution_count": 4,
   "metadata": {},
   "outputs": [
    {
     "name": "stdout",
     "output_type": "stream",
     "text": [
      "Apple\n",
      "['A', 'p', 'p', 'l', 'e']\n"
     ]
    },
    {
     "data": {
      "text/plain": [
       "['e', 'p', 'A']"
      ]
     },
     "execution_count": 4,
     "metadata": {},
     "output_type": "execute_result"
    }
   ],
   "source": [
    "alpha=input()\n",
    "alpha=list(alpha)\n",
    "print(alpha)\n",
    "alpha[::-2]"
   ]
  },
  {
   "cell_type": "code",
   "execution_count": null,
   "metadata": {},
   "outputs": [],
   "source": []
  }
 ],
 "metadata": {
  "kernelspec": {
   "display_name": "Python 3",
   "language": "python",
   "name": "python3"
  },
  "language_info": {
   "codemirror_mode": {
    "name": "ipython",
    "version": 3
   },
   "file_extension": ".py",
   "mimetype": "text/x-python",
   "name": "python",
   "nbconvert_exporter": "python",
   "pygments_lexer": "ipython3",
   "version": "3.6.5"
  }
 },
 "nbformat": 4,
 "nbformat_minor": 2
}
