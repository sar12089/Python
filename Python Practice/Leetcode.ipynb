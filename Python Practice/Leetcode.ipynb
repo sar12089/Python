{
 "cells": [
  {
   "cell_type": "code",
   "execution_count": 3,
   "metadata": {},
   "outputs": [
    {
     "name": "stdout",
     "output_type": "stream",
     "text": [
      "2 3\n"
     ]
    }
   ],
   "source": [
    "nums=[11,15,2,7]\n",
    "target=9\n",
    "for i in range(0,len(nums)):\n",
    "    if (target - nums[i]) in nums[i+1:]:\n",
    "        print(i, nums.index(target - nums[i], i+1, len(nums)))"
   ]
  },
  {
   "cell_type": "code",
   "execution_count": 2,
   "metadata": {},
   "outputs": [],
   "source": [
    "nums.index?"
   ]
  },
  {
   "cell_type": "code",
   "execution_count": 25,
   "metadata": {},
   "outputs": [
    {
     "name": "stdout",
     "output_type": "stream",
     "text": [
      "[-1, 0, 1, 2, -1, -4]\n",
      "[[-1, -1, 2], [-1, 0, 1]]\n"
     ]
    }
   ],
   "source": [
    "nums=[-1,0,1,2,-1,-4]\n",
    "print(nums)\n",
    "target=0\n",
    "a=[]\n",
    "for i in range(len(nums)):\n",
    "    for j in range(len(nums)):\n",
    "        if j==i:\n",
    "            continue\n",
    "        for k in range(len(nums)):\n",
    "            if j==k or i==k:\n",
    "                continue\n",
    "            if nums[i]+nums[j]+nums[k]==0 and sorted([nums[i],nums[j],nums[k]]) not in a:\n",
    "                a.append(sorted([nums[i],nums[j],nums[k]]))\n",
    "print(sorted(a))"
   ]
  },
  {
   "cell_type": "code",
   "execution_count": 30,
   "metadata": {},
   "outputs": [
    {
     "name": "stdout",
     "output_type": "stream",
     "text": [
      "[-4, -1, -1, 0, 1, 2]\n",
      "0 > 0 and -4==2\n",
      "i = 0, l = 1 and r = 5\n",
      "-4+-1+2 = -3\n",
      "l = 2\n",
      "[]\n",
      "-4+-1+2 = -3\n",
      "l = 3\n",
      "[]\n",
      "-4+0+2 = -2\n",
      "l = 4\n",
      "[]\n",
      "-4+1+2 = -1\n",
      "l = 5\n",
      "[]\n",
      "1 > 0 and -1==-4\n",
      "i = 1, l = 2 and r = 5\n",
      "-1+-1+2 = 0\n",
      "2 > 1+1 and -1==-1\n",
      "[[-1, -1, 2]]\n",
      "-1+0+2 = 1\n",
      "r = 4\n",
      "[[-1, -1, 2]]\n",
      "-1+0+1 = 0\n",
      "3 > 1+1 and 0==-1\n",
      "[[-1, -1, 2], [-1, 0, 1]]\n",
      "2 > 0 and -1==-1\n",
      "1st if\n",
      "3 > 0 and 0==-1\n",
      "i = 3, l = 4 and r = 5\n",
      "0+1+2 = 3\n",
      "r = 4\n",
      "[[-1, -1, 2], [-1, 0, 1]]\n"
     ]
    }
   ],
   "source": [
    "nums=[-1,0,1,2,-1,-4]\n",
    "nums.sort()\n",
    "print(nums)\n",
    "rlist=[]\n",
    "for i in range(len(nums)-2):\n",
    "    print(\"{0} > 0 and {1}=={2}\".format(i,nums[i],nums[i-1]))\n",
    "    if(i>0 and nums[i]==nums[i-1]): \n",
    "        print(\"1st if\")\n",
    "        continue\n",
    "    l=i+1\n",
    "    r=len(nums)-1\n",
    "    print(\"i = {2}, l = {0} and r = {1}\".format(l,r,i))\n",
    "    while(l<r):\n",
    "        print(\"{0}+{1}+{2} = {3}\".format(nums[i],nums[l],nums[r],nums[i]+nums[l]+nums[r]))\n",
    "        if(nums[i]+nums[l]+nums[r])>0:\n",
    "            r-=1\n",
    "            print(\"r = {0}\".format(r))\n",
    "        elif(nums[i]+nums[l]+nums[r])<0:\n",
    "            l+=1\n",
    "            print(\"l = {0}\".format(l))\n",
    "        else:\n",
    "            print(\"{0} > {1}+1 and {2}=={3}\".format(l,i,nums[l],nums[l-1]))\n",
    "            if(l>(i+1) and nums[l]==nums[l-1]):\n",
    "                l+=1\n",
    "                print(\"l = {0}\".format(l))\n",
    "                continue\n",
    "            rlist.append([nums[i],nums[l],nums[r]])\n",
    "            l+=1\n",
    "        print(rlist)"
   ]
  },
  {
   "cell_type": "code",
   "execution_count": 32,
   "metadata": {},
   "outputs": [
    {
     "name": "stdout",
     "output_type": "stream",
     "text": [
      "[-4, -1, -1, 0, 1, 2]\n",
      "i = 0, j = 1 and k = 5\n",
      "-4+-1+2 = -3\n",
      "j=2\n",
      "-4+-1+2 = -3\n",
      "j=3\n",
      "-4+0+2 = -2\n",
      "j=4\n",
      "-4+1+2 = -1\n",
      "j=5\n",
      "i = 1, j = 2 and k = 5\n",
      "-1+-1+2 = 0\n",
      "[(-1, -1, 2)]\n",
      "j=3\n",
      "-1+0+2 = 1\n",
      "k=4\n",
      "-1+0+1 = 0\n",
      "[(-1, -1, 2), (-1, 0, 1)]\n",
      "j=4\n",
      "i = 2, j = 3 and k = 5\n",
      "-1+0+2 = 1\n",
      "k=4\n",
      "-1+0+1 = 0\n",
      "[(-1, -1, 2), (-1, 0, 1), (-1, 0, 1)]\n",
      "j=4\n",
      "i = 3, j = 4 and k = 5\n",
      "0+1+2 = 3\n",
      "k=4\n",
      "[(-1, -1, 2), (-1, 0, 1)]\n"
     ]
    }
   ],
   "source": [
    "nums=[-1,0,1,2,-1,-4]\n",
    "nums = sorted(nums) # sorted, O(nlgn)\n",
    "print(nums)\n",
    "ans = []\n",
    "for i in range(len(nums) -2):\n",
    "    j = i+1\n",
    "    k = len(nums) -1 # hence i < j < k\n",
    "    print(\"i = {2}, j = {0} and k = {1}\".format(j,k,i))\n",
    "    while j<k: # if not cross line\n",
    "        print(\"{0}+{1}+{2} = {3}\".format(nums[i],nums[j],nums[k],nums[i]+nums[j]+nums[k]))\n",
    "        temp_sum = nums[i] + nums[j] + nums[k]\n",
    "        if temp_sum == 0:\n",
    "            ans.append((nums[i], nums[j], nums[k]))\n",
    "            print(ans)\n",
    "        if temp_sum > 0: # which means we need smaller sum, move k backward, remember we sort the array\n",
    "            k -= 1\n",
    "            print(\"k={0}\".format(k))\n",
    "        else:\n",
    "            j += 1\n",
    "            print(\"j={0}\".format(j))\n",
    "\n",
    "print(list(set(tuple(ans)))) # I bet this is not the best way to eliminate duplicate solution"
   ]
  },
  {
   "cell_type": "code",
   "execution_count": null,
   "metadata": {},
   "outputs": [],
   "source": []
  }
 ],
 "metadata": {
  "kernelspec": {
   "display_name": "Python 3",
   "language": "python",
   "name": "python3"
  },
  "language_info": {
   "codemirror_mode": {
    "name": "ipython",
    "version": 3
   },
   "file_extension": ".py",
   "mimetype": "text/x-python",
   "name": "python",
   "nbconvert_exporter": "python",
   "pygments_lexer": "ipython3",
   "version": "3.6.5"
  }
 },
 "nbformat": 4,
 "nbformat_minor": 2
}
