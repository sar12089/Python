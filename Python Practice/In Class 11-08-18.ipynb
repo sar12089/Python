{
 "cells": [
  {
   "cell_type": "code",
   "execution_count": 13,
   "metadata": {},
   "outputs": [
    {
     "name": "stdout",
     "output_type": "stream",
     "text": [
      "Enter the number: 4\n",
      "1\n",
      "2\n",
      "6\n",
      "24\n",
      "The Factorial of 4 is: 24 \n"
     ]
    }
   ],
   "source": [
    "inp=int(input(\"Enter the number: \"))\n",
    "if inp<=0:\n",
    "    print(\"{0} is less than or equal to zero\".format(inp))\n",
    "else:\n",
    "    i=1\n",
    "    for val in range(i,inp+1):\n",
    "        i=i*val\n",
    "        print(i)\n",
    "    print(\"The Factorial of {0} is: {1} \".format(inp,i))\n"
   ]
  },
  {
   "cell_type": "code",
   "execution_count": 49,
   "metadata": {},
   "outputs": [
    {
     "name": "stdout",
     "output_type": "stream",
     "text": [
      "Enter the number: 10\n",
      "The Fibonacci Series of  10  is  55\n"
     ]
    }
   ],
   "source": [
    "inp=input(\"Enter the number: \")\n",
    "try:\n",
    "    inp=int(inp)\n",
    "    if inp<0:\n",
    "        print(\"{0} is less than zero\".format(inp))\n",
    "    else:\n",
    "        a=[0,1]\n",
    "        print(\"The Fibonacci Series of \",inp,\" is \",end=\" \")\n",
    "        for val in range(2,inp+1):\n",
    "            a.insert(val,a[val-2]+a[val-1])\n",
    "        print(a[inp])\n",
    "except ValueError:\n",
    "    print(\"'{0}' is not a number/integer\".format(inp))"
   ]
  },
  {
   "cell_type": "code",
   "execution_count": 50,
   "metadata": {},
   "outputs": [
    {
     "name": "stdout",
     "output_type": "stream",
     "text": [
      "Enter the number: 2\n",
      "The Factorial of 2 is: 2 \n"
     ]
    }
   ],
   "source": [
    "from functools import reduce\n",
    "inp=int(input(\"Enter the number: \"))\n",
    "if inp<=0:\n",
    "    print(\"{0} is less than or equal to zero\".format(inp))\n",
    "else:\n",
    "    print(\"The Factorial of {0} is: {1} \".format(inp,reduce(lambda x,y:x*y,list(range(1,inp+1)))))\n"
   ]
  },
  {
   "cell_type": "code",
   "execution_count": 38,
   "metadata": {},
   "outputs": [
    {
     "name": "stdout",
     "output_type": "stream",
     "text": [
      "Enter the number: 3\n",
      "The Factorial of 3 is: 6 \n"
     ]
    }
   ],
   "source": [
    "from functools import reduce\n",
    "inp=int(input(\"Enter the number: \"))\n",
    "if inp<=0:\n",
    "    print(\"{0} is less than or equal to zero\".format(inp))\n",
    "else:\n",
    "    print(\"The Factorial of {0} is: {1} \".format(inp,reduce(lambda x,y:x+y,list(range(inp+1)))))\n"
   ]
  },
  {
   "cell_type": "code",
   "execution_count": 42,
   "metadata": {},
   "outputs": [
    {
     "name": "stdout",
     "output_type": "stream",
     "text": [
      "C:\\Users\\explo\n"
     ]
    }
   ],
   "source": []
  },
  {
   "cell_type": "code",
   "execution_count": null,
   "metadata": {},
   "outputs": [],
   "source": []
  }
 ],
 "metadata": {
  "kernelspec": {
   "display_name": "Python 3",
   "language": "python",
   "name": "python3"
  },
  "language_info": {
   "codemirror_mode": {
    "name": "ipython",
    "version": 3
   },
   "file_extension": ".py",
   "mimetype": "text/x-python",
   "name": "python",
   "nbconvert_exporter": "python",
   "pygments_lexer": "ipython3",
   "version": "3.6.5"
  }
 },
 "nbformat": 4,
 "nbformat_minor": 2
}
